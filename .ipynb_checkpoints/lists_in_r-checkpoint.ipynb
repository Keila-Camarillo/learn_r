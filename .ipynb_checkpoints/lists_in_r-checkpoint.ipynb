{
 "cells": [
  {
   "cell_type": "markdown",
   "id": "eff69ed4",
   "metadata": {},
   "source": [
    "## Initializing a list\n",
    "Lists are initiated using the list(x, y, z) function where x, y, and z are the different objects in the list. We can see the structure of a list using str()"
   ]
  },
  {
   "cell_type": "code",
   "execution_count": 3,
   "id": "689ffe7f",
   "metadata": {},
   "outputs": [
    {
     "name": "stdout",
     "output_type": "stream",
     "text": [
      "List of 4\n",
      " $ : num 5\n",
      " $ : chr \"b\"\n",
      " $ : num [1:2] 0.5 0.25\n",
      " $ :List of 3\n",
      "  ..$ : num 1\n",
      "  ..$ : num 1\n",
      "  ..$ : num 0\n"
     ]
    }
   ],
   "source": [
    "## Initiate list1\n",
    "list1 <- list(5, \"b\", c(0.5, 0.25), list(1,1,0))\n",
    "str(list1)"
   ]
  },
  {
   "cell_type": "markdown",
   "id": "9f30a8f5",
   "metadata": {},
   "source": [
    "Get the contents of an object in a list using double-brackets [[a]] where a is the index of the desired object. If we were to use single brackets [a], R would return the whole object at index a rather than the contents of the object."
   ]
  },
  {
   "cell_type": "code",
   "execution_count": 4,
   "id": "4eeecadd",
   "metadata": {},
   "outputs": [
    {
     "data": {
      "text/html": [
       "<ol>\n",
       "\t<li><style>\n",
       ".list-inline {list-style: none; margin:0; padding: 0}\n",
       ".list-inline>li {display: inline-block}\n",
       ".list-inline>li:not(:last-child)::after {content: \"\\00b7\"; padding: 0 .5ex}\n",
       "</style>\n",
       "<ol class=list-inline><li>0.5</li><li>0.25</li></ol>\n",
       "</li>\n",
       "</ol>\n"
      ],
      "text/latex": [
       "\\begin{enumerate}\n",
       "\\item \\begin{enumerate*}\n",
       "\\item 0.5\n",
       "\\item 0.25\n",
       "\\end{enumerate*}\n",
       "\n",
       "\\end{enumerate}\n"
      ],
      "text/markdown": [
       "1. 1. 0.5\n",
       "2. 0.25\n",
       "\n",
       "\n",
       "\n",
       "\n",
       "\n"
      ],
      "text/plain": [
       "[[1]]\n",
       "[1] 0.50 0.25\n"
      ]
     },
     "metadata": {},
     "output_type": "display_data"
    }
   ],
   "source": [
    "list1[3]"
   ]
  },
  {
   "cell_type": "code",
   "execution_count": 5,
   "id": "a0a62318",
   "metadata": {},
   "outputs": [
    {
     "data": {
      "text/html": [
       "<style>\n",
       ".list-inline {list-style: none; margin:0; padding: 0}\n",
       ".list-inline>li {display: inline-block}\n",
       ".list-inline>li:not(:last-child)::after {content: \"\\00b7\"; padding: 0 .5ex}\n",
       "</style>\n",
       "<ol class=list-inline><li>0.5</li><li>0.25</li></ol>\n"
      ],
      "text/latex": [
       "\\begin{enumerate*}\n",
       "\\item 0.5\n",
       "\\item 0.25\n",
       "\\end{enumerate*}\n"
      ],
      "text/markdown": [
       "1. 0.5\n",
       "2. 0.25\n",
       "\n",
       "\n"
      ],
      "text/plain": [
       "[1] 0.50 0.25"
      ]
     },
     "metadata": {},
     "output_type": "display_data"
    }
   ],
   "source": [
    "list1[[3]]"
   ]
  },
  {
   "cell_type": "code",
   "execution_count": 8,
   "id": "a7d3608b",
   "metadata": {},
   "outputs": [
    {
     "data": {
      "text/html": [
       "<ol>\n",
       "\t<li>1</li>\n",
       "\t<li>1</li>\n",
       "\t<li>0</li>\n",
       "</ol>\n"
      ],
      "text/latex": [
       "\\begin{enumerate}\n",
       "\\item 1\n",
       "\\item 1\n",
       "\\item 0\n",
       "\\end{enumerate}\n"
      ],
      "text/markdown": [
       "1. 1\n",
       "2. 1\n",
       "3. 0\n",
       "\n",
       "\n"
      ],
      "text/plain": [
       "[[1]]\n",
       "[1] 1\n",
       "\n",
       "[[2]]\n",
       "[1] 1\n",
       "\n",
       "[[3]]\n",
       "[1] 0\n"
      ]
     },
     "metadata": {},
     "output_type": "display_data"
    }
   ],
   "source": [
    "list1[[4]]"
   ]
  },
  {
   "cell_type": "code",
   "execution_count": 9,
   "id": "7cf2317f",
   "metadata": {},
   "outputs": [
    {
     "data": {
      "text/html": [
       "<ol>\n",
       "\t<li><ol>\n",
       "\t<li>1</li>\n",
       "\t<li>1</li>\n",
       "\t<li>0</li>\n",
       "</ol>\n",
       "</li>\n",
       "</ol>\n"
      ],
      "text/latex": [
       "\\begin{enumerate}\n",
       "\\item \\begin{enumerate}\n",
       "\\item 1\n",
       "\\item 1\n",
       "\\item 0\n",
       "\\end{enumerate}\n",
       "\n",
       "\\end{enumerate}\n"
      ],
      "text/markdown": [
       "1. 1. 1\n",
       "2. 1\n",
       "3. 0\n",
       "\n",
       "\n",
       "\n",
       "\n",
       "\n"
      ],
      "text/plain": [
       "[[1]]\n",
       "[[1]][[1]]\n",
       "[1] 1\n",
       "\n",
       "[[1]][[2]]\n",
       "[1] 1\n",
       "\n",
       "[[1]][[3]]\n",
       "[1] 0\n",
       "\n"
      ]
     },
     "metadata": {},
     "output_type": "display_data"
    }
   ],
   "source": [
    "list1[4]"
   ]
  },
  {
   "cell_type": "markdown",
   "id": "db95c903",
   "metadata": {},
   "source": [
    "Give names to each object in the list. This would allow the contents of an object to be called more easily by just using $."
   ]
  },
  {
   "cell_type": "code",
   "execution_count": 10,
   "id": "8c926bd4",
   "metadata": {},
   "outputs": [],
   "source": [
    "## Initiate list using names for objects\n",
    "list2 <- list(a = 5, b = \"b\", c = c(0.5, 0.25), d = list(day1 = 1, \n",
    "                                                day2 = 1, \n",
    "                                                day3 = 0))"
   ]
  },
  {
   "cell_type": "code",
   "execution_count": 11,
   "id": "e7d7a185",
   "metadata": {},
   "outputs": [
    {
     "name": "stdout",
     "output_type": "stream",
     "text": [
      "List of 4\n",
      " $ a: num 5\n",
      " $ b: chr \"b\"\n",
      " $ c: num [1:2] 0.5 0.25\n",
      " $ d:List of 3\n",
      "  ..$ day1: num 1\n",
      "  ..$ day2: num 1\n",
      "  ..$ day3: num 0\n"
     ]
    }
   ],
   "source": [
    "## View structure of list2\n",
    "str(list2)"
   ]
  },
  {
   "cell_type": "code",
   "execution_count": 13,
   "id": "169579de",
   "metadata": {},
   "outputs": [
    {
     "data": {
      "text/html": [
       "<style>\n",
       ".list-inline {list-style: none; margin:0; padding: 0}\n",
       ".list-inline>li {display: inline-block}\n",
       ".list-inline>li:not(:last-child)::after {content: \"\\00b7\"; padding: 0 .5ex}\n",
       "</style>\n",
       "<ol class=list-inline><li>0.5</li><li>0.25</li></ol>\n"
      ],
      "text/latex": [
       "\\begin{enumerate*}\n",
       "\\item 0.5\n",
       "\\item 0.25\n",
       "\\end{enumerate*}\n"
      ],
      "text/markdown": [
       "1. 0.5\n",
       "2. 0.25\n",
       "\n",
       "\n"
      ],
      "text/plain": [
       "[1] 0.50 0.25"
      ]
     },
     "metadata": {},
     "output_type": "display_data"
    }
   ],
   "source": [
    "## Print object named c from list2\n",
    "list2$c"
   ]
  },
  {
   "cell_type": "markdown",
   "id": "4d8e0b56",
   "metadata": {},
   "source": [
    "Note: the fourth object in list1 and list2 is a list within a list or a nested list. Also, each object in nested list d is named. Accessing data in nested lists follows the pattern of accessing data in a regular list."
   ]
  },
  {
   "cell_type": "code",
   "execution_count": 14,
   "id": "f9fa8a41",
   "metadata": {},
   "outputs": [
    {
     "data": {
      "text/html": [
       "1"
      ],
      "text/latex": [
       "1"
      ],
      "text/markdown": [
       "1"
      ],
      "text/plain": [
       "[1] 1"
      ]
     },
     "metadata": {},
     "output_type": "display_data"
    }
   ],
   "source": [
    "## Call unnamed object from a nested list by index numbers\n",
    "list1[[4]][[2]]"
   ]
  },
  {
   "cell_type": "code",
   "execution_count": 16,
   "id": "b9fb1253",
   "metadata": {},
   "outputs": [
    {
     "data": {
      "text/html": [
       "0"
      ],
      "text/latex": [
       "0"
      ],
      "text/markdown": [
       "0"
      ],
      "text/plain": [
       "[1] 0"
      ]
     },
     "metadata": {},
     "output_type": "display_data"
    }
   ],
   "source": [
    "## Call named object from a nested list by names\n",
    "list2$d$day3"
   ]
  },
  {
   "cell_type": "markdown",
   "id": "9fce7736",
   "metadata": {},
   "source": [
    "* This is when naming objects in a list may be convenient; having multiple sets of double-brackets can be hard to interpret sometimes."
   ]
  },
  {
   "cell_type": "markdown",
   "id": "77cbf118",
   "metadata": {},
   "source": [
    "# Adding and removing from a list\n",
    "* adding a 5th object to the list "
   ]
  },
  {
   "cell_type": "code",
   "execution_count": 43,
   "id": "5f495819",
   "metadata": {},
   "outputs": [
    {
     "data": {
      "text/html": [
       "<dl>\n",
       "\t<dt>$a</dt>\n",
       "\t\t<dd>5</dd>\n",
       "\t<dt>$b</dt>\n",
       "\t\t<dd>'q'</dd>\n",
       "\t<dt>$c</dt>\n",
       "\t\t<dd><style>\n",
       ".list-inline {list-style: none; margin:0; padding: 0}\n",
       ".list-inline>li {display: inline-block}\n",
       ".list-inline>li:not(:last-child)::after {content: \"\\00b7\"; padding: 0 .5ex}\n",
       "</style>\n",
       "<ol class=list-inline><li>0.5</li><li>1</li></ol>\n",
       "</dd>\n",
       "\t<dt>$d</dt>\n",
       "\t\t<dd><dl>\n",
       "\t<dt>$day1</dt>\n",
       "\t\t<dd>1</dd>\n",
       "\t<dt>$day2</dt>\n",
       "\t\t<dd>1</dd>\n",
       "\t<dt>$day3</dt>\n",
       "\t\t<dd>0</dd>\n",
       "</dl>\n",
       "</dd>\n",
       "</dl>\n"
      ],
      "text/latex": [
       "\\begin{description}\n",
       "\\item[\\$a] 5\n",
       "\\item[\\$b] 'q'\n",
       "\\item[\\$c] \\begin{enumerate*}\n",
       "\\item 0.5\n",
       "\\item 1\n",
       "\\end{enumerate*}\n",
       "\n",
       "\\item[\\$d] \\begin{description}\n",
       "\\item[\\$day1] 1\n",
       "\\item[\\$day2] 1\n",
       "\\item[\\$day3] 0\n",
       "\\end{description}\n",
       "\n",
       "\\end{description}\n"
      ],
      "text/markdown": [
       "$a\n",
       ":   5\n",
       "$b\n",
       ":   'q'\n",
       "$c\n",
       ":   1. 0.5\n",
       "2. 1\n",
       "\n",
       "\n",
       "\n",
       "$d\n",
       ":   $day1\n",
       ":   1\n",
       "$day2\n",
       ":   1\n",
       "$day3\n",
       ":   0\n",
       "\n",
       "\n",
       "\n",
       "\n",
       "\n"
      ],
      "text/plain": [
       "$a\n",
       "[1] 5\n",
       "\n",
       "$b\n",
       "[1] \"q\"\n",
       "\n",
       "$c\n",
       "[1] 0.5 1.0\n",
       "\n",
       "$d\n",
       "$d$day1\n",
       "[1] 1\n",
       "\n",
       "$d$day2\n",
       "[1] 1\n",
       "\n",
       "$d$day3\n",
       "[1] 0\n",
       "\n"
      ]
     },
     "metadata": {},
     "output_type": "display_data"
    }
   ],
   "source": [
    "## Add an unnamed object\n",
    "list1[[5]] <- 45\n",
    "list2"
   ]
  },
  {
   "cell_type": "code",
   "execution_count": 26,
   "id": "1daaaafa",
   "metadata": {},
   "outputs": [
    {
     "name": "stdout",
     "output_type": "stream",
     "text": [
      "$a\n",
      "[1] 5\n",
      "\n",
      "$b\n",
      "[1] \"b\"\n",
      "\n",
      "$c\n",
      "[1] 0.50 0.25\n",
      "\n",
      "$d\n",
      "$d$day1\n",
      "[1] 1\n",
      "\n",
      "$d$day2\n",
      "[1] 1\n",
      "\n",
      "$d$day3\n",
      "[1] 0\n",
      "\n",
      "\n",
      "$e\n",
      "[1] 45\n",
      "\n"
     ]
    }
   ],
   "source": [
    "## Add a named object\n",
    "list2$e <- 45\n",
    "list2"
   ]
  },
  {
   "cell_type": "markdown",
   "id": "f2e38aa2",
   "metadata": {},
   "source": [
    "* Remove an object"
   ]
  },
  {
   "cell_type": "code",
   "execution_count": 42,
   "id": "f42b28fa",
   "metadata": {},
   "outputs": [
    {
     "data": {
      "text/html": [
       "<ol>\n",
       "\t<li>5</li>\n",
       "\t<li>'q'</li>\n",
       "\t<li><style>\n",
       ".list-inline {list-style: none; margin:0; padding: 0}\n",
       ".list-inline>li {display: inline-block}\n",
       ".list-inline>li:not(:last-child)::after {content: \"\\00b7\"; padding: 0 .5ex}\n",
       "</style>\n",
       "<ol class=list-inline><li>0.5</li><li>1</li></ol>\n",
       "</li>\n",
       "\t<li><ol>\n",
       "\t<li>1</li>\n",
       "\t<li>1</li>\n",
       "\t<li>0</li>\n",
       "</ol>\n",
       "</li>\n",
       "</ol>\n"
      ],
      "text/latex": [
       "\\begin{enumerate}\n",
       "\\item 5\n",
       "\\item 'q'\n",
       "\\item \\begin{enumerate*}\n",
       "\\item 0.5\n",
       "\\item 1\n",
       "\\end{enumerate*}\n",
       "\n",
       "\\item \\begin{enumerate}\n",
       "\\item 1\n",
       "\\item 1\n",
       "\\item 0\n",
       "\\end{enumerate}\n",
       "\n",
       "\\end{enumerate}\n"
      ],
      "text/markdown": [
       "1. 5\n",
       "2. 'q'\n",
       "3. 1. 0.5\n",
       "2. 1\n",
       "\n",
       "\n",
       "\n",
       "4. 1. 1\n",
       "2. 1\n",
       "3. 0\n",
       "\n",
       "\n",
       "\n",
       "\n",
       "\n"
      ],
      "text/plain": [
       "[[1]]\n",
       "[1] 5\n",
       "\n",
       "[[2]]\n",
       "[1] \"q\"\n",
       "\n",
       "[[3]]\n",
       "[1] 0.5 1.0\n",
       "\n",
       "[[4]]\n",
       "[[4]][[1]]\n",
       "[1] 1\n",
       "\n",
       "[[4]][[2]]\n",
       "[1] 1\n",
       "\n",
       "[[4]][[3]]\n",
       "[1] 0\n",
       "\n"
      ]
     },
     "metadata": {},
     "output_type": "display_data"
    }
   ],
   "source": [
    "## Remove an unnamed object\n",
    "list1[[5]] <- NULL\n",
    "list1"
   ]
  },
  {
   "cell_type": "code",
   "execution_count": 37,
   "id": "2e2b8dd6",
   "metadata": {},
   "outputs": [
    {
     "name": "stdout",
     "output_type": "stream",
     "text": [
      "$a\n",
      "[1] 5\n",
      "\n",
      "$b\n",
      "[1] \"q\"\n",
      "\n",
      "$c\n",
      "[1] 0.50 0.25\n",
      "\n",
      "$d\n",
      "$d$day1\n",
      "[1] 1\n",
      "\n",
      "$d$day2\n",
      "[1] 1\n",
      "\n",
      "$d$day3\n",
      "[1] 0\n",
      "\n",
      "\n"
     ]
    }
   ],
   "source": [
    "## Remove a named object\n",
    "list2$e <- NULL\n",
    "print(list2)"
   ]
  },
  {
   "cell_type": "markdown",
   "id": "ed01e4bf",
   "metadata": {},
   "source": [
    "# Changing objects in a list\n",
    "Change to an object in a list by calling the specific object and using the assignment sign <-. \n",
    "\n",
    "The following code shows how to make changes to either named or unnamed objects in a list:"
   ]
  },
  {
   "cell_type": "code",
   "execution_count": 41,
   "id": "c860cda1",
   "metadata": {},
   "outputs": [
    {
     "data": {
      "text/html": [
       "<ol>\n",
       "\t<li>5</li>\n",
       "\t<li>'q'</li>\n",
       "\t<li><style>\n",
       ".list-inline {list-style: none; margin:0; padding: 0}\n",
       ".list-inline>li {display: inline-block}\n",
       ".list-inline>li:not(:last-child)::after {content: \"\\00b7\"; padding: 0 .5ex}\n",
       "</style>\n",
       "<ol class=list-inline><li>0.5</li><li>1</li></ol>\n",
       "</li>\n",
       "\t<li><ol>\n",
       "\t<li>1</li>\n",
       "\t<li>1</li>\n",
       "\t<li>0</li>\n",
       "</ol>\n",
       "</li>\n",
       "</ol>\n"
      ],
      "text/latex": [
       "\\begin{enumerate}\n",
       "\\item 5\n",
       "\\item 'q'\n",
       "\\item \\begin{enumerate*}\n",
       "\\item 0.5\n",
       "\\item 1\n",
       "\\end{enumerate*}\n",
       "\n",
       "\\item \\begin{enumerate}\n",
       "\\item 1\n",
       "\\item 1\n",
       "\\item 0\n",
       "\\end{enumerate}\n",
       "\n",
       "\\end{enumerate}\n"
      ],
      "text/markdown": [
       "1. 5\n",
       "2. 'q'\n",
       "3. 1. 0.5\n",
       "2. 1\n",
       "\n",
       "\n",
       "\n",
       "4. 1. 1\n",
       "2. 1\n",
       "3. 0\n",
       "\n",
       "\n",
       "\n",
       "\n",
       "\n"
      ],
      "text/plain": [
       "[[1]]\n",
       "[1] 5\n",
       "\n",
       "[[2]]\n",
       "[1] \"q\"\n",
       "\n",
       "[[3]]\n",
       "[1] 0.5 1.0\n",
       "\n",
       "[[4]]\n",
       "[[4]][[1]]\n",
       "[1] 1\n",
       "\n",
       "[[4]][[2]]\n",
       "[1] 1\n",
       "\n",
       "[[4]][[3]]\n",
       "[1] 0\n",
       "\n"
      ]
     },
     "metadata": {},
     "output_type": "display_data"
    }
   ],
   "source": [
    "## Change unnamed objects\n",
    "list1[[2]] <- \"q\"\n",
    "list1"
   ]
  },
  {
   "cell_type": "code",
   "execution_count": 40,
   "id": "3a89340c",
   "metadata": {},
   "outputs": [
    {
     "data": {
      "text/html": [
       "<dl>\n",
       "\t<dt>$a</dt>\n",
       "\t\t<dd>5</dd>\n",
       "\t<dt>$b</dt>\n",
       "\t\t<dd>'q'</dd>\n",
       "\t<dt>$c</dt>\n",
       "\t\t<dd><style>\n",
       ".list-inline {list-style: none; margin:0; padding: 0}\n",
       ".list-inline>li {display: inline-block}\n",
       ".list-inline>li:not(:last-child)::after {content: \"\\00b7\"; padding: 0 .5ex}\n",
       "</style>\n",
       "<ol class=list-inline><li>0.5</li><li>1</li></ol>\n",
       "</dd>\n",
       "\t<dt>$d</dt>\n",
       "\t\t<dd><dl>\n",
       "\t<dt>$day1</dt>\n",
       "\t\t<dd>1</dd>\n",
       "\t<dt>$day2</dt>\n",
       "\t\t<dd>1</dd>\n",
       "\t<dt>$day3</dt>\n",
       "\t\t<dd>0</dd>\n",
       "</dl>\n",
       "</dd>\n",
       "</dl>\n"
      ],
      "text/latex": [
       "\\begin{description}\n",
       "\\item[\\$a] 5\n",
       "\\item[\\$b] 'q'\n",
       "\\item[\\$c] \\begin{enumerate*}\n",
       "\\item 0.5\n",
       "\\item 1\n",
       "\\end{enumerate*}\n",
       "\n",
       "\\item[\\$d] \\begin{description}\n",
       "\\item[\\$day1] 1\n",
       "\\item[\\$day2] 1\n",
       "\\item[\\$day3] 0\n",
       "\\end{description}\n",
       "\n",
       "\\end{description}\n"
      ],
      "text/markdown": [
       "$a\n",
       ":   5\n",
       "$b\n",
       ":   'q'\n",
       "$c\n",
       ":   1. 0.5\n",
       "2. 1\n",
       "\n",
       "\n",
       "\n",
       "$d\n",
       ":   $day1\n",
       ":   1\n",
       "$day2\n",
       ":   1\n",
       "$day3\n",
       ":   0\n",
       "\n",
       "\n",
       "\n",
       "\n",
       "\n"
      ],
      "text/plain": [
       "$a\n",
       "[1] 5\n",
       "\n",
       "$b\n",
       "[1] \"q\"\n",
       "\n",
       "$c\n",
       "[1] 0.5 1.0\n",
       "\n",
       "$d\n",
       "$d$day1\n",
       "[1] 1\n",
       "\n",
       "$d$day2\n",
       "[1] 1\n",
       "\n",
       "$d$day3\n",
       "[1] 0\n",
       "\n"
      ]
     },
     "metadata": {},
     "output_type": "display_data"
    }
   ],
   "source": [
    "## Change named objects\n",
    "list2$b <- \"q\"\n",
    "list2"
   ]
  },
  {
   "cell_type": "markdown",
   "id": "d778cd6d",
   "metadata": {},
   "source": [
    "We can also change an element of an object in a list (e.g., change one value of a vector that is an object in a list). For example, if we wanted to change the second value of the third object (and do nothing to the other values), we could use the following code:"
   ]
  },
  {
   "cell_type": "code",
   "execution_count": 38,
   "id": "d6d1ff92",
   "metadata": {},
   "outputs": [
    {
     "data": {
      "text/html": [
       "<ol>\n",
       "\t<li>5</li>\n",
       "\t<li>'q'</li>\n",
       "\t<li><style>\n",
       ".list-inline {list-style: none; margin:0; padding: 0}\n",
       ".list-inline>li {display: inline-block}\n",
       ".list-inline>li:not(:last-child)::after {content: \"\\00b7\"; padding: 0 .5ex}\n",
       "</style>\n",
       "<ol class=list-inline><li>0.5</li><li>1</li></ol>\n",
       "</li>\n",
       "\t<li><ol>\n",
       "\t<li>1</li>\n",
       "\t<li>1</li>\n",
       "\t<li>0</li>\n",
       "</ol>\n",
       "</li>\n",
       "</ol>\n"
      ],
      "text/latex": [
       "\\begin{enumerate}\n",
       "\\item 5\n",
       "\\item 'q'\n",
       "\\item \\begin{enumerate*}\n",
       "\\item 0.5\n",
       "\\item 1\n",
       "\\end{enumerate*}\n",
       "\n",
       "\\item \\begin{enumerate}\n",
       "\\item 1\n",
       "\\item 1\n",
       "\\item 0\n",
       "\\end{enumerate}\n",
       "\n",
       "\\end{enumerate}\n"
      ],
      "text/markdown": [
       "1. 5\n",
       "2. 'q'\n",
       "3. 1. 0.5\n",
       "2. 1\n",
       "\n",
       "\n",
       "\n",
       "4. 1. 1\n",
       "2. 1\n",
       "3. 0\n",
       "\n",
       "\n",
       "\n",
       "\n",
       "\n"
      ],
      "text/plain": [
       "[[1]]\n",
       "[1] 5\n",
       "\n",
       "[[2]]\n",
       "[1] \"q\"\n",
       "\n",
       "[[3]]\n",
       "[1] 0.5 1.0\n",
       "\n",
       "[[4]]\n",
       "[[4]][[1]]\n",
       "[1] 1\n",
       "\n",
       "[[4]][[2]]\n",
       "[1] 1\n",
       "\n",
       "[[4]][[3]]\n",
       "[1] 0\n",
       "\n"
      ]
     },
     "metadata": {},
     "output_type": "display_data"
    }
   ],
   "source": [
    "## Unnamed object\n",
    "list1[[3]][2] <- 1\n",
    "list1"
   ]
  },
  {
   "cell_type": "code",
   "execution_count": 39,
   "id": "40ff7a42",
   "metadata": {},
   "outputs": [
    {
     "data": {
      "text/html": [
       "<dl>\n",
       "\t<dt>$a</dt>\n",
       "\t\t<dd>5</dd>\n",
       "\t<dt>$b</dt>\n",
       "\t\t<dd>'q'</dd>\n",
       "\t<dt>$c</dt>\n",
       "\t\t<dd><style>\n",
       ".list-inline {list-style: none; margin:0; padding: 0}\n",
       ".list-inline>li {display: inline-block}\n",
       ".list-inline>li:not(:last-child)::after {content: \"\\00b7\"; padding: 0 .5ex}\n",
       "</style>\n",
       "<ol class=list-inline><li>0.5</li><li>1</li></ol>\n",
       "</dd>\n",
       "\t<dt>$d</dt>\n",
       "\t\t<dd><dl>\n",
       "\t<dt>$day1</dt>\n",
       "\t\t<dd>1</dd>\n",
       "\t<dt>$day2</dt>\n",
       "\t\t<dd>1</dd>\n",
       "\t<dt>$day3</dt>\n",
       "\t\t<dd>0</dd>\n",
       "</dl>\n",
       "</dd>\n",
       "</dl>\n"
      ],
      "text/latex": [
       "\\begin{description}\n",
       "\\item[\\$a] 5\n",
       "\\item[\\$b] 'q'\n",
       "\\item[\\$c] \\begin{enumerate*}\n",
       "\\item 0.5\n",
       "\\item 1\n",
       "\\end{enumerate*}\n",
       "\n",
       "\\item[\\$d] \\begin{description}\n",
       "\\item[\\$day1] 1\n",
       "\\item[\\$day2] 1\n",
       "\\item[\\$day3] 0\n",
       "\\end{description}\n",
       "\n",
       "\\end{description}\n"
      ],
      "text/markdown": [
       "$a\n",
       ":   5\n",
       "$b\n",
       ":   'q'\n",
       "$c\n",
       ":   1. 0.5\n",
       "2. 1\n",
       "\n",
       "\n",
       "\n",
       "$d\n",
       ":   $day1\n",
       ":   1\n",
       "$day2\n",
       ":   1\n",
       "$day3\n",
       ":   0\n",
       "\n",
       "\n",
       "\n",
       "\n",
       "\n"
      ],
      "text/plain": [
       "$a\n",
       "[1] 5\n",
       "\n",
       "$b\n",
       "[1] \"q\"\n",
       "\n",
       "$c\n",
       "[1] 0.5 1.0\n",
       "\n",
       "$d\n",
       "$d$day1\n",
       "[1] 1\n",
       "\n",
       "$d$day2\n",
       "[1] 1\n",
       "\n",
       "$d$day3\n",
       "[1] 0\n",
       "\n"
      ]
     },
     "metadata": {},
     "output_type": "display_data"
    }
   ],
   "source": [
    "## Named object\n",
    "list2$c[2] <- 1\n",
    "list2"
   ]
  },
  {
   "cell_type": "markdown",
   "id": "733d0ae4",
   "metadata": {},
   "source": [
    "# Coding Question\n",
    "Here are two lists (list1 and list2) for us to practice some of these methods. Some things we can try are:\n",
    "\n",
    "* print a list\n",
    "* check the structure of a list\n",
    "* check the contents of an object\n",
    "* add or remove items from the list"
   ]
  },
  {
   "cell_type": "code",
   "execution_count": 57,
   "id": "aadc3edd",
   "metadata": {},
   "outputs": [],
   "source": [
    "# Initiate list1 (unnamed)\n",
    "list1 <- list(7, c(\"z\", \"y\", \"x\", \"w\"), c(0.5, 0.21, 0.65, 0.77, 0.9), list(1,1,0))\n",
    "\n",
    "# Initiate list2 (named)\n",
    "list2 <- list(names = c(\"Penny\", \"Jake\", \"Ji-Hoon\", \"Hasan\"), age = c(24, 20, 19, 22), scores = list(\n",
    "  test1 = c(9, 7, 7, 8),\n",
    "  test2 = c(8, 8, 7, 10),\n",
    "  test3 = c(6, 10, 9, 9)))"
   ]
  },
  {
   "cell_type": "code",
   "execution_count": 58,
   "id": "f6b106ea",
   "metadata": {},
   "outputs": [],
   "source": [
    "# unanmed list "
   ]
  },
  {
   "cell_type": "code",
   "execution_count": 59,
   "id": "58b5ecd3",
   "metadata": {},
   "outputs": [
    {
     "data": {
      "text/html": [
       "<ol>\n",
       "\t<li>7</li>\n",
       "\t<li><style>\n",
       ".list-inline {list-style: none; margin:0; padding: 0}\n",
       ".list-inline>li {display: inline-block}\n",
       ".list-inline>li:not(:last-child)::after {content: \"\\00b7\"; padding: 0 .5ex}\n",
       "</style>\n",
       "<ol class=list-inline><li>'z'</li><li>'y'</li><li>'x'</li><li>'w'</li></ol>\n",
       "</li>\n",
       "\t<li><style>\n",
       ".list-inline {list-style: none; margin:0; padding: 0}\n",
       ".list-inline>li {display: inline-block}\n",
       ".list-inline>li:not(:last-child)::after {content: \"\\00b7\"; padding: 0 .5ex}\n",
       "</style>\n",
       "<ol class=list-inline><li>0.5</li><li>0.21</li><li>0.65</li><li>0.77</li><li>0.9</li></ol>\n",
       "</li>\n",
       "\t<li><ol>\n",
       "\t<li>1</li>\n",
       "\t<li>1</li>\n",
       "\t<li>0</li>\n",
       "</ol>\n",
       "</li>\n",
       "</ol>\n"
      ],
      "text/latex": [
       "\\begin{enumerate}\n",
       "\\item 7\n",
       "\\item \\begin{enumerate*}\n",
       "\\item 'z'\n",
       "\\item 'y'\n",
       "\\item 'x'\n",
       "\\item 'w'\n",
       "\\end{enumerate*}\n",
       "\n",
       "\\item \\begin{enumerate*}\n",
       "\\item 0.5\n",
       "\\item 0.21\n",
       "\\item 0.65\n",
       "\\item 0.77\n",
       "\\item 0.9\n",
       "\\end{enumerate*}\n",
       "\n",
       "\\item \\begin{enumerate}\n",
       "\\item 1\n",
       "\\item 1\n",
       "\\item 0\n",
       "\\end{enumerate}\n",
       "\n",
       "\\end{enumerate}\n"
      ],
      "text/markdown": [
       "1. 7\n",
       "2. 1. 'z'\n",
       "2. 'y'\n",
       "3. 'x'\n",
       "4. 'w'\n",
       "\n",
       "\n",
       "\n",
       "3. 1. 0.5\n",
       "2. 0.21\n",
       "3. 0.65\n",
       "4. 0.77\n",
       "5. 0.9\n",
       "\n",
       "\n",
       "\n",
       "4. 1. 1\n",
       "2. 1\n",
       "3. 0\n",
       "\n",
       "\n",
       "\n",
       "\n",
       "\n"
      ],
      "text/plain": [
       "[[1]]\n",
       "[1] 7\n",
       "\n",
       "[[2]]\n",
       "[1] \"z\" \"y\" \"x\" \"w\"\n",
       "\n",
       "[[3]]\n",
       "[1] 0.50 0.21 0.65 0.77 0.90\n",
       "\n",
       "[[4]]\n",
       "[[4]][[1]]\n",
       "[1] 1\n",
       "\n",
       "[[4]][[2]]\n",
       "[1] 1\n",
       "\n",
       "[[4]][[3]]\n",
       "[1] 0\n",
       "\n"
      ]
     },
     "metadata": {},
     "output_type": "display_data"
    }
   ],
   "source": [
    "list1"
   ]
  },
  {
   "cell_type": "code",
   "execution_count": 60,
   "id": "ce787d0d",
   "metadata": {},
   "outputs": [
    {
     "data": {
      "text/html": [
       "<ol>\n",
       "\t<li>7</li>\n",
       "\t<li><style>\n",
       ".list-inline {list-style: none; margin:0; padding: 0}\n",
       ".list-inline>li {display: inline-block}\n",
       ".list-inline>li:not(:last-child)::after {content: \"\\00b7\"; padding: 0 .5ex}\n",
       "</style>\n",
       "<ol class=list-inline><li>'z'</li><li>'y'</li><li>'x'</li><li>'w'</li></ol>\n",
       "</li>\n",
       "\t<li><style>\n",
       ".list-inline {list-style: none; margin:0; padding: 0}\n",
       ".list-inline>li {display: inline-block}\n",
       ".list-inline>li:not(:last-child)::after {content: \"\\00b7\"; padding: 0 .5ex}\n",
       "</style>\n",
       "<ol class=list-inline><li>0.5</li><li>0.22</li><li>0.65</li><li>0.77</li><li>0.9</li></ol>\n",
       "</li>\n",
       "\t<li><ol>\n",
       "\t<li>1</li>\n",
       "\t<li>1</li>\n",
       "\t<li>0</li>\n",
       "</ol>\n",
       "</li>\n",
       "</ol>\n"
      ],
      "text/latex": [
       "\\begin{enumerate}\n",
       "\\item 7\n",
       "\\item \\begin{enumerate*}\n",
       "\\item 'z'\n",
       "\\item 'y'\n",
       "\\item 'x'\n",
       "\\item 'w'\n",
       "\\end{enumerate*}\n",
       "\n",
       "\\item \\begin{enumerate*}\n",
       "\\item 0.5\n",
       "\\item 0.22\n",
       "\\item 0.65\n",
       "\\item 0.77\n",
       "\\item 0.9\n",
       "\\end{enumerate*}\n",
       "\n",
       "\\item \\begin{enumerate}\n",
       "\\item 1\n",
       "\\item 1\n",
       "\\item 0\n",
       "\\end{enumerate}\n",
       "\n",
       "\\end{enumerate}\n"
      ],
      "text/markdown": [
       "1. 7\n",
       "2. 1. 'z'\n",
       "2. 'y'\n",
       "3. 'x'\n",
       "4. 'w'\n",
       "\n",
       "\n",
       "\n",
       "3. 1. 0.5\n",
       "2. 0.22\n",
       "3. 0.65\n",
       "4. 0.77\n",
       "5. 0.9\n",
       "\n",
       "\n",
       "\n",
       "4. 1. 1\n",
       "2. 1\n",
       "3. 0\n",
       "\n",
       "\n",
       "\n",
       "\n",
       "\n"
      ],
      "text/plain": [
       "[[1]]\n",
       "[1] 7\n",
       "\n",
       "[[2]]\n",
       "[1] \"z\" \"y\" \"x\" \"w\"\n",
       "\n",
       "[[3]]\n",
       "[1] 0.50 0.22 0.65 0.77 0.90\n",
       "\n",
       "[[4]]\n",
       "[[4]][[1]]\n",
       "[1] 1\n",
       "\n",
       "[[4]][[2]]\n",
       "[1] 1\n",
       "\n",
       "[[4]][[3]]\n",
       "[1] 0\n",
       "\n"
      ]
     },
     "metadata": {},
     "output_type": "display_data"
    }
   ],
   "source": [
    "# change the second value from the third list to 0.22\n",
    "list1[[3]][2] <- 0.22\n",
    "list1"
   ]
  },
  {
   "cell_type": "code",
   "execution_count": 61,
   "id": "a80c7b9f",
   "metadata": {},
   "outputs": [
    {
     "data": {
      "text/html": [
       "<ol>\n",
       "\t<li><style>\n",
       ".list-inline {list-style: none; margin:0; padding: 0}\n",
       ".list-inline>li {display: inline-block}\n",
       ".list-inline>li:not(:last-child)::after {content: \"\\00b7\"; padding: 0 .5ex}\n",
       "</style>\n",
       "<ol class=list-inline><li>'z'</li><li>'y'</li><li>'x'</li><li>'w'</li></ol>\n",
       "</li>\n",
       "\t<li><style>\n",
       ".list-inline {list-style: none; margin:0; padding: 0}\n",
       ".list-inline>li {display: inline-block}\n",
       ".list-inline>li:not(:last-child)::after {content: \"\\00b7\"; padding: 0 .5ex}\n",
       "</style>\n",
       "<ol class=list-inline><li>0.5</li><li>0.22</li><li>0.65</li><li>0.77</li><li>0.9</li></ol>\n",
       "</li>\n",
       "\t<li><ol>\n",
       "\t<li>1</li>\n",
       "\t<li>1</li>\n",
       "\t<li>0</li>\n",
       "</ol>\n",
       "</li>\n",
       "</ol>\n"
      ],
      "text/latex": [
       "\\begin{enumerate}\n",
       "\\item \\begin{enumerate*}\n",
       "\\item 'z'\n",
       "\\item 'y'\n",
       "\\item 'x'\n",
       "\\item 'w'\n",
       "\\end{enumerate*}\n",
       "\n",
       "\\item \\begin{enumerate*}\n",
       "\\item 0.5\n",
       "\\item 0.22\n",
       "\\item 0.65\n",
       "\\item 0.77\n",
       "\\item 0.9\n",
       "\\end{enumerate*}\n",
       "\n",
       "\\item \\begin{enumerate}\n",
       "\\item 1\n",
       "\\item 1\n",
       "\\item 0\n",
       "\\end{enumerate}\n",
       "\n",
       "\\end{enumerate}\n"
      ],
      "text/markdown": [
       "1. 1. 'z'\n",
       "2. 'y'\n",
       "3. 'x'\n",
       "4. 'w'\n",
       "\n",
       "\n",
       "\n",
       "2. 1. 0.5\n",
       "2. 0.22\n",
       "3. 0.65\n",
       "4. 0.77\n",
       "5. 0.9\n",
       "\n",
       "\n",
       "\n",
       "3. 1. 1\n",
       "2. 1\n",
       "3. 0\n",
       "\n",
       "\n",
       "\n",
       "\n",
       "\n"
      ],
      "text/plain": [
       "[[1]]\n",
       "[1] \"z\" \"y\" \"x\" \"w\"\n",
       "\n",
       "[[2]]\n",
       "[1] 0.50 0.22 0.65 0.77 0.90\n",
       "\n",
       "[[3]]\n",
       "[[3]][[1]]\n",
       "[1] 1\n",
       "\n",
       "[[3]][[2]]\n",
       "[1] 1\n",
       "\n",
       "[[3]][[3]]\n",
       "[1] 0\n",
       "\n"
      ]
     },
     "metadata": {},
     "output_type": "display_data"
    }
   ],
   "source": [
    "# Remove the first item\n",
    "list1[[1]] <- NULL\n",
    "list1"
   ]
  },
  {
   "cell_type": "code",
   "execution_count": 62,
   "id": "2f78b647",
   "metadata": {},
   "outputs": [
    {
     "data": {
      "text/html": [
       "<ol>\n",
       "\t<li>7</li>\n",
       "\t<li><style>\n",
       ".list-inline {list-style: none; margin:0; padding: 0}\n",
       ".list-inline>li {display: inline-block}\n",
       ".list-inline>li:not(:last-child)::after {content: \"\\00b7\"; padding: 0 .5ex}\n",
       "</style>\n",
       "<ol class=list-inline><li>0.5</li><li>0.22</li><li>0.65</li><li>0.77</li><li>0.9</li></ol>\n",
       "</li>\n",
       "\t<li><ol>\n",
       "\t<li>1</li>\n",
       "\t<li>1</li>\n",
       "\t<li>0</li>\n",
       "</ol>\n",
       "</li>\n",
       "</ol>\n"
      ],
      "text/latex": [
       "\\begin{enumerate}\n",
       "\\item 7\n",
       "\\item \\begin{enumerate*}\n",
       "\\item 0.5\n",
       "\\item 0.22\n",
       "\\item 0.65\n",
       "\\item 0.77\n",
       "\\item 0.9\n",
       "\\end{enumerate*}\n",
       "\n",
       "\\item \\begin{enumerate}\n",
       "\\item 1\n",
       "\\item 1\n",
       "\\item 0\n",
       "\\end{enumerate}\n",
       "\n",
       "\\end{enumerate}\n"
      ],
      "text/markdown": [
       "1. 7\n",
       "2. 1. 0.5\n",
       "2. 0.22\n",
       "3. 0.65\n",
       "4. 0.77\n",
       "5. 0.9\n",
       "\n",
       "\n",
       "\n",
       "3. 1. 1\n",
       "2. 1\n",
       "3. 0\n",
       "\n",
       "\n",
       "\n",
       "\n",
       "\n"
      ],
      "text/plain": [
       "[[1]]\n",
       "[1] 7\n",
       "\n",
       "[[2]]\n",
       "[1] 0.50 0.22 0.65 0.77 0.90\n",
       "\n",
       "[[3]]\n",
       "[[3]][[1]]\n",
       "[1] 1\n",
       "\n",
       "[[3]][[2]]\n",
       "[1] 1\n",
       "\n",
       "[[3]][[3]]\n",
       "[1] 0\n",
       "\n"
      ]
     },
     "metadata": {},
     "output_type": "display_data"
    }
   ],
   "source": [
    "# Add item back\n",
    "list1[[1]] <- 7\n",
    "list1"
   ]
  },
  {
   "cell_type": "code",
   "execution_count": 63,
   "id": "a92a0444",
   "metadata": {
    "scrolled": true
   },
   "outputs": [
    {
     "data": {
      "text/html": [
       "<dl>\n",
       "\t<dt>$names</dt>\n",
       "\t\t<dd><style>\n",
       ".list-inline {list-style: none; margin:0; padding: 0}\n",
       ".list-inline>li {display: inline-block}\n",
       ".list-inline>li:not(:last-child)::after {content: \"\\00b7\"; padding: 0 .5ex}\n",
       "</style>\n",
       "<ol class=list-inline><li>'Penny'</li><li>'Jake'</li><li>'Ji-Hoon'</li><li>'Hasan'</li></ol>\n",
       "</dd>\n",
       "\t<dt>$age</dt>\n",
       "\t\t<dd><style>\n",
       ".list-inline {list-style: none; margin:0; padding: 0}\n",
       ".list-inline>li {display: inline-block}\n",
       ".list-inline>li:not(:last-child)::after {content: \"\\00b7\"; padding: 0 .5ex}\n",
       "</style>\n",
       "<ol class=list-inline><li>24</li><li>20</li><li>19</li><li>22</li></ol>\n",
       "</dd>\n",
       "\t<dt>$scores</dt>\n",
       "\t\t<dd><dl>\n",
       "\t<dt>$test1</dt>\n",
       "\t\t<dd><style>\n",
       ".list-inline {list-style: none; margin:0; padding: 0}\n",
       ".list-inline>li {display: inline-block}\n",
       ".list-inline>li:not(:last-child)::after {content: \"\\00b7\"; padding: 0 .5ex}\n",
       "</style>\n",
       "<ol class=list-inline><li>9</li><li>7</li><li>7</li><li>8</li></ol>\n",
       "</dd>\n",
       "\t<dt>$test2</dt>\n",
       "\t\t<dd><style>\n",
       ".list-inline {list-style: none; margin:0; padding: 0}\n",
       ".list-inline>li {display: inline-block}\n",
       ".list-inline>li:not(:last-child)::after {content: \"\\00b7\"; padding: 0 .5ex}\n",
       "</style>\n",
       "<ol class=list-inline><li>8</li><li>8</li><li>7</li><li>10</li></ol>\n",
       "</dd>\n",
       "\t<dt>$test3</dt>\n",
       "\t\t<dd><style>\n",
       ".list-inline {list-style: none; margin:0; padding: 0}\n",
       ".list-inline>li {display: inline-block}\n",
       ".list-inline>li:not(:last-child)::after {content: \"\\00b7\"; padding: 0 .5ex}\n",
       "</style>\n",
       "<ol class=list-inline><li>6</li><li>10</li><li>9</li><li>9</li></ol>\n",
       "</dd>\n",
       "</dl>\n",
       "</dd>\n",
       "</dl>\n"
      ],
      "text/latex": [
       "\\begin{description}\n",
       "\\item[\\$names] \\begin{enumerate*}\n",
       "\\item 'Penny'\n",
       "\\item 'Jake'\n",
       "\\item 'Ji-Hoon'\n",
       "\\item 'Hasan'\n",
       "\\end{enumerate*}\n",
       "\n",
       "\\item[\\$age] \\begin{enumerate*}\n",
       "\\item 24\n",
       "\\item 20\n",
       "\\item 19\n",
       "\\item 22\n",
       "\\end{enumerate*}\n",
       "\n",
       "\\item[\\$scores] \\begin{description}\n",
       "\\item[\\$test1] \\begin{enumerate*}\n",
       "\\item 9\n",
       "\\item 7\n",
       "\\item 7\n",
       "\\item 8\n",
       "\\end{enumerate*}\n",
       "\n",
       "\\item[\\$test2] \\begin{enumerate*}\n",
       "\\item 8\n",
       "\\item 8\n",
       "\\item 7\n",
       "\\item 10\n",
       "\\end{enumerate*}\n",
       "\n",
       "\\item[\\$test3] \\begin{enumerate*}\n",
       "\\item 6\n",
       "\\item 10\n",
       "\\item 9\n",
       "\\item 9\n",
       "\\end{enumerate*}\n",
       "\n",
       "\\end{description}\n",
       "\n",
       "\\end{description}\n"
      ],
      "text/markdown": [
       "$names\n",
       ":   1. 'Penny'\n",
       "2. 'Jake'\n",
       "3. 'Ji-Hoon'\n",
       "4. 'Hasan'\n",
       "\n",
       "\n",
       "\n",
       "$age\n",
       ":   1. 24\n",
       "2. 20\n",
       "3. 19\n",
       "4. 22\n",
       "\n",
       "\n",
       "\n",
       "$scores\n",
       ":   $test1\n",
       ":   1. 9\n",
       "2. 7\n",
       "3. 7\n",
       "4. 8\n",
       "\n",
       "\n",
       "\n",
       "$test2\n",
       ":   1. 8\n",
       "2. 8\n",
       "3. 7\n",
       "4. 10\n",
       "\n",
       "\n",
       "\n",
       "$test3\n",
       ":   1. 6\n",
       "2. 10\n",
       "3. 9\n",
       "4. 9\n",
       "\n",
       "\n",
       "\n",
       "\n",
       "\n",
       "\n",
       "\n",
       "\n"
      ],
      "text/plain": [
       "$names\n",
       "[1] \"Penny\"   \"Jake\"    \"Ji-Hoon\" \"Hasan\"  \n",
       "\n",
       "$age\n",
       "[1] 24 20 19 22\n",
       "\n",
       "$scores\n",
       "$scores$test1\n",
       "[1] 9 7 7 8\n",
       "\n",
       "$scores$test2\n",
       "[1]  8  8  7 10\n",
       "\n",
       "$scores$test3\n",
       "[1]  6 10  9  9\n",
       "\n"
      ]
     },
     "metadata": {},
     "output_type": "display_data"
    }
   ],
   "source": [
    "list2"
   ]
  },
  {
   "cell_type": "code",
   "execution_count": 68,
   "id": "e3c931f3",
   "metadata": {},
   "outputs": [
    {
     "data": {
      "text/html": [
       "<dl>\n",
       "\t<dt>$names</dt>\n",
       "\t\t<dd><style>\n",
       ".list-inline {list-style: none; margin:0; padding: 0}\n",
       ".list-inline>li {display: inline-block}\n",
       ".list-inline>li:not(:last-child)::after {content: \"\\00b7\"; padding: 0 .5ex}\n",
       "</style>\n",
       "<ol class=list-inline><li>'Penny'</li><li>'Jake'</li><li>'Ji-Hoon'</li><li>'Hasan'</li></ol>\n",
       "</dd>\n",
       "\t<dt>$age</dt>\n",
       "\t\t<dd><style>\n",
       ".list-inline {list-style: none; margin:0; padding: 0}\n",
       ".list-inline>li {display: inline-block}\n",
       ".list-inline>li:not(:last-child)::after {content: \"\\00b7\"; padding: 0 .5ex}\n",
       "</style>\n",
       "<ol class=list-inline><li>24</li><li>21</li><li>19</li><li>22</li></ol>\n",
       "</dd>\n",
       "\t<dt>$scores</dt>\n",
       "\t\t<dd><dl>\n",
       "\t<dt>$test1</dt>\n",
       "\t\t<dd><style>\n",
       ".list-inline {list-style: none; margin:0; padding: 0}\n",
       ".list-inline>li {display: inline-block}\n",
       ".list-inline>li:not(:last-child)::after {content: \"\\00b7\"; padding: 0 .5ex}\n",
       "</style>\n",
       "<ol class=list-inline><li>9</li><li>7</li><li>7</li><li>8</li></ol>\n",
       "</dd>\n",
       "\t<dt>$test2</dt>\n",
       "\t\t<dd><style>\n",
       ".list-inline {list-style: none; margin:0; padding: 0}\n",
       ".list-inline>li {display: inline-block}\n",
       ".list-inline>li:not(:last-child)::after {content: \"\\00b7\"; padding: 0 .5ex}\n",
       "</style>\n",
       "<ol class=list-inline><li>8</li><li>8</li><li>7</li><li>10</li></ol>\n",
       "</dd>\n",
       "\t<dt>$test3</dt>\n",
       "\t\t<dd><style>\n",
       ".list-inline {list-style: none; margin:0; padding: 0}\n",
       ".list-inline>li {display: inline-block}\n",
       ".list-inline>li:not(:last-child)::after {content: \"\\00b7\"; padding: 0 .5ex}\n",
       "</style>\n",
       "<ol class=list-inline><li>6</li><li>10</li><li>9</li><li>9</li></ol>\n",
       "</dd>\n",
       "</dl>\n",
       "</dd>\n",
       "</dl>\n"
      ],
      "text/latex": [
       "\\begin{description}\n",
       "\\item[\\$names] \\begin{enumerate*}\n",
       "\\item 'Penny'\n",
       "\\item 'Jake'\n",
       "\\item 'Ji-Hoon'\n",
       "\\item 'Hasan'\n",
       "\\end{enumerate*}\n",
       "\n",
       "\\item[\\$age] \\begin{enumerate*}\n",
       "\\item 24\n",
       "\\item 21\n",
       "\\item 19\n",
       "\\item 22\n",
       "\\end{enumerate*}\n",
       "\n",
       "\\item[\\$scores] \\begin{description}\n",
       "\\item[\\$test1] \\begin{enumerate*}\n",
       "\\item 9\n",
       "\\item 7\n",
       "\\item 7\n",
       "\\item 8\n",
       "\\end{enumerate*}\n",
       "\n",
       "\\item[\\$test2] \\begin{enumerate*}\n",
       "\\item 8\n",
       "\\item 8\n",
       "\\item 7\n",
       "\\item 10\n",
       "\\end{enumerate*}\n",
       "\n",
       "\\item[\\$test3] \\begin{enumerate*}\n",
       "\\item 6\n",
       "\\item 10\n",
       "\\item 9\n",
       "\\item 9\n",
       "\\end{enumerate*}\n",
       "\n",
       "\\end{description}\n",
       "\n",
       "\\end{description}\n"
      ],
      "text/markdown": [
       "$names\n",
       ":   1. 'Penny'\n",
       "2. 'Jake'\n",
       "3. 'Ji-Hoon'\n",
       "4. 'Hasan'\n",
       "\n",
       "\n",
       "\n",
       "$age\n",
       ":   1. 24\n",
       "2. 21\n",
       "3. 19\n",
       "4. 22\n",
       "\n",
       "\n",
       "\n",
       "$scores\n",
       ":   $test1\n",
       ":   1. 9\n",
       "2. 7\n",
       "3. 7\n",
       "4. 8\n",
       "\n",
       "\n",
       "\n",
       "$test2\n",
       ":   1. 8\n",
       "2. 8\n",
       "3. 7\n",
       "4. 10\n",
       "\n",
       "\n",
       "\n",
       "$test3\n",
       ":   1. 6\n",
       "2. 10\n",
       "3. 9\n",
       "4. 9\n",
       "\n",
       "\n",
       "\n",
       "\n",
       "\n",
       "\n",
       "\n",
       "\n"
      ],
      "text/plain": [
       "$names\n",
       "[1] \"Penny\"   \"Jake\"    \"Ji-Hoon\" \"Hasan\"  \n",
       "\n",
       "$age\n",
       "[1] 24 21 19 22\n",
       "\n",
       "$scores\n",
       "$scores$test1\n",
       "[1] 9 7 7 8\n",
       "\n",
       "$scores$test2\n",
       "[1]  8  8  7 10\n",
       "\n",
       "$scores$test3\n",
       "[1]  6 10  9  9\n",
       "\n"
      ]
     },
     "metadata": {},
     "output_type": "display_data"
    }
   ],
   "source": [
    "# Jake wants to update his birthday to 21\n",
    "list2$age[2] <- 21\n",
    "list2"
   ]
  },
  {
   "cell_type": "code",
   "execution_count": 70,
   "id": "804f4b56",
   "metadata": {},
   "outputs": [
    {
     "data": {
      "text/html": [
       "<dl>\n",
       "\t<dt>$names</dt>\n",
       "\t\t<dd><style>\n",
       ".list-inline {list-style: none; margin:0; padding: 0}\n",
       ".list-inline>li {display: inline-block}\n",
       ".list-inline>li:not(:last-child)::after {content: \"\\00b7\"; padding: 0 .5ex}\n",
       "</style>\n",
       "<ol class=list-inline><li>'Penny'</li><li>'Jake'</li><li>'Ji-Hoon'</li><li>'Hasan'</li></ol>\n",
       "</dd>\n",
       "\t<dt>$age</dt>\n",
       "\t\t<dd><style>\n",
       ".list-inline {list-style: none; margin:0; padding: 0}\n",
       ".list-inline>li {display: inline-block}\n",
       ".list-inline>li:not(:last-child)::after {content: \"\\00b7\"; padding: 0 .5ex}\n",
       "</style>\n",
       "<ol class=list-inline><li>24</li><li>21</li><li>19</li><li>22</li></ol>\n",
       "</dd>\n",
       "\t<dt>$scores</dt>\n",
       "\t\t<dd><dl>\n",
       "\t<dt>$test1</dt>\n",
       "\t\t<dd><style>\n",
       ".list-inline {list-style: none; margin:0; padding: 0}\n",
       ".list-inline>li {display: inline-block}\n",
       ".list-inline>li:not(:last-child)::after {content: \"\\00b7\"; padding: 0 .5ex}\n",
       "</style>\n",
       "<ol class=list-inline><li>9</li><li>7</li><li>7</li><li>8</li></ol>\n",
       "</dd>\n",
       "\t<dt>$test2</dt>\n",
       "\t\t<dd><style>\n",
       ".list-inline {list-style: none; margin:0; padding: 0}\n",
       ".list-inline>li {display: inline-block}\n",
       ".list-inline>li:not(:last-child)::after {content: \"\\00b7\"; padding: 0 .5ex}\n",
       "</style>\n",
       "<ol class=list-inline><li>8</li><li>8</li><li>7</li><li>10</li></ol>\n",
       "</dd>\n",
       "\t<dt>$test3</dt>\n",
       "\t\t<dd><style>\n",
       ".list-inline {list-style: none; margin:0; padding: 0}\n",
       ".list-inline>li {display: inline-block}\n",
       ".list-inline>li:not(:last-child)::after {content: \"\\00b7\"; padding: 0 .5ex}\n",
       "</style>\n",
       "<ol class=list-inline><li>8</li><li>10</li><li>9</li><li>9</li></ol>\n",
       "</dd>\n",
       "</dl>\n",
       "</dd>\n",
       "</dl>\n"
      ],
      "text/latex": [
       "\\begin{description}\n",
       "\\item[\\$names] \\begin{enumerate*}\n",
       "\\item 'Penny'\n",
       "\\item 'Jake'\n",
       "\\item 'Ji-Hoon'\n",
       "\\item 'Hasan'\n",
       "\\end{enumerate*}\n",
       "\n",
       "\\item[\\$age] \\begin{enumerate*}\n",
       "\\item 24\n",
       "\\item 21\n",
       "\\item 19\n",
       "\\item 22\n",
       "\\end{enumerate*}\n",
       "\n",
       "\\item[\\$scores] \\begin{description}\n",
       "\\item[\\$test1] \\begin{enumerate*}\n",
       "\\item 9\n",
       "\\item 7\n",
       "\\item 7\n",
       "\\item 8\n",
       "\\end{enumerate*}\n",
       "\n",
       "\\item[\\$test2] \\begin{enumerate*}\n",
       "\\item 8\n",
       "\\item 8\n",
       "\\item 7\n",
       "\\item 10\n",
       "\\end{enumerate*}\n",
       "\n",
       "\\item[\\$test3] \\begin{enumerate*}\n",
       "\\item 8\n",
       "\\item 10\n",
       "\\item 9\n",
       "\\item 9\n",
       "\\end{enumerate*}\n",
       "\n",
       "\\end{description}\n",
       "\n",
       "\\end{description}\n"
      ],
      "text/markdown": [
       "$names\n",
       ":   1. 'Penny'\n",
       "2. 'Jake'\n",
       "3. 'Ji-Hoon'\n",
       "4. 'Hasan'\n",
       "\n",
       "\n",
       "\n",
       "$age\n",
       ":   1. 24\n",
       "2. 21\n",
       "3. 19\n",
       "4. 22\n",
       "\n",
       "\n",
       "\n",
       "$scores\n",
       ":   $test1\n",
       ":   1. 9\n",
       "2. 7\n",
       "3. 7\n",
       "4. 8\n",
       "\n",
       "\n",
       "\n",
       "$test2\n",
       ":   1. 8\n",
       "2. 8\n",
       "3. 7\n",
       "4. 10\n",
       "\n",
       "\n",
       "\n",
       "$test3\n",
       ":   1. 8\n",
       "2. 10\n",
       "3. 9\n",
       "4. 9\n",
       "\n",
       "\n",
       "\n",
       "\n",
       "\n",
       "\n",
       "\n",
       "\n"
      ],
      "text/plain": [
       "$names\n",
       "[1] \"Penny\"   \"Jake\"    \"Ji-Hoon\" \"Hasan\"  \n",
       "\n",
       "$age\n",
       "[1] 24 21 19 22\n",
       "\n",
       "$scores\n",
       "$scores$test1\n",
       "[1] 9 7 7 8\n",
       "\n",
       "$scores$test2\n",
       "[1]  8  8  7 10\n",
       "\n",
       "$scores$test3\n",
       "[1]  8 10  9  9\n",
       "\n"
      ]
     },
     "metadata": {},
     "output_type": "display_data"
    }
   ],
   "source": [
    "# Ji-Hoon did extra credit for his test and went from a 6 to an 8\n",
    "list2$scores$test3[1] <- 8\n",
    "list2"
   ]
  },
  {
   "cell_type": "code",
   "execution_count": null,
   "id": "3991c5dc",
   "metadata": {},
   "outputs": [],
   "source": []
  }
 ],
 "metadata": {
  "kernelspec": {
   "display_name": "R",
   "language": "R",
   "name": "ir"
  },
  "language_info": {
   "codemirror_mode": "r",
   "file_extension": ".r",
   "mimetype": "text/x-r-source",
   "name": "R",
   "pygments_lexer": "r",
   "version": "4.3.1"
  }
 },
 "nbformat": 4,
 "nbformat_minor": 5
}
