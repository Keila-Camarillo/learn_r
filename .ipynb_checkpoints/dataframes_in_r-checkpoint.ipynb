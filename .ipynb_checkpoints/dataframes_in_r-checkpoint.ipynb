{
 "cells": [
  {
   "cell_type": "markdown",
   "id": "aa14daf2",
   "metadata": {},
   "source": [
    "## Initiating a data frame\n",
    "Data frames are the default data structure when you read in a csv file using read.csv(). This function will automatically use the first row of data as the column names unless otherwise specified.\n",
    "\n",
    "We can initiate data frames for data we create using the data.frame() function:"
   ]
  },
  {
   "cell_type": "code",
   "execution_count": 98,
   "id": "4b5cb181",
   "metadata": {},
   "outputs": [],
   "source": [
    "# Initiate data frame, dat\n",
    "dat <- data.frame(col1 = c(1:4),\n",
    "                    col2 = c(\"a\",\"b\", \"c\", \"d\"),\n",
    "                    col3 = 1)\n"
   ]
  },
  {
   "cell_type": "code",
   "execution_count": 99,
   "id": "a2646b5c",
   "metadata": {},
   "outputs": [
    {
     "data": {
      "text/html": [
       "<table class=\"dataframe\">\n",
       "<caption>A data.frame: 4 × 3</caption>\n",
       "<thead>\n",
       "\t<tr><th scope=col>col1</th><th scope=col>col2</th><th scope=col>col3</th></tr>\n",
       "\t<tr><th scope=col>&lt;int&gt;</th><th scope=col>&lt;chr&gt;</th><th scope=col>&lt;dbl&gt;</th></tr>\n",
       "</thead>\n",
       "<tbody>\n",
       "\t<tr><td>1</td><td>a</td><td>1</td></tr>\n",
       "\t<tr><td>2</td><td>b</td><td>1</td></tr>\n",
       "\t<tr><td>3</td><td>c</td><td>1</td></tr>\n",
       "\t<tr><td>4</td><td>d</td><td>1</td></tr>\n",
       "</tbody>\n",
       "</table>\n"
      ],
      "text/latex": [
       "A data.frame: 4 × 3\n",
       "\\begin{tabular}{lll}\n",
       " col1 & col2 & col3\\\\\n",
       " <int> & <chr> & <dbl>\\\\\n",
       "\\hline\n",
       "\t 1 & a & 1\\\\\n",
       "\t 2 & b & 1\\\\\n",
       "\t 3 & c & 1\\\\\n",
       "\t 4 & d & 1\\\\\n",
       "\\end{tabular}\n"
      ],
      "text/markdown": [
       "\n",
       "A data.frame: 4 × 3\n",
       "\n",
       "| col1 &lt;int&gt; | col2 &lt;chr&gt; | col3 &lt;dbl&gt; |\n",
       "|---|---|---|\n",
       "| 1 | a | 1 |\n",
       "| 2 | b | 1 |\n",
       "| 3 | c | 1 |\n",
       "| 4 | d | 1 |\n",
       "\n"
      ],
      "text/plain": [
       "  col1 col2 col3\n",
       "1 1    a    1   \n",
       "2 2    b    1   \n",
       "3 3    c    1   \n",
       "4 4    d    1   "
      ]
     },
     "metadata": {},
     "output_type": "display_data"
    }
   ],
   "source": [
    "dat"
   ]
  },
  {
   "cell_type": "code",
   "execution_count": 100,
   "id": "08079d7e",
   "metadata": {},
   "outputs": [
    {
     "data": {
      "text/html": [
       "<style>\n",
       ".list-inline {list-style: none; margin:0; padding: 0}\n",
       ".list-inline>li {display: inline-block}\n",
       ".list-inline>li:not(:last-child)::after {content: \"\\00b7\"; padding: 0 .5ex}\n",
       "</style>\n",
       "<ol class=list-inline><li>'col1'</li><li>'col2'</li><li>'col3'</li></ol>\n"
      ],
      "text/latex": [
       "\\begin{enumerate*}\n",
       "\\item 'col1'\n",
       "\\item 'col2'\n",
       "\\item 'col3'\n",
       "\\end{enumerate*}\n"
      ],
      "text/markdown": [
       "1. 'col1'\n",
       "2. 'col2'\n",
       "3. 'col3'\n",
       "\n",
       "\n"
      ],
      "text/plain": [
       "[1] \"col1\" \"col2\" \"col3\""
      ]
     },
     "metadata": {},
     "output_type": "display_data"
    }
   ],
   "source": [
    "# colnames() to get the column names\n",
    "colnames(dat)"
   ]
  },
  {
   "cell_type": "markdown",
   "id": "291da3ba",
   "metadata": {},
   "source": [
    "## Subsetting a data frame\n",
    "Individual rows, columns, and cells\n",
    "Data frames are structured as rows and columns\n",
    "* syntax dat[x,y], where x refers to a row index and y refers to a column index.\n",
    "* dat[x,y] calls the cell that is in the x-th row and y-th column\n",
    "* dat[,y] calls the entire y-th column\n",
    "* dat[x,] calls the entire x-th row\n",
    "\n",
    "Columns can be called by column name: dat$col1."
   ]
  },
  {
   "cell_type": "code",
   "execution_count": 101,
   "id": "4b02f373",
   "metadata": {},
   "outputs": [
    {
     "data": {
      "text/html": [
       "<table class=\"dataframe\">\n",
       "<caption>A data.frame: 1 × 3</caption>\n",
       "<thead>\n",
       "\t<tr><th></th><th scope=col>col1</th><th scope=col>col2</th><th scope=col>col3</th></tr>\n",
       "\t<tr><th></th><th scope=col>&lt;int&gt;</th><th scope=col>&lt;chr&gt;</th><th scope=col>&lt;dbl&gt;</th></tr>\n",
       "</thead>\n",
       "<tbody>\n",
       "\t<tr><th scope=row>4</th><td>4</td><td>d</td><td>1</td></tr>\n",
       "</tbody>\n",
       "</table>\n"
      ],
      "text/latex": [
       "A data.frame: 1 × 3\n",
       "\\begin{tabular}{r|lll}\n",
       "  & col1 & col2 & col3\\\\\n",
       "  & <int> & <chr> & <dbl>\\\\\n",
       "\\hline\n",
       "\t4 & 4 & d & 1\\\\\n",
       "\\end{tabular}\n"
      ],
      "text/markdown": [
       "\n",
       "A data.frame: 1 × 3\n",
       "\n",
       "| <!--/--> | col1 &lt;int&gt; | col2 &lt;chr&gt; | col3 &lt;dbl&gt; |\n",
       "|---|---|---|---|\n",
       "| 4 | 4 | d | 1 |\n",
       "\n"
      ],
      "text/plain": [
       "  col1 col2 col3\n",
       "4 4    d    1   "
      ]
     },
     "metadata": {},
     "output_type": "display_data"
    }
   ],
   "source": [
    "# Call the 4th row\n",
    "dat[4,]"
   ]
  },
  {
   "cell_type": "code",
   "execution_count": 102,
   "id": "0d5b0ac7",
   "metadata": {},
   "outputs": [
    {
     "data": {
      "text/html": [
       "<style>\n",
       ".list-inline {list-style: none; margin:0; padding: 0}\n",
       ".list-inline>li {display: inline-block}\n",
       ".list-inline>li:not(:last-child)::after {content: \"\\00b7\"; padding: 0 .5ex}\n",
       "</style>\n",
       "<ol class=list-inline><li>'a'</li><li>'b'</li><li>'c'</li><li>'d'</li></ol>\n"
      ],
      "text/latex": [
       "\\begin{enumerate*}\n",
       "\\item 'a'\n",
       "\\item 'b'\n",
       "\\item 'c'\n",
       "\\item 'd'\n",
       "\\end{enumerate*}\n"
      ],
      "text/markdown": [
       "1. 'a'\n",
       "2. 'b'\n",
       "3. 'c'\n",
       "4. 'd'\n",
       "\n",
       "\n"
      ],
      "text/plain": [
       "[1] \"a\" \"b\" \"c\" \"d\""
      ]
     },
     "metadata": {},
     "output_type": "display_data"
    }
   ],
   "source": [
    "# Call the 2nd column\n",
    "dat[,2]"
   ]
  },
  {
   "cell_type": "code",
   "execution_count": 103,
   "id": "ee745e15",
   "metadata": {},
   "outputs": [
    {
     "data": {
      "text/html": [
       "<style>\n",
       ".list-inline {list-style: none; margin:0; padding: 0}\n",
       ".list-inline>li {display: inline-block}\n",
       ".list-inline>li:not(:last-child)::after {content: \"\\00b7\"; padding: 0 .5ex}\n",
       "</style>\n",
       "<ol class=list-inline><li>1</li><li>2</li><li>3</li><li>4</li></ol>\n"
      ],
      "text/latex": [
       "\\begin{enumerate*}\n",
       "\\item 1\n",
       "\\item 2\n",
       "\\item 3\n",
       "\\item 4\n",
       "\\end{enumerate*}\n"
      ],
      "text/markdown": [
       "1. 1\n",
       "2. 2\n",
       "3. 3\n",
       "4. 4\n",
       "\n",
       "\n"
      ],
      "text/plain": [
       "[1] 1 2 3 4"
      ]
     },
     "metadata": {},
     "output_type": "display_data"
    }
   ],
   "source": [
    "# Call the entrie column by name\n",
    "dat$col1"
   ]
  },
  {
   "cell_type": "markdown",
   "id": "f59395b1",
   "metadata": {},
   "source": [
    "## Multiple rows or columns\n",
    "When using the dat[x,y] method, either x or y could be a vector or series of values. Doing so would call multiple rows or columns. We can also use the column names to select multiple columns. However, this method can become tedious if we are calling many columns."
   ]
  },
  {
   "cell_type": "code",
   "execution_count": 104,
   "id": "5b2ee9e3",
   "metadata": {},
   "outputs": [
    {
     "data": {
      "text/html": [
       "<table class=\"dataframe\">\n",
       "<caption>A data.frame: 3 × 3</caption>\n",
       "<thead>\n",
       "\t<tr><th></th><th scope=col>col1</th><th scope=col>col2</th><th scope=col>col3</th></tr>\n",
       "\t<tr><th></th><th scope=col>&lt;int&gt;</th><th scope=col>&lt;chr&gt;</th><th scope=col>&lt;dbl&gt;</th></tr>\n",
       "</thead>\n",
       "<tbody>\n",
       "\t<tr><th scope=row>1</th><td>1</td><td>a</td><td>1</td></tr>\n",
       "\t<tr><th scope=row>2</th><td>2</td><td>b</td><td>1</td></tr>\n",
       "\t<tr><th scope=row>3</th><td>3</td><td>c</td><td>1</td></tr>\n",
       "</tbody>\n",
       "</table>\n"
      ],
      "text/latex": [
       "A data.frame: 3 × 3\n",
       "\\begin{tabular}{r|lll}\n",
       "  & col1 & col2 & col3\\\\\n",
       "  & <int> & <chr> & <dbl>\\\\\n",
       "\\hline\n",
       "\t1 & 1 & a & 1\\\\\n",
       "\t2 & 2 & b & 1\\\\\n",
       "\t3 & 3 & c & 1\\\\\n",
       "\\end{tabular}\n"
      ],
      "text/markdown": [
       "\n",
       "A data.frame: 3 × 3\n",
       "\n",
       "| <!--/--> | col1 &lt;int&gt; | col2 &lt;chr&gt; | col3 &lt;dbl&gt; |\n",
       "|---|---|---|---|\n",
       "| 1 | 1 | a | 1 |\n",
       "| 2 | 2 | b | 1 |\n",
       "| 3 | 3 | c | 1 |\n",
       "\n"
      ],
      "text/plain": [
       "  col1 col2 col3\n",
       "1 1    a    1   \n",
       "2 2    b    1   \n",
       "3 3    c    1   "
      ]
     },
     "metadata": {},
     "output_type": "display_data"
    }
   ],
   "source": [
    "# Retrieve 1st through 3rd rows\n",
    "dat[1:3,]"
   ]
  },
  {
   "cell_type": "code",
   "execution_count": 105,
   "id": "a10ee477",
   "metadata": {},
   "outputs": [
    {
     "data": {
      "text/html": [
       "<table class=\"dataframe\">\n",
       "<caption>A data.frame: 4 × 3</caption>\n",
       "<thead>\n",
       "\t<tr><th scope=col>col1</th><th scope=col>col2</th><th scope=col>col3</th></tr>\n",
       "\t<tr><th scope=col>&lt;int&gt;</th><th scope=col>&lt;chr&gt;</th><th scope=col>&lt;dbl&gt;</th></tr>\n",
       "</thead>\n",
       "<tbody>\n",
       "\t<tr><td>1</td><td>a</td><td>1</td></tr>\n",
       "\t<tr><td>2</td><td>b</td><td>1</td></tr>\n",
       "\t<tr><td>3</td><td>c</td><td>1</td></tr>\n",
       "\t<tr><td>4</td><td>d</td><td>1</td></tr>\n",
       "</tbody>\n",
       "</table>\n"
      ],
      "text/latex": [
       "A data.frame: 4 × 3\n",
       "\\begin{tabular}{lll}\n",
       " col1 & col2 & col3\\\\\n",
       " <int> & <chr> & <dbl>\\\\\n",
       "\\hline\n",
       "\t 1 & a & 1\\\\\n",
       "\t 2 & b & 1\\\\\n",
       "\t 3 & c & 1\\\\\n",
       "\t 4 & d & 1\\\\\n",
       "\\end{tabular}\n"
      ],
      "text/markdown": [
       "\n",
       "A data.frame: 4 × 3\n",
       "\n",
       "| col1 &lt;int&gt; | col2 &lt;chr&gt; | col3 &lt;dbl&gt; |\n",
       "|---|---|---|\n",
       "| 1 | a | 1 |\n",
       "| 2 | b | 1 |\n",
       "| 3 | c | 1 |\n",
       "| 4 | d | 1 |\n",
       "\n"
      ],
      "text/plain": [
       "  col1 col2 col3\n",
       "1 1    a    1   \n",
       "2 2    b    1   \n",
       "3 3    c    1   \n",
       "4 4    d    1   "
      ]
     },
     "metadata": {},
     "output_type": "display_data"
    }
   ],
   "source": [
    "# Retrieve 1st through 3rd columns\n",
    "dat[,1:3]"
   ]
  },
  {
   "cell_type": "code",
   "execution_count": 106,
   "id": "cf4b8cb8",
   "metadata": {},
   "outputs": [
    {
     "data": {
      "text/html": [
       "<table class=\"dataframe\">\n",
       "<caption>A data.frame: 4 × 3</caption>\n",
       "<thead>\n",
       "\t<tr><th scope=col>col1</th><th scope=col>col2</th><th scope=col>col3</th></tr>\n",
       "\t<tr><th scope=col>&lt;int&gt;</th><th scope=col>&lt;chr&gt;</th><th scope=col>&lt;dbl&gt;</th></tr>\n",
       "</thead>\n",
       "<tbody>\n",
       "\t<tr><td>1</td><td>a</td><td>1</td></tr>\n",
       "\t<tr><td>2</td><td>b</td><td>1</td></tr>\n",
       "\t<tr><td>3</td><td>c</td><td>1</td></tr>\n",
       "\t<tr><td>4</td><td>d</td><td>1</td></tr>\n",
       "</tbody>\n",
       "</table>\n"
      ],
      "text/latex": [
       "A data.frame: 4 × 3\n",
       "\\begin{tabular}{lll}\n",
       " col1 & col2 & col3\\\\\n",
       " <int> & <chr> & <dbl>\\\\\n",
       "\\hline\n",
       "\t 1 & a & 1\\\\\n",
       "\t 2 & b & 1\\\\\n",
       "\t 3 & c & 1\\\\\n",
       "\t 4 & d & 1\\\\\n",
       "\\end{tabular}\n"
      ],
      "text/markdown": [
       "\n",
       "A data.frame: 4 × 3\n",
       "\n",
       "| col1 &lt;int&gt; | col2 &lt;chr&gt; | col3 &lt;dbl&gt; |\n",
       "|---|---|---|\n",
       "| 1 | a | 1 |\n",
       "| 2 | b | 1 |\n",
       "| 3 | c | 1 |\n",
       "| 4 | d | 1 |\n",
       "\n"
      ],
      "text/plain": [
       "  col1 col2 col3\n",
       "1 1    a    1   \n",
       "2 2    b    1   \n",
       "3 3    c    1   \n",
       "4 4    d    1   "
      ]
     },
     "metadata": {},
     "output_type": "display_data"
    }
   ],
   "source": [
    "# Retrieve 1st and 3rd columns using names\n",
    "dat[, c(\"col1\", \"col2\", \"col3\")]"
   ]
  },
  {
   "cell_type": "markdown",
   "id": "744ae778",
   "metadata": {},
   "source": [
    "## Conditional selection\n",
    "We can use the which() function to call specific rows that meet some logical criteria."
   ]
  },
  {
   "cell_type": "code",
   "execution_count": 107,
   "id": "7bf65045",
   "metadata": {},
   "outputs": [
    {
     "data": {
      "text/html": [
       "<table class=\"dataframe\">\n",
       "<caption>A data.frame: 2 × 3</caption>\n",
       "<thead>\n",
       "\t<tr><th></th><th scope=col>col1</th><th scope=col>col2</th><th scope=col>col3</th></tr>\n",
       "\t<tr><th></th><th scope=col>&lt;int&gt;</th><th scope=col>&lt;chr&gt;</th><th scope=col>&lt;dbl&gt;</th></tr>\n",
       "</thead>\n",
       "<tbody>\n",
       "\t<tr><th scope=row>3</th><td>3</td><td>c</td><td>1</td></tr>\n",
       "\t<tr><th scope=row>4</th><td>4</td><td>d</td><td>1</td></tr>\n",
       "</tbody>\n",
       "</table>\n"
      ],
      "text/latex": [
       "A data.frame: 2 × 3\n",
       "\\begin{tabular}{r|lll}\n",
       "  & col1 & col2 & col3\\\\\n",
       "  & <int> & <chr> & <dbl>\\\\\n",
       "\\hline\n",
       "\t3 & 3 & c & 1\\\\\n",
       "\t4 & 4 & d & 1\\\\\n",
       "\\end{tabular}\n"
      ],
      "text/markdown": [
       "\n",
       "A data.frame: 2 × 3\n",
       "\n",
       "| <!--/--> | col1 &lt;int&gt; | col2 &lt;chr&gt; | col3 &lt;dbl&gt; |\n",
       "|---|---|---|---|\n",
       "| 3 | 3 | c | 1 |\n",
       "| 4 | 4 | d | 1 |\n",
       "\n"
      ],
      "text/plain": [
       "  col1 col2 col3\n",
       "3 3    c    1   \n",
       "4 4    d    1   "
      ]
     },
     "metadata": {},
     "output_type": "display_data"
    }
   ],
   "source": [
    "# Retrieve rows that have col1 > 2\n",
    "dat[which(dat[,1] > 2),]"
   ]
  },
  {
   "cell_type": "code",
   "execution_count": 108,
   "id": "6add565e",
   "metadata": {},
   "outputs": [
    {
     "data": {
      "text/html": [
       "<table class=\"dataframe\">\n",
       "<caption>A data.frame: 2 × 3</caption>\n",
       "<thead>\n",
       "\t<tr><th></th><th scope=col>col1</th><th scope=col>col2</th><th scope=col>col3</th></tr>\n",
       "\t<tr><th></th><th scope=col>&lt;int&gt;</th><th scope=col>&lt;chr&gt;</th><th scope=col>&lt;dbl&gt;</th></tr>\n",
       "</thead>\n",
       "<tbody>\n",
       "\t<tr><th scope=row>2</th><td>2</td><td>b</td><td>1</td></tr>\n",
       "\t<tr><th scope=row>4</th><td>4</td><td>d</td><td>1</td></tr>\n",
       "</tbody>\n",
       "</table>\n"
      ],
      "text/latex": [
       "A data.frame: 2 × 3\n",
       "\\begin{tabular}{r|lll}\n",
       "  & col1 & col2 & col3\\\\\n",
       "  & <int> & <chr> & <dbl>\\\\\n",
       "\\hline\n",
       "\t2 & 2 & b & 1\\\\\n",
       "\t4 & 4 & d & 1\\\\\n",
       "\\end{tabular}\n"
      ],
      "text/markdown": [
       "\n",
       "A data.frame: 2 × 3\n",
       "\n",
       "| <!--/--> | col1 &lt;int&gt; | col2 &lt;chr&gt; | col3 &lt;dbl&gt; |\n",
       "|---|---|---|---|\n",
       "| 2 | 2 | b | 1 |\n",
       "| 4 | 4 | d | 1 |\n",
       "\n"
      ],
      "text/plain": [
       "  col1 col2 col3\n",
       "2 2    b    1   \n",
       "4 4    d    1   "
      ]
     },
     "metadata": {},
     "output_type": "display_data"
    }
   ],
   "source": [
    "# Retrive rows that have col2 == \"b\" or \"d\"\n",
    "dat[which(dat[,2]== \"b\" | dat[,2]== \"d\"),] "
   ]
  },
  {
   "cell_type": "markdown",
   "id": "2653e8ab",
   "metadata": {},
   "source": [
    "## Adding data to a data frame\n",
    "### Adding columns\n",
    "Add a column of data by calling the name of the new column using the $ method. Then we assign the contents of the column. The contents of the new column must be in one of the following shapes:\n",
    "\n",
    "* a single value that will flood through the whole column\n",
    "* a vector whose length is the same as the number of rows in the data frame\n",
    "* a vector whose length is a factor of the number of rows in the data frame. This vector will repeat through the column.\n"
   ]
  },
  {
   "cell_type": "code",
   "execution_count": 109,
   "id": "e4b71a0b",
   "metadata": {},
   "outputs": [
    {
     "data": {
      "text/html": [
       "<table class=\"dataframe\">\n",
       "<caption>A data.frame: 4 × 4</caption>\n",
       "<thead>\n",
       "\t<tr><th scope=col>col1</th><th scope=col>col2</th><th scope=col>col3</th><th scope=col>col4</th></tr>\n",
       "\t<tr><th scope=col>&lt;int&gt;</th><th scope=col>&lt;chr&gt;</th><th scope=col>&lt;dbl&gt;</th><th scope=col>&lt;chr&gt;</th></tr>\n",
       "</thead>\n",
       "<tbody>\n",
       "\t<tr><td>1</td><td>a</td><td>1</td><td>b</td></tr>\n",
       "\t<tr><td>2</td><td>b</td><td>1</td><td>b</td></tr>\n",
       "\t<tr><td>3</td><td>c</td><td>1</td><td>b</td></tr>\n",
       "\t<tr><td>4</td><td>d</td><td>1</td><td>b</td></tr>\n",
       "</tbody>\n",
       "</table>\n"
      ],
      "text/latex": [
       "A data.frame: 4 × 4\n",
       "\\begin{tabular}{llll}\n",
       " col1 & col2 & col3 & col4\\\\\n",
       " <int> & <chr> & <dbl> & <chr>\\\\\n",
       "\\hline\n",
       "\t 1 & a & 1 & b\\\\\n",
       "\t 2 & b & 1 & b\\\\\n",
       "\t 3 & c & 1 & b\\\\\n",
       "\t 4 & d & 1 & b\\\\\n",
       "\\end{tabular}\n"
      ],
      "text/markdown": [
       "\n",
       "A data.frame: 4 × 4\n",
       "\n",
       "| col1 &lt;int&gt; | col2 &lt;chr&gt; | col3 &lt;dbl&gt; | col4 &lt;chr&gt; |\n",
       "|---|---|---|---|\n",
       "| 1 | a | 1 | b |\n",
       "| 2 | b | 1 | b |\n",
       "| 3 | c | 1 | b |\n",
       "| 4 | d | 1 | b |\n",
       "\n"
      ],
      "text/plain": [
       "  col1 col2 col3 col4\n",
       "1 1    a    1    b   \n",
       "2 2    b    1    b   \n",
       "3 3    c    1    b   \n",
       "4 4    d    1    b   "
      ]
     },
     "metadata": {},
     "output_type": "display_data"
    }
   ],
   "source": [
    "# Single value\n",
    "dat$col4 <- \"b\"\n",
    "dat"
   ]
  },
  {
   "cell_type": "code",
   "execution_count": 110,
   "id": "25c02cc5",
   "metadata": {},
   "outputs": [
    {
     "data": {
      "text/html": [
       "<table class=\"dataframe\">\n",
       "<caption>A data.frame: 4 × 5</caption>\n",
       "<thead>\n",
       "\t<tr><th scope=col>col1</th><th scope=col>col2</th><th scope=col>col3</th><th scope=col>col4</th><th scope=col>col5</th></tr>\n",
       "\t<tr><th scope=col>&lt;int&gt;</th><th scope=col>&lt;chr&gt;</th><th scope=col>&lt;dbl&gt;</th><th scope=col>&lt;chr&gt;</th><th scope=col>&lt;chr&gt;</th></tr>\n",
       "</thead>\n",
       "<tbody>\n",
       "\t<tr><td>1</td><td>a</td><td>1</td><td>b</td><td>e</td></tr>\n",
       "\t<tr><td>2</td><td>b</td><td>1</td><td>b</td><td>f</td></tr>\n",
       "\t<tr><td>3</td><td>c</td><td>1</td><td>b</td><td>g</td></tr>\n",
       "\t<tr><td>4</td><td>d</td><td>1</td><td>b</td><td>h</td></tr>\n",
       "</tbody>\n",
       "</table>\n"
      ],
      "text/latex": [
       "A data.frame: 4 × 5\n",
       "\\begin{tabular}{lllll}\n",
       " col1 & col2 & col3 & col4 & col5\\\\\n",
       " <int> & <chr> & <dbl> & <chr> & <chr>\\\\\n",
       "\\hline\n",
       "\t 1 & a & 1 & b & e\\\\\n",
       "\t 2 & b & 1 & b & f\\\\\n",
       "\t 3 & c & 1 & b & g\\\\\n",
       "\t 4 & d & 1 & b & h\\\\\n",
       "\\end{tabular}\n"
      ],
      "text/markdown": [
       "\n",
       "A data.frame: 4 × 5\n",
       "\n",
       "| col1 &lt;int&gt; | col2 &lt;chr&gt; | col3 &lt;dbl&gt; | col4 &lt;chr&gt; | col5 &lt;chr&gt; |\n",
       "|---|---|---|---|---|\n",
       "| 1 | a | 1 | b | e |\n",
       "| 2 | b | 1 | b | f |\n",
       "| 3 | c | 1 | b | g |\n",
       "| 4 | d | 1 | b | h |\n",
       "\n"
      ],
      "text/plain": [
       "  col1 col2 col3 col4 col5\n",
       "1 1    a    1    b    e   \n",
       "2 2    b    1    b    f   \n",
       "3 3    c    1    b    g   \n",
       "4 4    d    1    b    h   "
      ]
     },
     "metadata": {},
     "output_type": "display_data"
    }
   ],
   "source": [
    "# Vector whose length equals the number of rows\n",
    "dat$col5 <- c(\"e\", \"f\", \"g\", \"h\")\n",
    "dat"
   ]
  },
  {
   "cell_type": "code",
   "execution_count": 111,
   "id": "e8a58367",
   "metadata": {},
   "outputs": [
    {
     "data": {
      "text/html": [
       "<table class=\"dataframe\">\n",
       "<caption>A data.frame: 4 × 6</caption>\n",
       "<thead>\n",
       "\t<tr><th scope=col>col1</th><th scope=col>col2</th><th scope=col>col3</th><th scope=col>col4</th><th scope=col>col5</th><th scope=col>col6</th></tr>\n",
       "\t<tr><th scope=col>&lt;int&gt;</th><th scope=col>&lt;chr&gt;</th><th scope=col>&lt;dbl&gt;</th><th scope=col>&lt;chr&gt;</th><th scope=col>&lt;chr&gt;</th><th scope=col>&lt;dbl&gt;</th></tr>\n",
       "</thead>\n",
       "<tbody>\n",
       "\t<tr><td>1</td><td>a</td><td>1</td><td>b</td><td>e</td><td>1</td></tr>\n",
       "\t<tr><td>2</td><td>b</td><td>1</td><td>b</td><td>f</td><td>2</td></tr>\n",
       "\t<tr><td>3</td><td>c</td><td>1</td><td>b</td><td>g</td><td>1</td></tr>\n",
       "\t<tr><td>4</td><td>d</td><td>1</td><td>b</td><td>h</td><td>2</td></tr>\n",
       "</tbody>\n",
       "</table>\n"
      ],
      "text/latex": [
       "A data.frame: 4 × 6\n",
       "\\begin{tabular}{llllll}\n",
       " col1 & col2 & col3 & col4 & col5 & col6\\\\\n",
       " <int> & <chr> & <dbl> & <chr> & <chr> & <dbl>\\\\\n",
       "\\hline\n",
       "\t 1 & a & 1 & b & e & 1\\\\\n",
       "\t 2 & b & 1 & b & f & 2\\\\\n",
       "\t 3 & c & 1 & b & g & 1\\\\\n",
       "\t 4 & d & 1 & b & h & 2\\\\\n",
       "\\end{tabular}\n"
      ],
      "text/markdown": [
       "\n",
       "A data.frame: 4 × 6\n",
       "\n",
       "| col1 &lt;int&gt; | col2 &lt;chr&gt; | col3 &lt;dbl&gt; | col4 &lt;chr&gt; | col5 &lt;chr&gt; | col6 &lt;dbl&gt; |\n",
       "|---|---|---|---|---|---|\n",
       "| 1 | a | 1 | b | e | 1 |\n",
       "| 2 | b | 1 | b | f | 2 |\n",
       "| 3 | c | 1 | b | g | 1 |\n",
       "| 4 | d | 1 | b | h | 2 |\n",
       "\n"
      ],
      "text/plain": [
       "  col1 col2 col3 col4 col5 col6\n",
       "1 1    a    1    b    e    1   \n",
       "2 2    b    1    b    f    2   \n",
       "3 3    c    1    b    g    1   \n",
       "4 4    d    1    b    h    2   "
      ]
     },
     "metadata": {},
     "output_type": "display_data"
    }
   ],
   "source": [
    "# Vector whose length is a factor of the number of rows\n",
    "dat$col6 <- c(1,2)\n",
    "dat"
   ]
  },
  {
   "cell_type": "markdown",
   "id": "34e2ba78",
   "metadata": {},
   "source": [
    "## Adding rows\n",
    "Append rows to a data frame using rbind(data_frame, new_rows). Similar to adding columns to a data frame, the contents must be in one of the following shapes:\n",
    "\n",
    "* a single value that will fill across the entire row\n",
    "* a vector whose length is the same as the number of columns in the data frame\n",
    "* a vector whose length is a factor of the number of columns in the data frame. This vector will repeat itself through the row."
   ]
  },
  {
   "cell_type": "code",
   "execution_count": 112,
   "id": "743a5c21",
   "metadata": {},
   "outputs": [
    {
     "data": {
      "text/html": [
       "<table class=\"dataframe\">\n",
       "<caption>A data.frame: 5 × 6</caption>\n",
       "<thead>\n",
       "\t<tr><th scope=col>col1</th><th scope=col>col2</th><th scope=col>col3</th><th scope=col>col4</th><th scope=col>col5</th><th scope=col>col6</th></tr>\n",
       "\t<tr><th scope=col>&lt;dbl&gt;</th><th scope=col>&lt;chr&gt;</th><th scope=col>&lt;dbl&gt;</th><th scope=col>&lt;chr&gt;</th><th scope=col>&lt;chr&gt;</th><th scope=col>&lt;dbl&gt;</th></tr>\n",
       "</thead>\n",
       "<tbody>\n",
       "\t<tr><td>1</td><td>a</td><td>1</td><td>b</td><td>e</td><td>1</td></tr>\n",
       "\t<tr><td>2</td><td>b</td><td>1</td><td>b</td><td>f</td><td>2</td></tr>\n",
       "\t<tr><td>3</td><td>c</td><td>1</td><td>b</td><td>g</td><td>1</td></tr>\n",
       "\t<tr><td>4</td><td>d</td><td>1</td><td>b</td><td>h</td><td>2</td></tr>\n",
       "\t<tr><td>1</td><td>1</td><td>1</td><td>1</td><td>1</td><td>1</td></tr>\n",
       "</tbody>\n",
       "</table>\n"
      ],
      "text/latex": [
       "A data.frame: 5 × 6\n",
       "\\begin{tabular}{llllll}\n",
       " col1 & col2 & col3 & col4 & col5 & col6\\\\\n",
       " <dbl> & <chr> & <dbl> & <chr> & <chr> & <dbl>\\\\\n",
       "\\hline\n",
       "\t 1 & a & 1 & b & e & 1\\\\\n",
       "\t 2 & b & 1 & b & f & 2\\\\\n",
       "\t 3 & c & 1 & b & g & 1\\\\\n",
       "\t 4 & d & 1 & b & h & 2\\\\\n",
       "\t 1 & 1 & 1 & 1 & 1 & 1\\\\\n",
       "\\end{tabular}\n"
      ],
      "text/markdown": [
       "\n",
       "A data.frame: 5 × 6\n",
       "\n",
       "| col1 &lt;dbl&gt; | col2 &lt;chr&gt; | col3 &lt;dbl&gt; | col4 &lt;chr&gt; | col5 &lt;chr&gt; | col6 &lt;dbl&gt; |\n",
       "|---|---|---|---|---|---|\n",
       "| 1 | a | 1 | b | e | 1 |\n",
       "| 2 | b | 1 | b | f | 2 |\n",
       "| 3 | c | 1 | b | g | 1 |\n",
       "| 4 | d | 1 | b | h | 2 |\n",
       "| 1 | 1 | 1 | 1 | 1 | 1 |\n",
       "\n"
      ],
      "text/plain": [
       "  col1 col2 col3 col4 col5 col6\n",
       "1 1    a    1    b    e    1   \n",
       "2 2    b    1    b    f    2   \n",
       "3 3    c    1    b    g    1   \n",
       "4 4    d    1    b    h    2   \n",
       "5 1    1    1    1    1    1   "
      ]
     },
     "metadata": {},
     "output_type": "display_data"
    }
   ],
   "source": [
    "# Single value that will fill across the entire row\n",
    "dat <- rbind(dat, 1)\n",
    "dat"
   ]
  },
  {
   "cell_type": "code",
   "execution_count": 113,
   "id": "3e28abff",
   "metadata": {},
   "outputs": [
    {
     "data": {
      "text/html": [
       "<table class=\"dataframe\">\n",
       "<caption>A data.frame: 6 × 6</caption>\n",
       "<thead>\n",
       "\t<tr><th scope=col>col1</th><th scope=col>col2</th><th scope=col>col3</th><th scope=col>col4</th><th scope=col>col5</th><th scope=col>col6</th></tr>\n",
       "\t<tr><th scope=col>&lt;chr&gt;</th><th scope=col>&lt;chr&gt;</th><th scope=col>&lt;chr&gt;</th><th scope=col>&lt;chr&gt;</th><th scope=col>&lt;chr&gt;</th><th scope=col>&lt;chr&gt;</th></tr>\n",
       "</thead>\n",
       "<tbody>\n",
       "\t<tr><td>1</td><td>a</td><td>1</td><td>b</td><td>e</td><td>1</td></tr>\n",
       "\t<tr><td>2</td><td>b</td><td>1</td><td>b</td><td>f</td><td>2</td></tr>\n",
       "\t<tr><td>3</td><td>c</td><td>1</td><td>b</td><td>g</td><td>1</td></tr>\n",
       "\t<tr><td>4</td><td>d</td><td>1</td><td>b</td><td>h</td><td>2</td></tr>\n",
       "\t<tr><td>1</td><td>1</td><td>1</td><td>1</td><td>1</td><td>1</td></tr>\n",
       "\t<tr><td>5</td><td>a</td><td>3</td><td>e</td><td>1</td><td>i</td></tr>\n",
       "</tbody>\n",
       "</table>\n"
      ],
      "text/latex": [
       "A data.frame: 6 × 6\n",
       "\\begin{tabular}{llllll}\n",
       " col1 & col2 & col3 & col4 & col5 & col6\\\\\n",
       " <chr> & <chr> & <chr> & <chr> & <chr> & <chr>\\\\\n",
       "\\hline\n",
       "\t 1 & a & 1 & b & e & 1\\\\\n",
       "\t 2 & b & 1 & b & f & 2\\\\\n",
       "\t 3 & c & 1 & b & g & 1\\\\\n",
       "\t 4 & d & 1 & b & h & 2\\\\\n",
       "\t 1 & 1 & 1 & 1 & 1 & 1\\\\\n",
       "\t 5 & a & 3 & e & 1 & i\\\\\n",
       "\\end{tabular}\n"
      ],
      "text/markdown": [
       "\n",
       "A data.frame: 6 × 6\n",
       "\n",
       "| col1 &lt;chr&gt; | col2 &lt;chr&gt; | col3 &lt;chr&gt; | col4 &lt;chr&gt; | col5 &lt;chr&gt; | col6 &lt;chr&gt; |\n",
       "|---|---|---|---|---|---|\n",
       "| 1 | a | 1 | b | e | 1 |\n",
       "| 2 | b | 1 | b | f | 2 |\n",
       "| 3 | c | 1 | b | g | 1 |\n",
       "| 4 | d | 1 | b | h | 2 |\n",
       "| 1 | 1 | 1 | 1 | 1 | 1 |\n",
       "| 5 | a | 3 | e | 1 | i |\n",
       "\n"
      ],
      "text/plain": [
       "  col1 col2 col3 col4 col5 col6\n",
       "1 1    a    1    b    e    1   \n",
       "2 2    b    1    b    f    2   \n",
       "3 3    c    1    b    g    1   \n",
       "4 4    d    1    b    h    2   \n",
       "5 1    1    1    1    1    1   \n",
       "6 5    a    3    e    1    i   "
      ]
     },
     "metadata": {},
     "output_type": "display_data"
    }
   ],
   "source": [
    "# Vector whose length equals the number of columns\n",
    "dat <- rbind(dat, c(5, \"a\", 3, \"e\", 1, \"i\"))\n",
    "dat"
   ]
  },
  {
   "cell_type": "code",
   "execution_count": 114,
   "id": "622edc69",
   "metadata": {},
   "outputs": [
    {
     "data": {
      "text/html": [
       "<table class=\"dataframe\">\n",
       "<caption>A data.frame: 7 × 6</caption>\n",
       "<thead>\n",
       "\t<tr><th scope=col>col1</th><th scope=col>col2</th><th scope=col>col3</th><th scope=col>col4</th><th scope=col>col5</th><th scope=col>col6</th></tr>\n",
       "\t<tr><th scope=col>&lt;chr&gt;</th><th scope=col>&lt;chr&gt;</th><th scope=col>&lt;chr&gt;</th><th scope=col>&lt;chr&gt;</th><th scope=col>&lt;chr&gt;</th><th scope=col>&lt;chr&gt;</th></tr>\n",
       "</thead>\n",
       "<tbody>\n",
       "\t<tr><td>1</td><td>a</td><td>1</td><td>b</td><td>e</td><td>1</td></tr>\n",
       "\t<tr><td>2</td><td>b</td><td>1</td><td>b</td><td>f</td><td>2</td></tr>\n",
       "\t<tr><td>3</td><td>c</td><td>1</td><td>b</td><td>g</td><td>1</td></tr>\n",
       "\t<tr><td>4</td><td>d</td><td>1</td><td>b</td><td>h</td><td>2</td></tr>\n",
       "\t<tr><td>1</td><td>1</td><td>1</td><td>1</td><td>1</td><td>1</td></tr>\n",
       "\t<tr><td>5</td><td>a</td><td>3</td><td>e</td><td>1</td><td>i</td></tr>\n",
       "\t<tr><td>x</td><td>y</td><td>x</td><td>y</td><td>x</td><td>y</td></tr>\n",
       "</tbody>\n",
       "</table>\n"
      ],
      "text/latex": [
       "A data.frame: 7 × 6\n",
       "\\begin{tabular}{llllll}\n",
       " col1 & col2 & col3 & col4 & col5 & col6\\\\\n",
       " <chr> & <chr> & <chr> & <chr> & <chr> & <chr>\\\\\n",
       "\\hline\n",
       "\t 1 & a & 1 & b & e & 1\\\\\n",
       "\t 2 & b & 1 & b & f & 2\\\\\n",
       "\t 3 & c & 1 & b & g & 1\\\\\n",
       "\t 4 & d & 1 & b & h & 2\\\\\n",
       "\t 1 & 1 & 1 & 1 & 1 & 1\\\\\n",
       "\t 5 & a & 3 & e & 1 & i\\\\\n",
       "\t x & y & x & y & x & y\\\\\n",
       "\\end{tabular}\n"
      ],
      "text/markdown": [
       "\n",
       "A data.frame: 7 × 6\n",
       "\n",
       "| col1 &lt;chr&gt; | col2 &lt;chr&gt; | col3 &lt;chr&gt; | col4 &lt;chr&gt; | col5 &lt;chr&gt; | col6 &lt;chr&gt; |\n",
       "|---|---|---|---|---|---|\n",
       "| 1 | a | 1 | b | e | 1 |\n",
       "| 2 | b | 1 | b | f | 2 |\n",
       "| 3 | c | 1 | b | g | 1 |\n",
       "| 4 | d | 1 | b | h | 2 |\n",
       "| 1 | 1 | 1 | 1 | 1 | 1 |\n",
       "| 5 | a | 3 | e | 1 | i |\n",
       "| x | y | x | y | x | y |\n",
       "\n"
      ],
      "text/plain": [
       "  col1 col2 col3 col4 col5 col6\n",
       "1 1    a    1    b    e    1   \n",
       "2 2    b    1    b    f    2   \n",
       "3 3    c    1    b    g    1   \n",
       "4 4    d    1    b    h    2   \n",
       "5 1    1    1    1    1    1   \n",
       "6 5    a    3    e    1    i   \n",
       "7 x    y    x    y    x    y   "
      ]
     },
     "metadata": {},
     "output_type": "display_data"
    }
   ],
   "source": [
    "# Vector whose length is a factor of the number of columns\n",
    "dat <- rbind(dat, c(\"x\", \"y\"))\n",
    "dat"
   ]
  },
  {
   "cell_type": "markdown",
   "id": "5c190917",
   "metadata": {},
   "source": [
    "# Modifying specific values\n",
    "We can modify existing data the same way we can add data in data frames: \n",
    "* we call the row(s), column(s), or cell(s) we want to change and assign a new value."
   ]
  },
  {
   "cell_type": "code",
   "execution_count": 115,
   "id": "6bf99b36",
   "metadata": {},
   "outputs": [
    {
     "data": {
      "text/html": [
       "<table class=\"dataframe\">\n",
       "<caption>A data.frame: 7 × 6</caption>\n",
       "<thead>\n",
       "\t<tr><th scope=col>col1</th><th scope=col>col2</th><th scope=col>col3</th><th scope=col>col4</th><th scope=col>col5</th><th scope=col>col6</th></tr>\n",
       "\t<tr><th scope=col>&lt;chr&gt;</th><th scope=col>&lt;chr&gt;</th><th scope=col>&lt;chr&gt;</th><th scope=col>&lt;chr&gt;</th><th scope=col>&lt;chr&gt;</th><th scope=col>&lt;chr&gt;</th></tr>\n",
       "</thead>\n",
       "<tbody>\n",
       "\t<tr><td>1</td><td>a</td><td>!</td><td>b</td><td>e</td><td>1</td></tr>\n",
       "\t<tr><td>2</td><td>b</td><td>!</td><td>b</td><td>f</td><td>2</td></tr>\n",
       "\t<tr><td>3</td><td>c</td><td>!</td><td>b</td><td>g</td><td>1</td></tr>\n",
       "\t<tr><td>4</td><td>d</td><td>!</td><td>b</td><td>h</td><td>2</td></tr>\n",
       "\t<tr><td>1</td><td>1</td><td>!</td><td>1</td><td>1</td><td>1</td></tr>\n",
       "\t<tr><td>5</td><td>a</td><td>!</td><td>e</td><td>1</td><td>i</td></tr>\n",
       "\t<tr><td>x</td><td>y</td><td>!</td><td>y</td><td>x</td><td>y</td></tr>\n",
       "</tbody>\n",
       "</table>\n"
      ],
      "text/latex": [
       "A data.frame: 7 × 6\n",
       "\\begin{tabular}{llllll}\n",
       " col1 & col2 & col3 & col4 & col5 & col6\\\\\n",
       " <chr> & <chr> & <chr> & <chr> & <chr> & <chr>\\\\\n",
       "\\hline\n",
       "\t 1 & a & ! & b & e & 1\\\\\n",
       "\t 2 & b & ! & b & f & 2\\\\\n",
       "\t 3 & c & ! & b & g & 1\\\\\n",
       "\t 4 & d & ! & b & h & 2\\\\\n",
       "\t 1 & 1 & ! & 1 & 1 & 1\\\\\n",
       "\t 5 & a & ! & e & 1 & i\\\\\n",
       "\t x & y & ! & y & x & y\\\\\n",
       "\\end{tabular}\n"
      ],
      "text/markdown": [
       "\n",
       "A data.frame: 7 × 6\n",
       "\n",
       "| col1 &lt;chr&gt; | col2 &lt;chr&gt; | col3 &lt;chr&gt; | col4 &lt;chr&gt; | col5 &lt;chr&gt; | col6 &lt;chr&gt; |\n",
       "|---|---|---|---|---|---|\n",
       "| 1 | a | ! | b | e | 1 |\n",
       "| 2 | b | ! | b | f | 2 |\n",
       "| 3 | c | ! | b | g | 1 |\n",
       "| 4 | d | ! | b | h | 2 |\n",
       "| 1 | 1 | ! | 1 | 1 | 1 |\n",
       "| 5 | a | ! | e | 1 | i |\n",
       "| x | y | ! | y | x | y |\n",
       "\n"
      ],
      "text/plain": [
       "  col1 col2 col3 col4 col5 col6\n",
       "1 1    a    !    b    e    1   \n",
       "2 2    b    !    b    f    2   \n",
       "3 3    c    !    b    g    1   \n",
       "4 4    d    !    b    h    2   \n",
       "5 1    1    !    1    1    1   \n",
       "6 5    a    !    e    1    i   \n",
       "7 x    y    !    y    x    y   "
      ]
     },
     "metadata": {},
     "output_type": "display_data"
    }
   ],
   "source": [
    "# Change the whole 3rd column to equal \"!\"\n",
    "dat[,3] <- \"!\"\n",
    "dat"
   ]
  },
  {
   "cell_type": "code",
   "execution_count": 116,
   "id": "75c141d1",
   "metadata": {},
   "outputs": [
    {
     "data": {
      "text/html": [
       "<table class=\"dataframe\">\n",
       "<caption>A data.frame: 7 × 6</caption>\n",
       "<thead>\n",
       "\t<tr><th scope=col>col1</th><th scope=col>col2</th><th scope=col>col3</th><th scope=col>col4</th><th scope=col>col5</th><th scope=col>col6</th></tr>\n",
       "\t<tr><th scope=col>&lt;chr&gt;</th><th scope=col>&lt;chr&gt;</th><th scope=col>&lt;chr&gt;</th><th scope=col>&lt;chr&gt;</th><th scope=col>&lt;chr&gt;</th><th scope=col>&lt;chr&gt;</th></tr>\n",
       "</thead>\n",
       "<tbody>\n",
       "\t<tr><td>1</td><td>a</td><td>!</td><td>b</td><td>e</td><td>1</td></tr>\n",
       "\t<tr><td>2</td><td>b</td><td>!</td><td>b</td><td>f</td><td>2</td></tr>\n",
       "\t<tr><td>3</td><td>c</td><td>!</td><td>b</td><td>g</td><td>1</td></tr>\n",
       "\t<tr><td>?</td><td>?</td><td>?</td><td>?</td><td>?</td><td>?</td></tr>\n",
       "\t<tr><td>?</td><td>?</td><td>?</td><td>?</td><td>?</td><td>?</td></tr>\n",
       "\t<tr><td>5</td><td>a</td><td>!</td><td>e</td><td>1</td><td>i</td></tr>\n",
       "\t<tr><td>x</td><td>y</td><td>!</td><td>y</td><td>x</td><td>y</td></tr>\n",
       "</tbody>\n",
       "</table>\n"
      ],
      "text/latex": [
       "A data.frame: 7 × 6\n",
       "\\begin{tabular}{llllll}\n",
       " col1 & col2 & col3 & col4 & col5 & col6\\\\\n",
       " <chr> & <chr> & <chr> & <chr> & <chr> & <chr>\\\\\n",
       "\\hline\n",
       "\t 1 & a & ! & b & e & 1\\\\\n",
       "\t 2 & b & ! & b & f & 2\\\\\n",
       "\t 3 & c & ! & b & g & 1\\\\\n",
       "\t ? & ? & ? & ? & ? & ?\\\\\n",
       "\t ? & ? & ? & ? & ? & ?\\\\\n",
       "\t 5 & a & ! & e & 1 & i\\\\\n",
       "\t x & y & ! & y & x & y\\\\\n",
       "\\end{tabular}\n"
      ],
      "text/markdown": [
       "\n",
       "A data.frame: 7 × 6\n",
       "\n",
       "| col1 &lt;chr&gt; | col2 &lt;chr&gt; | col3 &lt;chr&gt; | col4 &lt;chr&gt; | col5 &lt;chr&gt; | col6 &lt;chr&gt; |\n",
       "|---|---|---|---|---|---|\n",
       "| 1 | a | ! | b | e | 1 |\n",
       "| 2 | b | ! | b | f | 2 |\n",
       "| 3 | c | ! | b | g | 1 |\n",
       "| ? | ? | ? | ? | ? | ? |\n",
       "| ? | ? | ? | ? | ? | ? |\n",
       "| 5 | a | ! | e | 1 | i |\n",
       "| x | y | ! | y | x | y |\n",
       "\n"
      ],
      "text/plain": [
       "  col1 col2 col3 col4 col5 col6\n",
       "1 1    a    !    b    e    1   \n",
       "2 2    b    !    b    f    2   \n",
       "3 3    c    !    b    g    1   \n",
       "4 ?    ?    ?    ?    ?    ?   \n",
       "5 ?    ?    ?    ?    ?    ?   \n",
       "6 5    a    !    e    1    i   \n",
       "7 x    y    !    y    x    y   "
      ]
     },
     "metadata": {},
     "output_type": "display_data"
    }
   ],
   "source": [
    "# Change the 4th and 5th rows to equal \"?\"\n",
    "dat[4:5,] <- \"?\"\n",
    "dat"
   ]
  },
  {
   "cell_type": "code",
   "execution_count": 117,
   "id": "f5c9c570",
   "metadata": {},
   "outputs": [
    {
     "data": {
      "text/html": [
       "<table class=\"dataframe\">\n",
       "<caption>A data.frame: 7 × 6</caption>\n",
       "<thead>\n",
       "\t<tr><th scope=col>col1</th><th scope=col>col2</th><th scope=col>col3</th><th scope=col>col4</th><th scope=col>col5</th><th scope=col>col6</th></tr>\n",
       "\t<tr><th scope=col>&lt;chr&gt;</th><th scope=col>&lt;chr&gt;</th><th scope=col>&lt;chr&gt;</th><th scope=col>&lt;chr&gt;</th><th scope=col>&lt;chr&gt;</th><th scope=col>&lt;chr&gt;</th></tr>\n",
       "</thead>\n",
       "<tbody>\n",
       "\t<tr><td>1</td><td>a</td><td>!</td><td>b</td><td>e</td><td>1</td></tr>\n",
       "\t<tr><td>2</td><td>b</td><td>!</td><td>b</td><td>f</td><td>2</td></tr>\n",
       "\t<tr><td>3</td><td>c</td><td>!</td><td>b</td><td>g</td><td>1</td></tr>\n",
       "\t<tr><td>?</td><td>?</td><td>?</td><td>?</td><td>?</td><td>?</td></tr>\n",
       "\t<tr><td>?</td><td>?</td><td>?</td><td>?</td><td>?</td><td>?</td></tr>\n",
       "\t<tr><td>5</td><td>a</td><td>!</td><td>e</td><td>1</td><td>i</td></tr>\n",
       "\t<tr><td>x</td><td>y</td><td>!</td><td>y</td><td>x</td><td>%</td></tr>\n",
       "</tbody>\n",
       "</table>\n"
      ],
      "text/latex": [
       "A data.frame: 7 × 6\n",
       "\\begin{tabular}{llllll}\n",
       " col1 & col2 & col3 & col4 & col5 & col6\\\\\n",
       " <chr> & <chr> & <chr> & <chr> & <chr> & <chr>\\\\\n",
       "\\hline\n",
       "\t 1 & a & ! & b & e & 1\\\\\n",
       "\t 2 & b & ! & b & f & 2\\\\\n",
       "\t 3 & c & ! & b & g & 1\\\\\n",
       "\t ? & ? & ? & ? & ? & ?\\\\\n",
       "\t ? & ? & ? & ? & ? & ?\\\\\n",
       "\t 5 & a & ! & e & 1 & i\\\\\n",
       "\t x & y & ! & y & x & \\%\\\\\n",
       "\\end{tabular}\n"
      ],
      "text/markdown": [
       "\n",
       "A data.frame: 7 × 6\n",
       "\n",
       "| col1 &lt;chr&gt; | col2 &lt;chr&gt; | col3 &lt;chr&gt; | col4 &lt;chr&gt; | col5 &lt;chr&gt; | col6 &lt;chr&gt; |\n",
       "|---|---|---|---|---|---|\n",
       "| 1 | a | ! | b | e | 1 |\n",
       "| 2 | b | ! | b | f | 2 |\n",
       "| 3 | c | ! | b | g | 1 |\n",
       "| ? | ? | ? | ? | ? | ? |\n",
       "| ? | ? | ? | ? | ? | ? |\n",
       "| 5 | a | ! | e | 1 | i |\n",
       "| x | y | ! | y | x | % |\n",
       "\n"
      ],
      "text/plain": [
       "  col1 col2 col3 col4 col5 col6\n",
       "1 1    a    !    b    e    1   \n",
       "2 2    b    !    b    f    2   \n",
       "3 3    c    !    b    g    1   \n",
       "4 ?    ?    ?    ?    ?    ?   \n",
       "5 ?    ?    ?    ?    ?    ?   \n",
       "6 5    a    !    e    1    i   \n",
       "7 x    y    !    y    x    %   "
      ]
     },
     "metadata": {},
     "output_type": "display_data"
    }
   ],
   "source": [
    "# Change the bottom right value to equal \"%\"\n",
    "dat$col6[7] <- \"%\"\n",
    "\n",
    "# or \n",
    "dat[7,6] <- \"%\"\n",
    "dat"
   ]
  },
  {
   "cell_type": "code",
   "execution_count": 118,
   "id": "f3f034f0",
   "metadata": {},
   "outputs": [
    {
     "data": {
      "text/html": [
       "<table class=\"dataframe\">\n",
       "<caption>A data.frame: 7 × 6</caption>\n",
       "<thead>\n",
       "\t<tr><th scope=col>col1</th><th scope=col>col2</th><th scope=col>col3</th><th scope=col>col4</th><th scope=col>col5</th><th scope=col>col6</th></tr>\n",
       "\t<tr><th scope=col>&lt;chr&gt;</th><th scope=col>&lt;chr&gt;</th><th scope=col>&lt;chr&gt;</th><th scope=col>&lt;chr&gt;</th><th scope=col>&lt;chr&gt;</th><th scope=col>&lt;chr&gt;</th></tr>\n",
       "</thead>\n",
       "<tbody>\n",
       "\t<tr><td>+</td><td>+</td><td>+</td><td>+</td><td>+</td><td>+</td></tr>\n",
       "\t<tr><td>2</td><td>b</td><td>!</td><td>b</td><td>f</td><td>2</td></tr>\n",
       "\t<tr><td>3</td><td>c</td><td>!</td><td>b</td><td>g</td><td>1</td></tr>\n",
       "\t<tr><td>?</td><td>?</td><td>?</td><td>?</td><td>?</td><td>?</td></tr>\n",
       "\t<tr><td>?</td><td>?</td><td>?</td><td>?</td><td>?</td><td>?</td></tr>\n",
       "\t<tr><td>+</td><td>+</td><td>+</td><td>+</td><td>+</td><td>+</td></tr>\n",
       "\t<tr><td>x</td><td>y</td><td>!</td><td>y</td><td>x</td><td>%</td></tr>\n",
       "</tbody>\n",
       "</table>\n"
      ],
      "text/latex": [
       "A data.frame: 7 × 6\n",
       "\\begin{tabular}{llllll}\n",
       " col1 & col2 & col3 & col4 & col5 & col6\\\\\n",
       " <chr> & <chr> & <chr> & <chr> & <chr> & <chr>\\\\\n",
       "\\hline\n",
       "\t + & + & + & + & + & +\\\\\n",
       "\t 2 & b & ! & b & f & 2\\\\\n",
       "\t 3 & c & ! & b & g & 1\\\\\n",
       "\t ? & ? & ? & ? & ? & ?\\\\\n",
       "\t ? & ? & ? & ? & ? & ?\\\\\n",
       "\t + & + & + & + & + & +\\\\\n",
       "\t x & y & ! & y & x & \\%\\\\\n",
       "\\end{tabular}\n"
      ],
      "text/markdown": [
       "\n",
       "A data.frame: 7 × 6\n",
       "\n",
       "| col1 &lt;chr&gt; | col2 &lt;chr&gt; | col3 &lt;chr&gt; | col4 &lt;chr&gt; | col5 &lt;chr&gt; | col6 &lt;chr&gt; |\n",
       "|---|---|---|---|---|---|\n",
       "| + | + | + | + | + | + |\n",
       "| 2 | b | ! | b | f | 2 |\n",
       "| 3 | c | ! | b | g | 1 |\n",
       "| ? | ? | ? | ? | ? | ? |\n",
       "| ? | ? | ? | ? | ? | ? |\n",
       "| + | + | + | + | + | + |\n",
       "| x | y | ! | y | x | % |\n",
       "\n"
      ],
      "text/plain": [
       "  col1 col2 col3 col4 col5 col6\n",
       "1 +    +    +    +    +    +   \n",
       "2 2    b    !    b    f    2   \n",
       "3 3    c    !    b    g    1   \n",
       "4 ?    ?    ?    ?    ?    ?   \n",
       "5 ?    ?    ?    ?    ?    ?   \n",
       "6 +    +    +    +    +    +   \n",
       "7 x    y    !    y    x    %   "
      ]
     },
     "metadata": {},
     "output_type": "display_data"
    }
   ],
   "source": [
    "# Change any rows that have \"a\" in col2 to \"+\"\n",
    "dat[which(dat[,2] == \"a\"),] <- \"+\"\n",
    "dat"
   ]
  },
  {
   "cell_type": "markdown",
   "id": "52a2712b",
   "metadata": {},
   "source": [
    "## Removing data\n",
    "There are a few methods we can use to remove rows or columns from data sets. The basic idea is that we are reassigning the data frame using a selected subset of the data.\n",
    "### Specify row and columns to keep"
   ]
  },
  {
   "cell_type": "code",
   "execution_count": 119,
   "id": "ae34f099",
   "metadata": {
    "scrolled": true
   },
   "outputs": [
    {
     "data": {
      "text/html": [
       "<table class=\"dataframe\">\n",
       "<caption>A data.frame: 3 × 6</caption>\n",
       "<thead>\n",
       "\t<tr><th></th><th scope=col>col1</th><th scope=col>col2</th><th scope=col>col3</th><th scope=col>col4</th><th scope=col>col5</th><th scope=col>col6</th></tr>\n",
       "\t<tr><th></th><th scope=col>&lt;chr&gt;</th><th scope=col>&lt;chr&gt;</th><th scope=col>&lt;chr&gt;</th><th scope=col>&lt;chr&gt;</th><th scope=col>&lt;chr&gt;</th><th scope=col>&lt;chr&gt;</th></tr>\n",
       "</thead>\n",
       "<tbody>\n",
       "\t<tr><th scope=row>1</th><td>+</td><td>+</td><td>+</td><td>+</td><td>+</td><td>+</td></tr>\n",
       "\t<tr><th scope=row>2</th><td>2</td><td>b</td><td>!</td><td>b</td><td>f</td><td>2</td></tr>\n",
       "\t<tr><th scope=row>3</th><td>3</td><td>c</td><td>!</td><td>b</td><td>g</td><td>1</td></tr>\n",
       "</tbody>\n",
       "</table>\n"
      ],
      "text/latex": [
       "A data.frame: 3 × 6\n",
       "\\begin{tabular}{r|llllll}\n",
       "  & col1 & col2 & col3 & col4 & col5 & col6\\\\\n",
       "  & <chr> & <chr> & <chr> & <chr> & <chr> & <chr>\\\\\n",
       "\\hline\n",
       "\t1 & + & + & + & + & + & +\\\\\n",
       "\t2 & 2 & b & ! & b & f & 2\\\\\n",
       "\t3 & 3 & c & ! & b & g & 1\\\\\n",
       "\\end{tabular}\n"
      ],
      "text/markdown": [
       "\n",
       "A data.frame: 3 × 6\n",
       "\n",
       "| <!--/--> | col1 &lt;chr&gt; | col2 &lt;chr&gt; | col3 &lt;chr&gt; | col4 &lt;chr&gt; | col5 &lt;chr&gt; | col6 &lt;chr&gt; |\n",
       "|---|---|---|---|---|---|---|\n",
       "| 1 | + | + | + | + | + | + |\n",
       "| 2 | 2 | b | ! | b | f | 2 |\n",
       "| 3 | 3 | c | ! | b | g | 1 |\n",
       "\n"
      ],
      "text/plain": [
       "  col1 col2 col3 col4 col5 col6\n",
       "1 +    +    +    +    +    +   \n",
       "2 2    b    !    b    f    2   \n",
       "3 3    c    !    b    g    1   "
      ]
     },
     "metadata": {},
     "output_type": "display_data"
    }
   ],
   "source": [
    "# only keeps rows 1 through 3.\n",
    "dat <- dat[1:3,]\n",
    "dat"
   ]
  },
  {
   "cell_type": "code",
   "execution_count": 120,
   "id": "5906ae57",
   "metadata": {},
   "outputs": [
    {
     "data": {
      "text/html": [
       "<table class=\"dataframe\">\n",
       "<caption>A data.frame: 3 × 2</caption>\n",
       "<thead>\n",
       "\t<tr><th></th><th scope=col>col2</th><th scope=col>col4</th></tr>\n",
       "\t<tr><th></th><th scope=col>&lt;chr&gt;</th><th scope=col>&lt;chr&gt;</th></tr>\n",
       "</thead>\n",
       "<tbody>\n",
       "\t<tr><th scope=row>1</th><td>+</td><td>+</td></tr>\n",
       "\t<tr><th scope=row>2</th><td>b</td><td>b</td></tr>\n",
       "\t<tr><th scope=row>3</th><td>c</td><td>b</td></tr>\n",
       "</tbody>\n",
       "</table>\n"
      ],
      "text/latex": [
       "A data.frame: 3 × 2\n",
       "\\begin{tabular}{r|ll}\n",
       "  & col2 & col4\\\\\n",
       "  & <chr> & <chr>\\\\\n",
       "\\hline\n",
       "\t1 & + & +\\\\\n",
       "\t2 & b & b\\\\\n",
       "\t3 & c & b\\\\\n",
       "\\end{tabular}\n"
      ],
      "text/markdown": [
       "\n",
       "A data.frame: 3 × 2\n",
       "\n",
       "| <!--/--> | col2 &lt;chr&gt; | col4 &lt;chr&gt; |\n",
       "|---|---|---|\n",
       "| 1 | + | + |\n",
       "| 2 | b | b |\n",
       "| 3 | c | b |\n",
       "\n"
      ],
      "text/plain": [
       "  col2 col4\n",
       "1 +    +   \n",
       "2 b    b   \n",
       "3 c    b   "
      ]
     },
     "metadata": {},
     "output_type": "display_data"
    }
   ],
   "source": [
    "# only keeps columns 2 and 4. Alternatively, dat <- dat[,c(2,4)]\n",
    "dat <- dat[,c(\"col2\", \"col4\")]\n",
    "dat"
   ]
  },
  {
   "cell_type": "code",
   "execution_count": 121,
   "id": "94a2e583",
   "metadata": {},
   "outputs": [
    {
     "data": {
      "text/html": [
       "<table class=\"dataframe\">\n",
       "<caption>A data.frame: 1 × 2</caption>\n",
       "<thead>\n",
       "\t<tr><th></th><th scope=col>col2</th><th scope=col>col4</th></tr>\n",
       "\t<tr><th></th><th scope=col>&lt;chr&gt;</th><th scope=col>&lt;chr&gt;</th></tr>\n",
       "</thead>\n",
       "<tbody>\n",
       "\t<tr><th scope=row>2</th><td>b</td><td>b</td></tr>\n",
       "</tbody>\n",
       "</table>\n"
      ],
      "text/latex": [
       "A data.frame: 1 × 2\n",
       "\\begin{tabular}{r|ll}\n",
       "  & col2 & col4\\\\\n",
       "  & <chr> & <chr>\\\\\n",
       "\\hline\n",
       "\t2 & b & b\\\\\n",
       "\\end{tabular}\n"
      ],
      "text/markdown": [
       "\n",
       "A data.frame: 1 × 2\n",
       "\n",
       "| <!--/--> | col2 &lt;chr&gt; | col4 &lt;chr&gt; |\n",
       "|---|---|---|\n",
       "| 2 | b | b |\n",
       "\n"
      ],
      "text/plain": [
       "  col2 col4\n",
       "2 b    b   "
      ]
     },
     "metadata": {},
     "output_type": "display_data"
    }
   ],
   "source": [
    "# removes rows 1, 3, and 6.\n",
    "dat <- dat[-c(1,3,6),] \n",
    "dat"
   ]
  },
  {
   "cell_type": "code",
   "execution_count": 122,
   "id": "479bcc1d",
   "metadata": {},
   "outputs": [
    {
     "data": {
      "text/html": [
       "'b'"
      ],
      "text/latex": [
       "'b'"
      ],
      "text/markdown": [
       "'b'"
      ],
      "text/plain": [
       "[1] \"b\""
      ]
     },
     "metadata": {},
     "output_type": "display_data"
    }
   ],
   "source": [
    "# removes columns 2 through 5.\n",
    "dat <- dat[,-c(2:5)] \n",
    "dat"
   ]
  },
  {
   "cell_type": "code",
   "execution_count": 123,
   "id": "12d81f4e",
   "metadata": {},
   "outputs": [
    {
     "ename": "ERROR",
     "evalue": "Error in dat$col3: $ operator is invalid for atomic vectors\n",
     "output_type": "error",
     "traceback": [
      "Error in dat$col3: $ operator is invalid for atomic vectors\nTraceback:\n",
      "1. which(dat$col3 == \"!\")"
     ]
    }
   ],
   "source": [
    "# keeps only rows with \"!\" in col3\n",
    "dat <- dat[which(dat$col3 == \"!\"),]"
   ]
  },
  {
   "cell_type": "code",
   "execution_count": 124,
   "id": "9392f944",
   "metadata": {},
   "outputs": [
    {
     "ename": "ERROR",
     "evalue": "Error in dat$col3: $ operator is invalid for atomic vectors\n",
     "output_type": "error",
     "traceback": [
      "Error in dat$col3: $ operator is invalid for atomic vectors\nTraceback:\n",
      "1. which(dat$col3 != \"!\")"
     ]
    }
   ],
   "source": [
    "# does the same, but by REMOVING the rows without a \"!\" in col3\n",
    "dat <- dat[-which(dat$col3 != \"!\"),] "
   ]
  },
  {
   "cell_type": "code",
   "execution_count": null,
   "id": "b6aa955c",
   "metadata": {},
   "outputs": [],
   "source": []
  }
 ],
 "metadata": {
  "kernelspec": {
   "display_name": "R",
   "language": "R",
   "name": "ir"
  },
  "language_info": {
   "codemirror_mode": "r",
   "file_extension": ".r",
   "mimetype": "text/x-r-source",
   "name": "R",
   "pygments_lexer": "r",
   "version": "4.3.1"
  }
 },
 "nbformat": 4,
 "nbformat_minor": 5
}
