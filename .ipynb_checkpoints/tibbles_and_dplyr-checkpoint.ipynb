{
 "cells": [
  {
   "cell_type": "code",
   "execution_count": 7,
   "id": "ec7e4a12",
   "metadata": {},
   "outputs": [],
   "source": [
    "library(dplyr)"
   ]
  },
  {
   "cell_type": "code",
   "execution_count": 5,
   "id": "b060e096",
   "metadata": {},
   "outputs": [
    {
     "name": "stderr",
     "output_type": "stream",
     "text": [
      "Installing package into 'C:/Users/Keila/AppData/Local/R/win-library/4.3'\n",
      "(as 'lib' is unspecified)\n",
      "\n",
      "also installing the dependencies 'pkgconfig', 'withr', 'generics', 'tibble', 'tidyselect'\n",
      "\n",
      "\n"
     ]
    },
    {
     "name": "stdout",
     "output_type": "stream",
     "text": [
      "package 'pkgconfig' successfully unpacked and MD5 sums checked\n",
      "package 'withr' successfully unpacked and MD5 sums checked\n",
      "package 'generics' successfully unpacked and MD5 sums checked\n",
      "package 'tibble' successfully unpacked and MD5 sums checked\n",
      "package 'tidyselect' successfully unpacked and MD5 sums checked\n",
      "package 'dplyr' successfully unpacked and MD5 sums checked\n",
      "\n",
      "The downloaded binary packages are in\n",
      "\tC:\\Users\\Keila\\AppData\\Local\\Temp\\RtmpyA58QT\\downloaded_packages\n"
     ]
    }
   ],
   "source": [
    "# installing dplyr\n",
    "# install.packages(\"dplyr\")"
   ]
  },
  {
   "cell_type": "markdown",
   "id": "5d7f4b4f",
   "metadata": {},
   "source": [
    "## Tibbles\n",
    "The main data structure in the tidyverse is what’s called a tibble. Tibbles are like data frames: a collection of rows and named columns. Tibbles and data frames are relatively interchangeable"
   ]
  },
  {
   "cell_type": "markdown",
   "id": "12c7d3f2",
   "metadata": {},
   "source": [
    "* A data frame is converted into a tibble by using the as_tibble()\n",
    "* A tibble can be converted into a data frame using the as.data.frame() function"
   ]
  },
  {
   "cell_type": "markdown",
   "id": "efa1469e",
   "metadata": {},
   "source": [
    "## The dplyr package\n",
    "* We can think of dplyr as a grammar of data manipulation. The dplyr package is part of the tidyverse and allows us to handle data using five main functions. \n",
    "\n",
    "Tibble called tib to explore how these functions work:"
   ]
  },
  {
   "cell_type": "markdown",
   "id": "97423cc4",
   "metadata": {},
   "source": [
    "### Mutate\n",
    "The mutate() function creates a new column in the tibble. \n",
    "* A helpful function to use with mutate() is case_when(), which acts like an if-else statement."
   ]
  },
  {
   "cell_type": "code",
   "execution_count": 11,
   "id": "f74fb4a6",
   "metadata": {},
   "outputs": [
    {
     "data": {
      "text/html": [
       "<table class=\"dataframe\">\n",
       "<caption>A tibble: 10 × 5</caption>\n",
       "<thead>\n",
       "\t<tr><th scope=col>names</th><th scope=col>test1</th><th scope=col>test2</th><th scope=col>quiz1</th><th scope=col>quiz2</th></tr>\n",
       "\t<tr><th scope=col>&lt;chr&gt;</th><th scope=col>&lt;dbl&gt;</th><th scope=col>&lt;dbl&gt;</th><th scope=col>&lt;dbl&gt;</th><th scope=col>&lt;dbl&gt;</th></tr>\n",
       "</thead>\n",
       "<tbody>\n",
       "\t<tr><td>Michael</td><td>87</td><td>85</td><td>10</td><td> 8</td></tr>\n",
       "\t<tr><td>Jae-jin</td><td>92</td><td>87</td><td> 9</td><td> 9</td></tr>\n",
       "\t<tr><td>Molly  </td><td>73</td><td>82</td><td>10</td><td>10</td></tr>\n",
       "\t<tr><td>Harvey </td><td>85</td><td>90</td><td> 8</td><td> 8</td></tr>\n",
       "\t<tr><td>Mia    </td><td>95</td><td>92</td><td>10</td><td> 8</td></tr>\n",
       "\t<tr><td>Kylee  </td><td>86</td><td>90</td><td> 7</td><td> 8</td></tr>\n",
       "\t<tr><td>Dhee   </td><td>89</td><td>82</td><td> 9</td><td> 9</td></tr>\n",
       "\t<tr><td>Peter  </td><td>80</td><td>84</td><td> 8</td><td>10</td></tr>\n",
       "\t<tr><td>Cate   </td><td>75</td><td>86</td><td> 9</td><td> 9</td></tr>\n",
       "\t<tr><td>Lauren </td><td>91</td><td>88</td><td> 8</td><td> 9</td></tr>\n",
       "</tbody>\n",
       "</table>\n"
      ],
      "text/latex": [
       "A tibble: 10 × 5\n",
       "\\begin{tabular}{lllll}\n",
       " names & test1 & test2 & quiz1 & quiz2\\\\\n",
       " <chr> & <dbl> & <dbl> & <dbl> & <dbl>\\\\\n",
       "\\hline\n",
       "\t Michael & 87 & 85 & 10 &  8\\\\\n",
       "\t Jae-jin & 92 & 87 &  9 &  9\\\\\n",
       "\t Molly   & 73 & 82 & 10 & 10\\\\\n",
       "\t Harvey  & 85 & 90 &  8 &  8\\\\\n",
       "\t Mia     & 95 & 92 & 10 &  8\\\\\n",
       "\t Kylee   & 86 & 90 &  7 &  8\\\\\n",
       "\t Dhee    & 89 & 82 &  9 &  9\\\\\n",
       "\t Peter   & 80 & 84 &  8 & 10\\\\\n",
       "\t Cate    & 75 & 86 &  9 &  9\\\\\n",
       "\t Lauren  & 91 & 88 &  8 &  9\\\\\n",
       "\\end{tabular}\n"
      ],
      "text/markdown": [
       "\n",
       "A tibble: 10 × 5\n",
       "\n",
       "| names &lt;chr&gt; | test1 &lt;dbl&gt; | test2 &lt;dbl&gt; | quiz1 &lt;dbl&gt; | quiz2 &lt;dbl&gt; |\n",
       "|---|---|---|---|---|\n",
       "| Michael | 87 | 85 | 10 |  8 |\n",
       "| Jae-jin | 92 | 87 |  9 |  9 |\n",
       "| Molly   | 73 | 82 | 10 | 10 |\n",
       "| Harvey  | 85 | 90 |  8 |  8 |\n",
       "| Mia     | 95 | 92 | 10 |  8 |\n",
       "| Kylee   | 86 | 90 |  7 |  8 |\n",
       "| Dhee    | 89 | 82 |  9 |  9 |\n",
       "| Peter   | 80 | 84 |  8 | 10 |\n",
       "| Cate    | 75 | 86 |  9 |  9 |\n",
       "| Lauren  | 91 | 88 |  8 |  9 |\n",
       "\n"
      ],
      "text/plain": [
       "   names   test1 test2 quiz1 quiz2\n",
       "1  Michael 87    85    10     8   \n",
       "2  Jae-jin 92    87     9     9   \n",
       "3  Molly   73    82    10    10   \n",
       "4  Harvey  85    90     8     8   \n",
       "5  Mia     95    92    10     8   \n",
       "6  Kylee   86    90     7     8   \n",
       "7  Dhee    89    82     9     9   \n",
       "8  Peter   80    84     8    10   \n",
       "9  Cate    75    86     9     9   \n",
       "10 Lauren  91    88     8     9   "
      ]
     },
     "metadata": {},
     "output_type": "display_data"
    }
   ],
   "source": [
    "# Create the tibble\n",
    "tib <- tibble(\n",
    "  names = c(\"Michael\", \"Jae-jin\", \"Molly\", \"Harvey\", \"Mia\", \"Kylee\", \"Dhee\", \"Peter\", \"Cate\", \"Lauren\"),\n",
    "  test1 = c(87, 92, 73, 85, 95, 86, 89, 80, 75, 91),\n",
    "  test2 = c(85, 87, 82, 90, 92, 90, 82, 84, 86, 88),\n",
    "  quiz1 = c(10, 9, 10, 8, 10, 7, 9, 8, 9, 8),\n",
    "  quiz2 = c(8, 9, 10, 8, 8, 8, 9, 10, 9, 9)\n",
    ")\n",
    "\n",
    "tib"
   ]
  },
  {
   "cell_type": "code",
   "execution_count": 12,
   "id": "875c0d6f",
   "metadata": {},
   "outputs": [
    {
     "data": {
      "text/html": [
       "<table class=\"dataframe\">\n",
       "<caption>A tibble: 10 × 7</caption>\n",
       "<thead>\n",
       "\t<tr><th scope=col>names</th><th scope=col>test1</th><th scope=col>test2</th><th scope=col>quiz1</th><th scope=col>quiz2</th><th scope=col>age</th><th scope=col>test1_letter</th></tr>\n",
       "\t<tr><th scope=col>&lt;chr&gt;</th><th scope=col>&lt;dbl&gt;</th><th scope=col>&lt;dbl&gt;</th><th scope=col>&lt;dbl&gt;</th><th scope=col>&lt;dbl&gt;</th><th scope=col>&lt;dbl&gt;</th><th scope=col>&lt;chr&gt;</th></tr>\n",
       "</thead>\n",
       "<tbody>\n",
       "\t<tr><td>Michael</td><td>87</td><td>85</td><td>10</td><td> 8</td><td>20</td><td>B</td></tr>\n",
       "\t<tr><td>Jae-jin</td><td>92</td><td>87</td><td> 9</td><td> 9</td><td>21</td><td>A</td></tr>\n",
       "\t<tr><td>Molly  </td><td>73</td><td>82</td><td>10</td><td>10</td><td>22</td><td>C</td></tr>\n",
       "\t<tr><td>Harvey </td><td>85</td><td>90</td><td> 8</td><td> 8</td><td>19</td><td>B</td></tr>\n",
       "\t<tr><td>Mia    </td><td>95</td><td>92</td><td>10</td><td> 8</td><td>20</td><td>A</td></tr>\n",
       "\t<tr><td>Kylee  </td><td>86</td><td>90</td><td> 7</td><td> 8</td><td>22</td><td>B</td></tr>\n",
       "\t<tr><td>Dhee   </td><td>89</td><td>82</td><td> 9</td><td> 9</td><td>19</td><td>B</td></tr>\n",
       "\t<tr><td>Peter  </td><td>80</td><td>84</td><td> 8</td><td>10</td><td>18</td><td>B</td></tr>\n",
       "\t<tr><td>Cate   </td><td>75</td><td>86</td><td> 9</td><td> 9</td><td>21</td><td>C</td></tr>\n",
       "\t<tr><td>Lauren </td><td>91</td><td>88</td><td> 8</td><td> 9</td><td>20</td><td>A</td></tr>\n",
       "</tbody>\n",
       "</table>\n"
      ],
      "text/latex": [
       "A tibble: 10 × 7\n",
       "\\begin{tabular}{lllllll}\n",
       " names & test1 & test2 & quiz1 & quiz2 & age & test1\\_letter\\\\\n",
       " <chr> & <dbl> & <dbl> & <dbl> & <dbl> & <dbl> & <chr>\\\\\n",
       "\\hline\n",
       "\t Michael & 87 & 85 & 10 &  8 & 20 & B\\\\\n",
       "\t Jae-jin & 92 & 87 &  9 &  9 & 21 & A\\\\\n",
       "\t Molly   & 73 & 82 & 10 & 10 & 22 & C\\\\\n",
       "\t Harvey  & 85 & 90 &  8 &  8 & 19 & B\\\\\n",
       "\t Mia     & 95 & 92 & 10 &  8 & 20 & A\\\\\n",
       "\t Kylee   & 86 & 90 &  7 &  8 & 22 & B\\\\\n",
       "\t Dhee    & 89 & 82 &  9 &  9 & 19 & B\\\\\n",
       "\t Peter   & 80 & 84 &  8 & 10 & 18 & B\\\\\n",
       "\t Cate    & 75 & 86 &  9 &  9 & 21 & C\\\\\n",
       "\t Lauren  & 91 & 88 &  8 &  9 & 20 & A\\\\\n",
       "\\end{tabular}\n"
      ],
      "text/markdown": [
       "\n",
       "A tibble: 10 × 7\n",
       "\n",
       "| names &lt;chr&gt; | test1 &lt;dbl&gt; | test2 &lt;dbl&gt; | quiz1 &lt;dbl&gt; | quiz2 &lt;dbl&gt; | age &lt;dbl&gt; | test1_letter &lt;chr&gt; |\n",
       "|---|---|---|---|---|---|---|\n",
       "| Michael | 87 | 85 | 10 |  8 | 20 | B |\n",
       "| Jae-jin | 92 | 87 |  9 |  9 | 21 | A |\n",
       "| Molly   | 73 | 82 | 10 | 10 | 22 | C |\n",
       "| Harvey  | 85 | 90 |  8 |  8 | 19 | B |\n",
       "| Mia     | 95 | 92 | 10 |  8 | 20 | A |\n",
       "| Kylee   | 86 | 90 |  7 |  8 | 22 | B |\n",
       "| Dhee    | 89 | 82 |  9 |  9 | 19 | B |\n",
       "| Peter   | 80 | 84 |  8 | 10 | 18 | B |\n",
       "| Cate    | 75 | 86 |  9 |  9 | 21 | C |\n",
       "| Lauren  | 91 | 88 |  8 |  9 | 20 | A |\n",
       "\n"
      ],
      "text/plain": [
       "   names   test1 test2 quiz1 quiz2 age test1_letter\n",
       "1  Michael 87    85    10     8    20  B           \n",
       "2  Jae-jin 92    87     9     9    21  A           \n",
       "3  Molly   73    82    10    10    22  C           \n",
       "4  Harvey  85    90     8     8    19  B           \n",
       "5  Mia     95    92    10     8    20  A           \n",
       "6  Kylee   86    90     7     8    22  B           \n",
       "7  Dhee    89    82     9     9    19  B           \n",
       "8  Peter   80    84     8    10    18  B           \n",
       "9  Cate    75    86     9     9    21  C           \n",
       "10 Lauren  91    88     8     9    20  A           "
      ]
     },
     "metadata": {},
     "output_type": "display_data"
    }
   ],
   "source": [
    "mutate(tib, \n",
    "    # create age column\n",
    "    age = c(20, 21, 22, 19, 20, 22, 19, 18, 21, 20),\n",
    "    # create test1_letter column\n",
    "    test1_letter = case_when(\n",
    "        # assign letter based on test1 score\n",
    "        test1 < 80 ~ \"C\",\n",
    "        test1 >= 80 & test1 < 90 ~ \"B\",\n",
    "        test1 >= 90 ~ \"A\"))"
   ]
  },
  {
   "cell_type": "markdown",
   "id": "a86bb67d",
   "metadata": {},
   "source": [
    "## Select\n",
    "The select() function subsets to specific columns by name. It also allows you to easily remove columns from a tibble."
   ]
  },
  {
   "cell_type": "code",
   "execution_count": 13,
   "id": "9c588002",
   "metadata": {},
   "outputs": [
    {
     "data": {
      "text/html": [
       "<table class=\"dataframe\">\n",
       "<caption>A tibble: 10 × 2</caption>\n",
       "<thead>\n",
       "\t<tr><th scope=col>quiz1</th><th scope=col>quiz2</th></tr>\n",
       "\t<tr><th scope=col>&lt;dbl&gt;</th><th scope=col>&lt;dbl&gt;</th></tr>\n",
       "</thead>\n",
       "<tbody>\n",
       "\t<tr><td>10</td><td> 8</td></tr>\n",
       "\t<tr><td> 9</td><td> 9</td></tr>\n",
       "\t<tr><td>10</td><td>10</td></tr>\n",
       "\t<tr><td> 8</td><td> 8</td></tr>\n",
       "\t<tr><td>10</td><td> 8</td></tr>\n",
       "\t<tr><td> 7</td><td> 8</td></tr>\n",
       "\t<tr><td> 9</td><td> 9</td></tr>\n",
       "\t<tr><td> 8</td><td>10</td></tr>\n",
       "\t<tr><td> 9</td><td> 9</td></tr>\n",
       "\t<tr><td> 8</td><td> 9</td></tr>\n",
       "</tbody>\n",
       "</table>\n"
      ],
      "text/latex": [
       "A tibble: 10 × 2\n",
       "\\begin{tabular}{ll}\n",
       " quiz1 & quiz2\\\\\n",
       " <dbl> & <dbl>\\\\\n",
       "\\hline\n",
       "\t 10 &  8\\\\\n",
       "\t  9 &  9\\\\\n",
       "\t 10 & 10\\\\\n",
       "\t  8 &  8\\\\\n",
       "\t 10 &  8\\\\\n",
       "\t  7 &  8\\\\\n",
       "\t  9 &  9\\\\\n",
       "\t  8 & 10\\\\\n",
       "\t  9 &  9\\\\\n",
       "\t  8 &  9\\\\\n",
       "\\end{tabular}\n"
      ],
      "text/markdown": [
       "\n",
       "A tibble: 10 × 2\n",
       "\n",
       "| quiz1 &lt;dbl&gt; | quiz2 &lt;dbl&gt; |\n",
       "|---|---|\n",
       "| 10 |  8 |\n",
       "|  9 |  9 |\n",
       "| 10 | 10 |\n",
       "|  8 |  8 |\n",
       "| 10 |  8 |\n",
       "|  7 |  8 |\n",
       "|  9 |  9 |\n",
       "|  8 | 10 |\n",
       "|  9 |  9 |\n",
       "|  8 |  9 |\n",
       "\n"
      ],
      "text/plain": [
       "   quiz1 quiz2\n",
       "1  10     8   \n",
       "2   9     9   \n",
       "3  10    10   \n",
       "4   8     8   \n",
       "5  10     8   \n",
       "6   7     8   \n",
       "7   9     9   \n",
       "8   8    10   \n",
       "9   9     9   \n",
       "10  8     9   "
      ]
     },
     "metadata": {},
     "output_type": "display_data"
    }
   ],
   "source": [
    "# select only quiz1 and quiz2 columns from tib\n",
    "select(tib, quiz1, quiz2)"
   ]
  },
  {
   "cell_type": "code",
   "execution_count": 14,
   "id": "3c5894b8",
   "metadata": {},
   "outputs": [
    {
     "data": {
      "text/html": [
       "<table class=\"dataframe\">\n",
       "<caption>A tibble: 10 × 3</caption>\n",
       "<thead>\n",
       "\t<tr><th scope=col>test1</th><th scope=col>test2</th><th scope=col>quiz2</th></tr>\n",
       "\t<tr><th scope=col>&lt;dbl&gt;</th><th scope=col>&lt;dbl&gt;</th><th scope=col>&lt;dbl&gt;</th></tr>\n",
       "</thead>\n",
       "<tbody>\n",
       "\t<tr><td>87</td><td>85</td><td> 8</td></tr>\n",
       "\t<tr><td>92</td><td>87</td><td> 9</td></tr>\n",
       "\t<tr><td>73</td><td>82</td><td>10</td></tr>\n",
       "\t<tr><td>85</td><td>90</td><td> 8</td></tr>\n",
       "\t<tr><td>95</td><td>92</td><td> 8</td></tr>\n",
       "\t<tr><td>86</td><td>90</td><td> 8</td></tr>\n",
       "\t<tr><td>89</td><td>82</td><td> 9</td></tr>\n",
       "\t<tr><td>80</td><td>84</td><td>10</td></tr>\n",
       "\t<tr><td>75</td><td>86</td><td> 9</td></tr>\n",
       "\t<tr><td>91</td><td>88</td><td> 9</td></tr>\n",
       "</tbody>\n",
       "</table>\n"
      ],
      "text/latex": [
       "A tibble: 10 × 3\n",
       "\\begin{tabular}{lll}\n",
       " test1 & test2 & quiz2\\\\\n",
       " <dbl> & <dbl> & <dbl>\\\\\n",
       "\\hline\n",
       "\t 87 & 85 &  8\\\\\n",
       "\t 92 & 87 &  9\\\\\n",
       "\t 73 & 82 & 10\\\\\n",
       "\t 85 & 90 &  8\\\\\n",
       "\t 95 & 92 &  8\\\\\n",
       "\t 86 & 90 &  8\\\\\n",
       "\t 89 & 82 &  9\\\\\n",
       "\t 80 & 84 & 10\\\\\n",
       "\t 75 & 86 &  9\\\\\n",
       "\t 91 & 88 &  9\\\\\n",
       "\\end{tabular}\n"
      ],
      "text/markdown": [
       "\n",
       "A tibble: 10 × 3\n",
       "\n",
       "| test1 &lt;dbl&gt; | test2 &lt;dbl&gt; | quiz2 &lt;dbl&gt; |\n",
       "|---|---|---|\n",
       "| 87 | 85 |  8 |\n",
       "| 92 | 87 |  9 |\n",
       "| 73 | 82 | 10 |\n",
       "| 85 | 90 |  8 |\n",
       "| 95 | 92 |  8 |\n",
       "| 86 | 90 |  8 |\n",
       "| 89 | 82 |  9 |\n",
       "| 80 | 84 | 10 |\n",
       "| 75 | 86 |  9 |\n",
       "| 91 | 88 |  9 |\n",
       "\n"
      ],
      "text/plain": [
       "   test1 test2 quiz2\n",
       "1  87    85     8   \n",
       "2  92    87     9   \n",
       "3  73    82    10   \n",
       "4  85    90     8   \n",
       "5  95    92     8   \n",
       "6  86    90     8   \n",
       "7  89    82     9   \n",
       "8  80    84    10   \n",
       "9  75    86     9   \n",
       "10 91    88     9   "
      ]
     },
     "metadata": {},
     "output_type": "display_data"
    }
   ],
   "source": [
    "# select everything except names and quiz1 from tib\n",
    "select(tib, -names, -quiz1)"
   ]
  },
  {
   "cell_type": "markdown",
   "id": "541c2813",
   "metadata": {},
   "source": [
    "# Filter\n",
    "The filter() function subsets to specific rows by the values in a column. For example, to filter to only students who scored over 80 on test 1:"
   ]
  },
  {
   "cell_type": "code",
   "execution_count": 16,
   "id": "dedda7a0",
   "metadata": {},
   "outputs": [
    {
     "data": {
      "text/html": [
       "<table class=\"dataframe\">\n",
       "<caption>A tibble: 7 × 5</caption>\n",
       "<thead>\n",
       "\t<tr><th scope=col>names</th><th scope=col>test1</th><th scope=col>test2</th><th scope=col>quiz1</th><th scope=col>quiz2</th></tr>\n",
       "\t<tr><th scope=col>&lt;chr&gt;</th><th scope=col>&lt;dbl&gt;</th><th scope=col>&lt;dbl&gt;</th><th scope=col>&lt;dbl&gt;</th><th scope=col>&lt;dbl&gt;</th></tr>\n",
       "</thead>\n",
       "<tbody>\n",
       "\t<tr><td>Michael</td><td>87</td><td>85</td><td>10</td><td>8</td></tr>\n",
       "\t<tr><td>Jae-jin</td><td>92</td><td>87</td><td> 9</td><td>9</td></tr>\n",
       "\t<tr><td>Harvey </td><td>85</td><td>90</td><td> 8</td><td>8</td></tr>\n",
       "\t<tr><td>Mia    </td><td>95</td><td>92</td><td>10</td><td>8</td></tr>\n",
       "\t<tr><td>Kylee  </td><td>86</td><td>90</td><td> 7</td><td>8</td></tr>\n",
       "\t<tr><td>Dhee   </td><td>89</td><td>82</td><td> 9</td><td>9</td></tr>\n",
       "\t<tr><td>Lauren </td><td>91</td><td>88</td><td> 8</td><td>9</td></tr>\n",
       "</tbody>\n",
       "</table>\n"
      ],
      "text/latex": [
       "A tibble: 7 × 5\n",
       "\\begin{tabular}{lllll}\n",
       " names & test1 & test2 & quiz1 & quiz2\\\\\n",
       " <chr> & <dbl> & <dbl> & <dbl> & <dbl>\\\\\n",
       "\\hline\n",
       "\t Michael & 87 & 85 & 10 & 8\\\\\n",
       "\t Jae-jin & 92 & 87 &  9 & 9\\\\\n",
       "\t Harvey  & 85 & 90 &  8 & 8\\\\\n",
       "\t Mia     & 95 & 92 & 10 & 8\\\\\n",
       "\t Kylee   & 86 & 90 &  7 & 8\\\\\n",
       "\t Dhee    & 89 & 82 &  9 & 9\\\\\n",
       "\t Lauren  & 91 & 88 &  8 & 9\\\\\n",
       "\\end{tabular}\n"
      ],
      "text/markdown": [
       "\n",
       "A tibble: 7 × 5\n",
       "\n",
       "| names &lt;chr&gt; | test1 &lt;dbl&gt; | test2 &lt;dbl&gt; | quiz1 &lt;dbl&gt; | quiz2 &lt;dbl&gt; |\n",
       "|---|---|---|---|---|\n",
       "| Michael | 87 | 85 | 10 | 8 |\n",
       "| Jae-jin | 92 | 87 |  9 | 9 |\n",
       "| Harvey  | 85 | 90 |  8 | 8 |\n",
       "| Mia     | 95 | 92 | 10 | 8 |\n",
       "| Kylee   | 86 | 90 |  7 | 8 |\n",
       "| Dhee    | 89 | 82 |  9 | 9 |\n",
       "| Lauren  | 91 | 88 |  8 | 9 |\n",
       "\n"
      ],
      "text/plain": [
       "  names   test1 test2 quiz1 quiz2\n",
       "1 Michael 87    85    10    8    \n",
       "2 Jae-jin 92    87     9    9    \n",
       "3 Harvey  85    90     8    8    \n",
       "4 Mia     95    92    10    8    \n",
       "5 Kylee   86    90     7    8    \n",
       "6 Dhee    89    82     9    9    \n",
       "7 Lauren  91    88     8    9    "
      ]
     },
     "metadata": {},
     "output_type": "display_data"
    }
   ],
   "source": [
    "# filter tib to only rows where test1 > 80\n",
    "filter(tib, test1 > 80)"
   ]
  },
  {
   "cell_type": "markdown",
   "id": "42e672b3",
   "metadata": {},
   "source": [
    "## Summarise\n",
    "The summarise() function reduces one or more variables to a summary value. Common summary values are mean, median, standard deviation, minimum, maximum, etc."
   ]
  },
  {
   "cell_type": "code",
   "execution_count": 20,
   "id": "ec50935f",
   "metadata": {},
   "outputs": [
    {
     "data": {
      "text/html": [
       "<table class=\"dataframe\">\n",
       "<caption>A tibble: 1 × 2</caption>\n",
       "<thead>\n",
       "\t<tr><th scope=col>quiz1_avg</th><th scope=col>quiz1_sd</th></tr>\n",
       "\t<tr><th scope=col>&lt;dbl&gt;</th><th scope=col>&lt;dbl&gt;</th></tr>\n",
       "</thead>\n",
       "<tbody>\n",
       "\t<tr><td>8.8</td><td>1.032796</td></tr>\n",
       "</tbody>\n",
       "</table>\n"
      ],
      "text/latex": [
       "A tibble: 1 × 2\n",
       "\\begin{tabular}{ll}\n",
       " quiz1\\_avg & quiz1\\_sd\\\\\n",
       " <dbl> & <dbl>\\\\\n",
       "\\hline\n",
       "\t 8.8 & 1.032796\\\\\n",
       "\\end{tabular}\n"
      ],
      "text/markdown": [
       "\n",
       "A tibble: 1 × 2\n",
       "\n",
       "| quiz1_avg &lt;dbl&gt; | quiz1_sd &lt;dbl&gt; |\n",
       "|---|---|\n",
       "| 8.8 | 1.032796 |\n",
       "\n"
      ],
      "text/plain": [
       "  quiz1_avg quiz1_sd\n",
       "1 8.8       1.032796"
      ]
     },
     "metadata": {},
     "output_type": "display_data"
    }
   ],
   "source": [
    "# create a new tibble that has a column for the average of all of \n",
    "# quiz1 and the standard deviation of all of quiz1\n",
    "summarise(tib, quiz1_avg = mean(quiz1), quiz1_sd = sd(quiz1))"
   ]
  },
  {
   "cell_type": "markdown",
   "id": "f67d0733",
   "metadata": {},
   "source": [
    "## Arrange\n",
    "The arrange() function changes the order of the rows in a tibble based on the row’s value in a selected column. Default is in ascending order (smallest to largest value), but this can be changed using desc(column_name)."
   ]
  },
  {
   "cell_type": "code",
   "execution_count": 24,
   "id": "1bc44a34",
   "metadata": {},
   "outputs": [
    {
     "data": {
      "text/html": [
       "<table class=\"dataframe\">\n",
       "<caption>A tibble: 10 × 5</caption>\n",
       "<thead>\n",
       "\t<tr><th scope=col>names</th><th scope=col>test1</th><th scope=col>test2</th><th scope=col>quiz1</th><th scope=col>quiz2</th></tr>\n",
       "\t<tr><th scope=col>&lt;chr&gt;</th><th scope=col>&lt;dbl&gt;</th><th scope=col>&lt;dbl&gt;</th><th scope=col>&lt;dbl&gt;</th><th scope=col>&lt;dbl&gt;</th></tr>\n",
       "</thead>\n",
       "<tbody>\n",
       "\t<tr><td>Mia    </td><td>95</td><td>92</td><td>10</td><td> 8</td></tr>\n",
       "\t<tr><td>Jae-jin</td><td>92</td><td>87</td><td> 9</td><td> 9</td></tr>\n",
       "\t<tr><td>Lauren </td><td>91</td><td>88</td><td> 8</td><td> 9</td></tr>\n",
       "\t<tr><td>Dhee   </td><td>89</td><td>82</td><td> 9</td><td> 9</td></tr>\n",
       "\t<tr><td>Michael</td><td>87</td><td>85</td><td>10</td><td> 8</td></tr>\n",
       "\t<tr><td>Kylee  </td><td>86</td><td>90</td><td> 7</td><td> 8</td></tr>\n",
       "\t<tr><td>Harvey </td><td>85</td><td>90</td><td> 8</td><td> 8</td></tr>\n",
       "\t<tr><td>Peter  </td><td>80</td><td>84</td><td> 8</td><td>10</td></tr>\n",
       "\t<tr><td>Cate   </td><td>75</td><td>86</td><td> 9</td><td> 9</td></tr>\n",
       "\t<tr><td>Molly  </td><td>73</td><td>82</td><td>10</td><td>10</td></tr>\n",
       "</tbody>\n",
       "</table>\n"
      ],
      "text/latex": [
       "A tibble: 10 × 5\n",
       "\\begin{tabular}{lllll}\n",
       " names & test1 & test2 & quiz1 & quiz2\\\\\n",
       " <chr> & <dbl> & <dbl> & <dbl> & <dbl>\\\\\n",
       "\\hline\n",
       "\t Mia     & 95 & 92 & 10 &  8\\\\\n",
       "\t Jae-jin & 92 & 87 &  9 &  9\\\\\n",
       "\t Lauren  & 91 & 88 &  8 &  9\\\\\n",
       "\t Dhee    & 89 & 82 &  9 &  9\\\\\n",
       "\t Michael & 87 & 85 & 10 &  8\\\\\n",
       "\t Kylee   & 86 & 90 &  7 &  8\\\\\n",
       "\t Harvey  & 85 & 90 &  8 &  8\\\\\n",
       "\t Peter   & 80 & 84 &  8 & 10\\\\\n",
       "\t Cate    & 75 & 86 &  9 &  9\\\\\n",
       "\t Molly   & 73 & 82 & 10 & 10\\\\\n",
       "\\end{tabular}\n"
      ],
      "text/markdown": [
       "\n",
       "A tibble: 10 × 5\n",
       "\n",
       "| names &lt;chr&gt; | test1 &lt;dbl&gt; | test2 &lt;dbl&gt; | quiz1 &lt;dbl&gt; | quiz2 &lt;dbl&gt; |\n",
       "|---|---|---|---|---|\n",
       "| Mia     | 95 | 92 | 10 |  8 |\n",
       "| Jae-jin | 92 | 87 |  9 |  9 |\n",
       "| Lauren  | 91 | 88 |  8 |  9 |\n",
       "| Dhee    | 89 | 82 |  9 |  9 |\n",
       "| Michael | 87 | 85 | 10 |  8 |\n",
       "| Kylee   | 86 | 90 |  7 |  8 |\n",
       "| Harvey  | 85 | 90 |  8 |  8 |\n",
       "| Peter   | 80 | 84 |  8 | 10 |\n",
       "| Cate    | 75 | 86 |  9 |  9 |\n",
       "| Molly   | 73 | 82 | 10 | 10 |\n",
       "\n"
      ],
      "text/plain": [
       "   names   test1 test2 quiz1 quiz2\n",
       "1  Mia     95    92    10     8   \n",
       "2  Jae-jin 92    87     9     9   \n",
       "3  Lauren  91    88     8     9   \n",
       "4  Dhee    89    82     9     9   \n",
       "5  Michael 87    85    10     8   \n",
       "6  Kylee   86    90     7     8   \n",
       "7  Harvey  85    90     8     8   \n",
       "8  Peter   80    84     8    10   \n",
       "9  Cate    75    86     9     9   \n",
       "10 Molly   73    82    10    10   "
      ]
     },
     "metadata": {},
     "output_type": "display_data"
    }
   ],
   "source": [
    "# arrange tib from highest to lowest scores of test1\n",
    "arrange(tib, desc(test1))"
   ]
  },
  {
   "cell_type": "markdown",
   "id": "ed23d2e1",
   "metadata": {},
   "source": [
    "## Piping\n",
    "The tidyverse utilizes the pipe operator %>% to string multiple functions together. The pipe operator takes the tibble output from one function and inputs it as the first argument in the next function. This allows us to create more intricate operations without having to save intermittent steps.\n",
    "\n",
    "For example, if we wanted to get the average scores for tests 1 and 2 and then get the letter value for both test averages, we could pipe a summarise() operation and a mutate() operation. Then if we wanted to put the columns together in a specific order—test 1 average, test 1 letter, test 2 average, test 2 letter—we could pipe an additional select() operation:"
   ]
  },
  {
   "cell_type": "code",
   "execution_count": 25,
   "id": "b12ef097",
   "metadata": {},
   "outputs": [
    {
     "data": {
      "text/html": [
       "<table class=\"dataframe\">\n",
       "<caption>A tibble: 1 × 4</caption>\n",
       "<thead>\n",
       "\t<tr><th scope=col>avg_test1</th><th scope=col>test1_letter</th><th scope=col>avg_test2</th><th scope=col>test2_letter</th></tr>\n",
       "\t<tr><th scope=col>&lt;dbl&gt;</th><th scope=col>&lt;chr&gt;</th><th scope=col>&lt;dbl&gt;</th><th scope=col>&lt;chr&gt;</th></tr>\n",
       "</thead>\n",
       "<tbody>\n",
       "\t<tr><td>85.3</td><td>B</td><td>86.6</td><td>B</td></tr>\n",
       "</tbody>\n",
       "</table>\n"
      ],
      "text/latex": [
       "A tibble: 1 × 4\n",
       "\\begin{tabular}{llll}\n",
       " avg\\_test1 & test1\\_letter & avg\\_test2 & test2\\_letter\\\\\n",
       " <dbl> & <chr> & <dbl> & <chr>\\\\\n",
       "\\hline\n",
       "\t 85.3 & B & 86.6 & B\\\\\n",
       "\\end{tabular}\n"
      ],
      "text/markdown": [
       "\n",
       "A tibble: 1 × 4\n",
       "\n",
       "| avg_test1 &lt;dbl&gt; | test1_letter &lt;chr&gt; | avg_test2 &lt;dbl&gt; | test2_letter &lt;chr&gt; |\n",
       "|---|---|---|---|\n",
       "| 85.3 | B | 86.6 | B |\n",
       "\n"
      ],
      "text/plain": [
       "  avg_test1 test1_letter avg_test2 test2_letter\n",
       "1 85.3      B            86.6      B           "
      ]
     },
     "metadata": {},
     "output_type": "display_data"
    }
   ],
   "source": [
    "tib %>% \n",
    "  # make a new tibble that has a column for the \n",
    "  # averages of test1 and test2\n",
    "  summarize(avg_test1 = mean(test1), avg_test2 = mean(test2)) %>% \n",
    "  # add new columns test1_letter and test2_letter\n",
    "  mutate(\n",
    "    # assign test1_letter based on test1 average score\n",
    "    test1_letter = case_when(\n",
    "      avg_test1 < 80 ~ \"C\",\n",
    "      avg_test1 >= 80 & avg_test1 < 90 ~ \"B\",\n",
    "      avg_test1 >= 90 ~ \"A\"),\n",
    "    # assign test2_letter based on test2 average score\n",
    "    test2_letter = case_when(\n",
    "      avg_test2 < 80 ~ \"C\",\n",
    "      avg_test2 >= 80 & avg_test2 < 90 ~ \"B\",\n",
    "      avg_test2 >= 90 ~ \"A\")) %>% \n",
    "  # reorder the columns to be by test1 then test2\n",
    "  select(avg_test1, test1_letter, avg_test2, test2_letter)"
   ]
  }
 ],
 "metadata": {
  "kernelspec": {
   "display_name": "R",
   "language": "R",
   "name": "ir"
  },
  "language_info": {
   "codemirror_mode": "r",
   "file_extension": ".r",
   "mimetype": "text/x-r-source",
   "name": "R",
   "pygments_lexer": "r",
   "version": "4.3.1"
  }
 },
 "nbformat": 4,
 "nbformat_minor": 5
}
