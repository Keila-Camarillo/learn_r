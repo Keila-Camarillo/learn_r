{
 "cells": [
  {
   "cell_type": "code",
   "execution_count": 1,
   "id": "8acab1f6",
   "metadata": {},
   "outputs": [
    {
     "name": "stdout",
     "output_type": "stream",
     "text": [
      "[1] 525600\n"
     ]
    }
   ],
   "source": [
    "# an object using the assignment operator, an arrow sign (<-)\n",
    "minutes_in_year <- 525600\n",
    "print(minutes_in_year)"
   ]
  },
  {
   "cell_type": "markdown",
   "id": "d42a6b9d",
   "metadata": {},
   "source": [
    "### Challenge Question\n",
    "Currently, the object foot_to_centimeters is assigned the value 0. Change the assignment of foot_to_centimeters from 0 to an operation that computes the number of centimeters in a foot (note: there are 2.54 centimeters in an inch and 12 inches in a foot)."
   ]
  },
  {
   "cell_type": "code",
   "execution_count": 3,
   "id": "dd82fe04",
   "metadata": {},
   "outputs": [
    {
     "name": "stdout",
     "output_type": "stream",
     "text": [
      "[1] 30.48\n"
     ]
    }
   ],
   "source": [
    "foot_to_centimeters <- 2.54*12\n",
    "print(foot_to_centimeters)"
   ]
  },
  {
   "cell_type": "markdown",
   "id": "cccdd88c",
   "metadata": {},
   "source": []
  },
  {
   "cell_type": "markdown",
   "id": "56b53a0b",
   "metadata": {},
   "source": [
    "\n",
    "## Name Rules\n",
    "1. No spaces (minutes in year does not work)\n",
    "2. Only . and _ are acceptable punctuation (minutes.in.year and minutes_in_year and minutesinyear will all work and are all different names).\n",
    "3. Names cannot begin with a punctuation mark.\n",
    "4. Names can contain numbers, but cannot start with a number (2times5 does not work, but prod_2_5 will work)\n",
    "\n",
    "### Variable Types\n",
    "\n",
    "### Numeric\n",
    "A numeric object is a number, with or without a decimal point. \n",
    "Empty null value (NA) can all be numeric objects.\n",
    "Numeric objects can be turned into character objects with the as.character() function. \n",
    "\n",
    "###  Logical\n",
    "A logical object can either be TRUE or FALSE with all capital letters and no quotation marks. \n",
    "Logical objects can also be just T or F, but it is best practice to use the full TRUE and FALSE.\n",
    "Calculate the total number of TRUE objects using sum() and the proportion of TRUE objects using mean().\n",
    "\n",
    "A logical object can either be TRUE or FALSE with all capital letters and no quotation marks. \n",
    "Logical objects can also be just T or F, but it is best practice to use the full TRUE and FALSE.\n",
    "Calculate the total number of TRUE objects using sum() and the proportion of TRUE objects using mean()."
   ]
  },
  {
   "cell_type": "code",
   "execution_count": 4,
   "id": "5c58a8e1",
   "metadata": {},
   "outputs": [
    {
     "data": {
      "text/html": [
       "<style>\n",
       ".list-inline {list-style: none; margin:0; padding: 0}\n",
       ".list-inline>li {display: inline-block}\n",
       ".list-inline>li:not(:last-child)::after {content: \"\\00b7\"; padding: 0 .5ex}\n",
       "</style>\n",
       "<ol class=list-inline><li>1</li><li>2</li><li>3</li><li>4</li><li>5</li></ol>\n"
      ],
      "text/latex": [
       "\\begin{enumerate*}\n",
       "\\item 1\n",
       "\\item 2\n",
       "\\item 3\n",
       "\\item 4\n",
       "\\item 5\n",
       "\\end{enumerate*}\n"
      ],
      "text/markdown": [
       "1. 1\n",
       "2. 2\n",
       "3. 3\n",
       "4. 4\n",
       "5. 5\n",
       "\n",
       "\n"
      ],
      "text/plain": [
       "[1] 1 2 3 4 5"
      ]
     },
     "metadata": {},
     "output_type": "display_data"
    }
   ],
   "source": [
    "## Vectors can be lists of numbers, characters, or logical objects. \n",
    "# Vectors are created using c() with each object separated by a comma.\n",
    "# example\n",
    "one_five <- c(1, 2, 3, 4, 5)\n",
    "\n",
    "# You can use : as shorthand for creating a vector that is a sequence of whole numbers. \n",
    "# For example:\n",
    "one_five_short <- 1:5\n",
    "\n",
    "one_five_short"
   ]
  },
  {
   "cell_type": "markdown",
   "id": "78128aeb",
   "metadata": {},
   "source": [
    "### Challenge Question \n",
    "There is a soccer player who is taking 12 penalty kicks.\n",
    "Let goals be a logical vector that represents the result of each kick, where TRUE means a goal is scored and FALSE means there wasn’t a goal.\n",
    "\n",
    "Calculate the total number of goals scored, save it to the object total_goals, and then print total_goals.\n",
    "\n",
    "Then calculate the proportion of goals scored, save it to the object prop_goals, and then print prop_goals.'''\n",
    "12 penalty kicks"
   ]
  },
  {
   "cell_type": "code",
   "execution_count": 5,
   "id": "6f6939fc",
   "metadata": {},
   "outputs": [
    {
     "data": {
      "text/html": [
       "8"
      ],
      "text/latex": [
       "8"
      ],
      "text/markdown": [
       "8"
      ],
      "text/plain": [
       "[1] 8"
      ]
     },
     "metadata": {},
     "output_type": "display_data"
    },
    {
     "data": {
      "text/html": [
       "0.666666666666667"
      ],
      "text/latex": [
       "0.666666666666667"
      ],
      "text/markdown": [
       "0.666666666666667"
      ],
      "text/plain": [
       "[1] 0.6666667"
      ]
     },
     "metadata": {},
     "output_type": "display_data"
    }
   ],
   "source": [
    "goals <- c(T, T, T, F, F, T, F, T, T, T, F, T)\n",
    "\n",
    "## Total goals scored\n",
    "total_goals <- sum(goals)\n",
    "total_goals\n",
    "\n",
    "## Proportion of goals scored\n",
    "prop_goals <- mean(goals)\n",
    "prop_goals"
   ]
  },
  {
   "cell_type": "markdown",
   "id": "c00a3e33",
   "metadata": {},
   "source": [
    "### Initiating a Vector\n",
    "* length() returns the length of a vector\n",
    "* class() returns the type of variable in a vector\n",
    "* min() and max() return the minimum and maximum values of a numeric vector, respectively.\n",
    "* range() returns the minimum and maximum values of a numeric vector simultaneously."
   ]
  },
  {
   "cell_type": "markdown",
   "id": "73b0cba4",
   "metadata": {},
   "source": [
    "# Subsetting within a vector\n",
    "* customers[2] will return the second element (note that this is different from languages like Python)\n",
    "* customers[2:4] will return the second, third, and fourth elements\n",
    "* customers[c(2,4)] will return the second and fourth elements, skipping the third element\n",
    "* customers[3:length(customers)] will return all elements starting from the third to the end. \n",
    "   * This is particularly helpful to avoid errors from hardcoding values if the vector length may change.\n",
    "* which() function returns the index (or indexes) of which elements meet the given criteria\n"
   ]
  },
  {
   "cell_type": "code",
   "execution_count": 10,
   "id": "e1495d1a",
   "metadata": {},
   "outputs": [
    {
     "data": {
      "text/html": [
       "<style>\n",
       ".list-inline {list-style: none; margin:0; padding: 0}\n",
       ".list-inline>li {display: inline-block}\n",
       ".list-inline>li:not(:last-child)::after {content: \"\\00b7\"; padding: 0 .5ex}\n",
       "</style>\n",
       "<ol class=list-inline><li>47</li><li>40</li><li>38</li><li>42</li><li>56</li><li>72</li><li>70</li></ol>\n"
      ],
      "text/latex": [
       "\\begin{enumerate*}\n",
       "\\item 47\n",
       "\\item 40\n",
       "\\item 38\n",
       "\\item 42\n",
       "\\item 56\n",
       "\\item 72\n",
       "\\item 70\n",
       "\\end{enumerate*}\n"
      ],
      "text/markdown": [
       "1. 47\n",
       "2. 40\n",
       "3. 38\n",
       "4. 42\n",
       "5. 56\n",
       "6. 72\n",
       "7. 70\n",
       "\n",
       "\n"
      ],
      "text/plain": [
       "[1] 47 40 38 42 56 72 70"
      ]
     },
     "metadata": {},
     "output_type": "display_data"
    }
   ],
   "source": [
    "# Print original customers vector\n",
    "customers <- c(47, 40, 38, 42, 56, 72, 70)\n",
    "customers"
   ]
  },
  {
   "cell_type": "code",
   "execution_count": 11,
   "id": "628b9b17",
   "metadata": {},
   "outputs": [
    {
     "data": {
      "text/html": [
       "<style>\n",
       ".list-inline {list-style: none; margin:0; padding: 0}\n",
       ".list-inline>li {display: inline-block}\n",
       ".list-inline>li:not(:last-child)::after {content: \"\\00b7\"; padding: 0 .5ex}\n",
       "</style>\n",
       "<ol class=list-inline><li>40</li><li>38</li><li>42</li></ol>\n"
      ],
      "text/latex": [
       "\\begin{enumerate*}\n",
       "\\item 40\n",
       "\\item 38\n",
       "\\item 42\n",
       "\\end{enumerate*}\n"
      ],
      "text/markdown": [
       "1. 40\n",
       "2. 38\n",
       "3. 42\n",
       "\n",
       "\n"
      ],
      "text/plain": [
       "[1] 40 38 42"
      ]
     },
     "metadata": {},
     "output_type": "display_data"
    }
   ],
   "source": [
    "# Customers 2,3, and 4\n",
    "customers[2:4] "
   ]
  },
  {
   "cell_type": "code",
   "execution_count": 12,
   "id": "bcef8254",
   "metadata": {},
   "outputs": [
    {
     "data": {
      "text/html": [
       "<style>\n",
       ".list-inline {list-style: none; margin:0; padding: 0}\n",
       ".list-inline>li {display: inline-block}\n",
       ".list-inline>li:not(:last-child)::after {content: \"\\00b7\"; padding: 0 .5ex}\n",
       "</style>\n",
       "<ol class=list-inline><li>1</li><li>5</li><li>6</li><li>7</li></ol>\n"
      ],
      "text/latex": [
       "\\begin{enumerate*}\n",
       "\\item 1\n",
       "\\item 5\n",
       "\\item 6\n",
       "\\item 7\n",
       "\\end{enumerate*}\n"
      ],
      "text/markdown": [
       "1. 1\n",
       "2. 5\n",
       "3. 6\n",
       "4. 7\n",
       "\n",
       "\n"
      ],
      "text/plain": [
       "[1] 1 5 6 7"
      ]
     },
     "metadata": {},
     "output_type": "display_data"
    }
   ],
   "source": [
    "# Print indexes of days with more than 45 customers\n",
    "which(customers > 45)"
   ]
  },
  {
   "cell_type": "code",
   "execution_count": 58,
   "id": "ccb5c267",
   "metadata": {},
   "outputs": [
    {
     "data": {
      "text/html": [
       "<style>\n",
       ".list-inline {list-style: none; margin:0; padding: 0}\n",
       ".list-inline>li {display: inline-block}\n",
       ".list-inline>li:not(:last-child)::after {content: \"\\00b7\"; padding: 0 .5ex}\n",
       "</style>\n",
       "<ol class=list-inline><li>47</li><li>56</li><li>72</li><li>70</li></ol>\n"
      ],
      "text/latex": [
       "\\begin{enumerate*}\n",
       "\\item 47\n",
       "\\item 56\n",
       "\\item 72\n",
       "\\item 70\n",
       "\\end{enumerate*}\n"
      ],
      "text/markdown": [
       "1. 47\n",
       "2. 56\n",
       "3. 72\n",
       "4. 70\n",
       "\n",
       "\n"
      ],
      "text/plain": [
       "[1] 47 56 72 70"
      ]
     },
     "metadata": {},
     "output_type": "display_data"
    }
   ],
   "source": [
    "# Print the value of each day with more than 45 customers\n",
    "customers[which(customers > 45)]"
   ]
  },
  {
   "cell_type": "code",
   "execution_count": null,
   "id": "009f0df9",
   "metadata": {},
   "outputs": [],
   "source": []
  }
 ],
 "metadata": {
  "kernelspec": {
   "display_name": "R",
   "language": "R",
   "name": "ir"
  },
  "language_info": {
   "codemirror_mode": "r",
   "file_extension": ".r",
   "mimetype": "text/x-r-source",
   "name": "R",
   "pygments_lexer": "r",
   "version": "4.3.1"
  }
 },
 "nbformat": 4,
 "nbformat_minor": 5
}
