{
 "cells": [
  {
   "cell_type": "markdown",
   "id": "c68e848d",
   "metadata": {},
   "source": [
    "## Control Flow\n",
    "We can control which lines are run or skipped by implementing conditional statements throughout the script."
   ]
  },
  {
   "cell_type": "markdown",
   "id": "143cda84",
   "metadata": {},
   "source": [
    "### syntax for if statement\n",
    "if (logical_statement) {\n",
    "    code to execute\n",
    "}"
   ]
  },
  {
   "cell_type": "code",
   "execution_count": 4,
   "id": "1f082e5c",
   "metadata": {},
   "outputs": [],
   "source": [
    "a <- 10"
   ]
  },
  {
   "cell_type": "code",
   "execution_count": 5,
   "id": "b6cb42ba",
   "metadata": {},
   "outputs": [],
   "source": [
    "# print a if it is either less than 5 or greater than 91\n",
    "if (a < 5 | a > 91) {\n",
    "    print(a)\n",
    "}  "
   ]
  },
  {
   "cell_type": "code",
   "execution_count": 6,
   "id": "e1d754cc",
   "metadata": {},
   "outputs": [
    {
     "name": "stdout",
     "output_type": "stream",
     "text": [
      "[1] \"greater than or equal to 8\"\n"
     ]
    }
   ],
   "source": [
    "# print id a is greater than or equal to 8 if not print \"less than 8\"\n",
    "if (a >= 8) {\n",
    "    print(\"greater than or equal to 8\")\n",
    "} else {\n",
    "    print(\"less than 8\")\n",
    "}"
   ]
  },
  {
   "cell_type": "code",
   "execution_count": 8,
   "id": "2d6b7e6f",
   "metadata": {},
   "outputs": [],
   "source": [
    "a <- 15"
   ]
  },
  {
   "cell_type": "code",
   "execution_count": 9,
   "id": "30d7a8a7",
   "metadata": {},
   "outputs": [
    {
     "name": "stdout",
     "output_type": "stream",
     "text": [
      "[1] \"large\"\n"
     ]
    }
   ],
   "source": [
    "if (a <= 5){\n",
    "    print(\"small\")\n",
    "} else if (a > 5 & a <=10){\n",
    "    print(\"medium\")\n",
    "} else if (a >10 & a <=15){\n",
    "    print(\"large\")\n",
    "} else {\n",
    "    print(\"extra large\")\n",
    "}"
   ]
  },
  {
   "cell_type": "markdown",
   "id": "a8df54f9",
   "metadata": {},
   "source": [
    "## Nested statements\n",
    "If there are sub-conditions within a conditional statement, we can nest an if statement within another if statement:"
   ]
  },
  {
   "cell_type": "code",
   "execution_count": 10,
   "id": "96f18b46",
   "metadata": {},
   "outputs": [],
   "source": [
    "a <- 10"
   ]
  },
  {
   "cell_type": "code",
   "execution_count": 13,
   "id": "de3fdf3c",
   "metadata": {},
   "outputs": [
    {
     "name": "stdout",
     "output_type": "stream",
     "text": [
      "[1] \"a is between 9 and 11\"\n"
     ]
    }
   ],
   "source": [
    "# 1st condition\n",
    "if (a >= 5){\n",
    "    # 2nd condition\n",
    "    if (a <= 8){\n",
    "        # code to run if 1st and 2nd are True\n",
    "        print(\"a is between 5 and 8\")\n",
    "    # 3rd condition    \n",
    "    } else if (a <=11){\n",
    "        # code to run if first and third conditions are TRUE\n",
    "        print(\"a is between 9 and 11\")\n",
    "    } else {\n",
    "        # code to run if only first condition is TRUE\n",
    "        print(\"a is greater than 11\")\n",
    "    }    \n",
    "} "
   ]
  },
  {
   "cell_type": "markdown",
   "id": "1feb9d06",
   "metadata": {},
   "source": [
    "### Single-line if-else statement"
   ]
  },
  {
   "cell_type": "code",
   "execution_count": 14,
   "id": "cffc4b46",
   "metadata": {},
   "outputs": [
    {
     "data": {
      "text/html": [
       "'large'"
      ],
      "text/latex": [
       "'large'"
      ],
      "text/markdown": [
       "'large'"
      ],
      "text/plain": [
       "[1] \"large\""
      ]
     },
     "metadata": {},
     "output_type": "display_data"
    }
   ],
   "source": [
    "a <- 8\n",
    " \n",
    "# ifelse(logical_statement, if_true, if_false)\n",
    "group_size <- ifelse(a >= 6, \"large\", \"small\")\n",
    "group_size"
   ]
  },
  {
   "cell_type": "code",
   "execution_count": 16,
   "id": "4048d13d",
   "metadata": {},
   "outputs": [
    {
     "data": {
      "text/html": [
       "<style>\n",
       ".list-inline {list-style: none; margin:0; padding: 0}\n",
       ".list-inline>li {display: inline-block}\n",
       ".list-inline>li:not(:last-child)::after {content: \"\\00b7\"; padding: 0 .5ex}\n",
       "</style>\n",
       "<ol class=list-inline><li>0</li><li>1</li><li>1</li><li>1</li><li>0</li><li>1</li></ol>\n"
      ],
      "text/latex": [
       "\\begin{enumerate*}\n",
       "\\item 0\n",
       "\\item 1\n",
       "\\item 1\n",
       "\\item 1\n",
       "\\item 0\n",
       "\\item 1\n",
       "\\end{enumerate*}\n"
      ],
      "text/markdown": [
       "1. 0\n",
       "2. 1\n",
       "3. 1\n",
       "4. 1\n",
       "5. 0\n",
       "6. 1\n",
       "\n",
       "\n"
      ],
      "text/plain": [
       "[1] 0 1 1 1 0 1"
      ]
     },
     "metadata": {},
     "output_type": "display_data"
    }
   ],
   "source": [
    "# Vector of scores\n",
    "score <- c(2, 6, 10, 12, 4, 8)\n",
    " \n",
    "# Return 1 if greater than 5, 0 otherwise\n",
    "greater_than_5 <- ifelse(score > 5, 1, 0)\n",
    " \n",
    "greater_than_5"
   ]
  },
  {
   "cell_type": "markdown",
   "id": "34dd9ace",
   "metadata": {},
   "source": [
    "## Loops\n",
    "\n",
    "### For Loops:\n",
    "The syntax for a for loop includes the iterator, which we will call value, and a vector to count through. The number of objects in the vector is how many times the loop will repeat. For example, if we wanted to print a statement 5 times with the numbers increasing by 1 each time, we could use:"
   ]
  },
  {
   "cell_type": "code",
   "execution_count": 18,
   "id": "3535c501",
   "metadata": {},
   "outputs": [
    {
     "name": "stdout",
     "output_type": "stream",
     "text": [
      "[1] \"1 is greater than 0\"\n",
      "[1] \"2 is greater than 1\"\n",
      "[1] \"3 is greater than 2\"\n",
      "[1] \"4 is greater than 3\"\n",
      "[1] \"5 is greater than 4\"\n"
     ]
    }
   ],
   "source": [
    "for (value in 1:5) {\n",
    "    # code to execute\n",
    "    print(paste(value, \"is greater than\", value-1))\n",
    "}"
   ]
  },
  {
   "cell_type": "code",
   "execution_count": 19,
   "id": "d01b50bb",
   "metadata": {},
   "outputs": [
    {
     "data": {
      "text/html": [
       "<style>\n",
       ".list-inline {list-style: none; margin:0; padding: 0}\n",
       ".list-inline>li {display: inline-block}\n",
       ".list-inline>li:not(:last-child)::after {content: \"\\00b7\"; padding: 0 .5ex}\n",
       "</style>\n",
       "<ol class=list-inline><li>6</li><li>1</li><li>6</li><li>1</li><li>6</li></ol>\n"
      ],
      "text/latex": [
       "\\begin{enumerate*}\n",
       "\\item 6\n",
       "\\item 1\n",
       "\\item 6\n",
       "\\item 1\n",
       "\\item 6\n",
       "\\end{enumerate*}\n"
      ],
      "text/markdown": [
       "1. 6\n",
       "2. 1\n",
       "3. 6\n",
       "4. 1\n",
       "5. 6\n",
       "\n",
       "\n"
      ],
      "text/plain": [
       "[1] 6 1 6 1 6"
      ]
     },
     "metadata": {},
     "output_type": "display_data"
    }
   ],
   "source": [
    "# We can pass a vector of specific values and will repeat for the length of the vector.\n",
    "vec <- c(1, 1, 1, 1, 1)\n",
    " \n",
    "# Change 1st, 3rd, and 5th elements to 6\n",
    "for(i in c(1, 3, 5)){\n",
    "    vec[i] <- 6\n",
    "}\n",
    "vec"
   ]
  },
  {
   "cell_type": "markdown",
   "id": "af2301d6",
   "metadata": {},
   "source": [
    "The values we’re giving to our iterator do not even have to be numeric! If we passed a vector of character objects, the loop would iterate for the length of the vector."
   ]
  },
  {
   "cell_type": "code",
   "execution_count": 20,
   "id": "ca392b5f",
   "metadata": {},
   "outputs": [
    {
     "name": "stdout",
     "output_type": "stream",
     "text": [
      "[1] \"my\"\n",
      "[1] \"favorite\"\n",
      "[1] \"color\"\n",
      "[1] \"is\"\n",
      "[1] \"yellow\"\n",
      "[1] \"and\"\n",
      "[1] \"I\"\n",
      "[1] \"play\"\n",
      "[1] \"soccer\"\n"
     ]
    }
   ],
   "source": [
    "about_me <- c(\"my\", \"favorite\", \"color\", \"is\", \"yellow\", \"and\", \"I\", \"play\", \"soccer\")\n",
    " \n",
    "for(word in about_me){\n",
    "  print(word)\n",
    "}"
   ]
  },
  {
   "cell_type": "markdown",
   "id": "95cfc581",
   "metadata": {},
   "source": [
    "We can nest a for loop within another for loop. Doing so will take the first value of the outer loop, iterate for the total number of times in the inner loop, take the next value of the outer loop, and so on. This is particularly useful for iterating through each value in a data frame or a matrix. For example, let’s say we had a matrix mat with 2 rows and 2 columns all filled with 1."
   ]
  },
  {
   "cell_type": "code",
   "execution_count": 21,
   "id": "ff4db1ae",
   "metadata": {},
   "outputs": [
    {
     "data": {
      "text/html": [
       "<table class=\"dataframe\">\n",
       "<caption>A matrix: 2 × 2 of type dbl</caption>\n",
       "<tbody>\n",
       "\t<tr><td>1</td><td>1</td></tr>\n",
       "\t<tr><td>1</td><td>1</td></tr>\n",
       "</tbody>\n",
       "</table>\n"
      ],
      "text/latex": [
       "A matrix: 2 × 2 of type dbl\n",
       "\\begin{tabular}{ll}\n",
       "\t 1 & 1\\\\\n",
       "\t 1 & 1\\\\\n",
       "\\end{tabular}\n"
      ],
      "text/markdown": [
       "\n",
       "A matrix: 2 × 2 of type dbl\n",
       "\n",
       "| 1 | 1 |\n",
       "| 1 | 1 |\n",
       "\n"
      ],
      "text/plain": [
       "     [,1] [,2]\n",
       "[1,] 1    1   \n",
       "[2,] 1    1   "
      ]
     },
     "metadata": {},
     "output_type": "display_data"
    }
   ],
   "source": [
    "# create matrix\n",
    "mat <- matrix(1, nrow = 2, ncol = 2)\n",
    "mat"
   ]
  },
  {
   "cell_type": "code",
   "execution_count": 22,
   "id": "f18ae40a",
   "metadata": {},
   "outputs": [
    {
     "name": "stdout",
     "output_type": "stream",
     "text": [
      "     [,1] [,2]\n",
      "[1,]    0    1\n",
      "[2,]    1    1\n",
      "     [,1] [,2]\n",
      "[1,]    0    0\n",
      "[2,]    1    1\n",
      "     [,1] [,2]\n",
      "[1,]    0    0\n",
      "[2,]    0    1\n",
      "     [,1] [,2]\n",
      "[1,]    0    0\n",
      "[2,]    0    0\n"
     ]
    }
   ],
   "source": [
    "for (row in 1:2) {\n",
    "    for (col in 1:2) {\n",
    "        mat[row, col] <- 0\n",
    "        print(mat)\n",
    "    }\n",
    "}"
   ]
  },
  {
   "cell_type": "markdown",
   "id": "23c5f0bb",
   "metadata": {},
   "source": [
    "### While loops\n",
    "While loops will continue running until a certain condition is met, or until a logical statement returns FALSE. The basic syntax for a while loop is as follows:\n",
    "\n",
    "while (condition_to_check) {\n",
    "    execute this code\n",
    "}"
   ]
  },
  {
   "cell_type": "code",
   "execution_count": 23,
   "id": "f01c0dfb",
   "metadata": {},
   "outputs": [
    {
     "name": "stdout",
     "output_type": "stream",
     "text": [
      "[1] 2\n",
      "[1] 4\n",
      "[1] 6\n",
      "[1] 8\n",
      "[1] 10\n"
     ]
    }
   ],
   "source": [
    "a <- 0\n",
    " \n",
    "while (a < 10) {\n",
    "        # Increase a by 2\n",
    "    a <- a + 2\n",
    " \n",
    "        # Print a\n",
    "    print(a)\n",
    "}"
   ]
  },
  {
   "cell_type": "code",
   "execution_count": 25,
   "id": "b25a7129",
   "metadata": {},
   "outputs": [],
   "source": [
    "## example\n",
    "# Initiate counter variables\n",
    "number_of_heads <- 0\n",
    "heads_goal <- 5\n"
   ]
  },
  {
   "cell_type": "code",
   "execution_count": 26,
   "id": "7a4c4880",
   "metadata": {},
   "outputs": [
    {
     "name": "stdout",
     "output_type": "stream",
     "text": [
      "[1] \"tails\"\n",
      "[1] \"tails\"\n",
      "[1] \"tails\"\n",
      "[1] \"heads\"\n",
      "[1] \"heads\"\n",
      "[1] \"heads\"\n",
      "[1] \"tails\"\n",
      "[1] \"heads\"\n",
      "[1] \"heads\"\n"
     ]
    }
   ],
   "source": [
    "# Initiate coin\n",
    "coin <- c(\"heads\", \"tails\")\n",
    "\n",
    "# Initiate while loop\n",
    "while (number_of_heads < heads_goal) {\n",
    "  # flip the coin (sample = random)\n",
    "  result <- sample(coin, 1)\n",
    "  print(result)\n",
    "  if (result == \"heads\") {\n",
    "    number_of_heads <- number_of_heads + 1\n",
    "  }\n",
    "}"
   ]
  },
  {
   "cell_type": "code",
   "execution_count": null,
   "id": "381ddd69",
   "metadata": {},
   "outputs": [],
   "source": []
  }
 ],
 "metadata": {
  "kernelspec": {
   "display_name": "R",
   "language": "R",
   "name": "ir"
  },
  "language_info": {
   "codemirror_mode": "r",
   "file_extension": ".r",
   "mimetype": "text/x-r-source",
   "name": "R",
   "pygments_lexer": "r",
   "version": "4.3.1"
  }
 },
 "nbformat": 4,
 "nbformat_minor": 5
}
