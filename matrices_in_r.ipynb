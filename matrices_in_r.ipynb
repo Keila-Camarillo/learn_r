{
 "cells": [
  {
   "cell_type": "markdown",
   "id": "d163ae89",
   "metadata": {},
   "source": [
    "# Initiating a matrix\n",
    "We can initiate a matrix using the matrix() function with parameters:\n",
    "  \n",
    "* data: the data included in the matrix. If left blank, the default is NA\n",
    "* nrow: the desired number of rows in the matrix. If left blank, the default is 1\n",
    "* ncol: the desired number of columns in the matrix. If left blank, the default is\n"
   ]
  },
  {
   "cell_type": "code",
   "execution_count": 1,
   "id": "119d0e7e",
   "metadata": {},
   "outputs": [
    {
     "data": {
      "text/html": [
       "<table class=\"dataframe\">\n",
       "<caption>A matrix: 2 × 3 of type dbl</caption>\n",
       "<tbody>\n",
       "\t<tr><td>1</td><td>1</td><td>1</td></tr>\n",
       "\t<tr><td>1</td><td>1</td><td>1</td></tr>\n",
       "</tbody>\n",
       "</table>\n"
      ],
      "text/latex": [
       "A matrix: 2 × 3 of type dbl\n",
       "\\begin{tabular}{lll}\n",
       "\t 1 & 1 & 1\\\\\n",
       "\t 1 & 1 & 1\\\\\n",
       "\\end{tabular}\n"
      ],
      "text/markdown": [
       "\n",
       "A matrix: 2 × 3 of type dbl\n",
       "\n",
       "| 1 | 1 | 1 |\n",
       "| 1 | 1 | 1 |\n",
       "\n"
      ],
      "text/plain": [
       "     [,1] [,2] [,3]\n",
       "[1,] 1    1    1   \n",
       "[2,] 1    1    1   "
      ]
     },
     "metadata": {},
     "output_type": "display_data"
    }
   ],
   "source": [
    "# If data is a single value, the matrix will simply be a matrix of that value. For example:\n",
    "ones <- matrix(data = 1, nrow = 2, ncol = 3)\n",
    "ones"
   ]
  },
  {
   "cell_type": "code",
   "execution_count": 2,
   "id": "b1db32cc",
   "metadata": {},
   "outputs": [
    {
     "data": {
      "text/html": [
       "<table class=\"dataframe\">\n",
       "<caption>A matrix: 2 × 3 of type chr</caption>\n",
       "<tbody>\n",
       "\t<tr><td>c</td><td>c</td><td>c</td></tr>\n",
       "\t<tr><td>d</td><td>d</td><td>d</td></tr>\n",
       "</tbody>\n",
       "</table>\n"
      ],
      "text/latex": [
       "A matrix: 2 × 3 of type chr\n",
       "\\begin{tabular}{lll}\n",
       "\t c & c & c\\\\\n",
       "\t d & d & d\\\\\n",
       "\\end{tabular}\n"
      ],
      "text/markdown": [
       "\n",
       "A matrix: 2 × 3 of type chr\n",
       "\n",
       "| c | c | c |\n",
       "| d | d | d |\n",
       "\n"
      ],
      "text/plain": [
       "     [,1] [,2] [,3]\n",
       "[1,] c    c    c   \n",
       "[2,] d    d    d   "
      ]
     },
     "metadata": {},
     "output_type": "display_data"
    }
   ],
   "source": [
    "# If data is a vector, the default process for matrices is to fill down columns. For example:\n",
    "c_d <- matrix(data = c(\"c\", \"d\"), nrow = 2, ncol = 3)\n",
    "c_d"
   ]
  },
  {
   "cell_type": "markdown",
   "id": "43c4103d",
   "metadata": {},
   "source": [
    "We can see here that the first column has the vector values of a then b. This vector repeats in the next open space, which in this case is the first value of the second column. If the vector in data does not evenly fit down a column, the data will repeat itself until all spots are filled. For example:"
   ]
  },
  {
   "cell_type": "code",
   "execution_count": 20,
   "id": "8ad94998",
   "metadata": {
    "scrolled": false
   },
   "outputs": [
    {
     "data": {
      "text/html": [
       "<table class=\"dataframe\">\n",
       "<caption>A matrix: 4 × 3 of type chr</caption>\n",
       "<tbody>\n",
       "\t<tr><td>a</td><td>b</td><td>c</td></tr>\n",
       "\t<tr><td>b</td><td>c</td><td>a</td></tr>\n",
       "\t<tr><td>c</td><td>a</td><td>b</td></tr>\n",
       "\t<tr><td>a</td><td>b</td><td>c</td></tr>\n",
       "</tbody>\n",
       "</table>\n"
      ],
      "text/latex": [
       "A matrix: 4 × 3 of type chr\n",
       "\\begin{tabular}{lll}\n",
       "\t a & b & c\\\\\n",
       "\t b & c & a\\\\\n",
       "\t c & a & b\\\\\n",
       "\t a & b & c\\\\\n",
       "\\end{tabular}\n"
      ],
      "text/markdown": [
       "\n",
       "A matrix: 4 × 3 of type chr\n",
       "\n",
       "| a | b | c |\n",
       "| b | c | a |\n",
       "| c | a | b |\n",
       "| a | b | c |\n",
       "\n"
      ],
      "text/plain": [
       "     [,1] [,2] [,3]\n",
       "[1,] a    b    c   \n",
       "[2,] b    c    a   \n",
       "[3,] c    a    b   \n",
       "[4,] a    b    c   "
      ]
     },
     "metadata": {},
     "output_type": "display_data"
    }
   ],
   "source": [
    "abc <- matrix(data = c(\"a\", \"b\", \"c\"), nrow = 4, ncol = 3)\n",
    "abc"
   ]
  },
  {
   "cell_type": "code",
   "execution_count": 30,
   "id": "7dc13797",
   "metadata": {
    "scrolled": false
   },
   "outputs": [
    {
     "data": {
      "text/html": [
       "<table class=\"dataframe\">\n",
       "<caption>A matrix: 6 × 6 of type chr</caption>\n",
       "<tbody>\n",
       "\t<tr><td>a</td><td>b</td><td>c</td><td>a</td><td>b</td><td>c</td></tr>\n",
       "\t<tr><td>a</td><td>b</td><td>c</td><td>a</td><td>b</td><td>c</td></tr>\n",
       "\t<tr><td>a</td><td>b</td><td>c</td><td>a</td><td>b</td><td>c</td></tr>\n",
       "\t<tr><td>a</td><td>b</td><td>c</td><td>a</td><td>b</td><td>c</td></tr>\n",
       "\t<tr><td>a</td><td>b</td><td>c</td><td>a</td><td>b</td><td>c</td></tr>\n",
       "\t<tr><td>a</td><td>b</td><td>c</td><td>a</td><td>b</td><td>c</td></tr>\n",
       "</tbody>\n",
       "</table>\n"
      ],
      "text/latex": [
       "A matrix: 6 × 6 of type chr\n",
       "\\begin{tabular}{llllll}\n",
       "\t a & b & c & a & b & c\\\\\n",
       "\t a & b & c & a & b & c\\\\\n",
       "\t a & b & c & a & b & c\\\\\n",
       "\t a & b & c & a & b & c\\\\\n",
       "\t a & b & c & a & b & c\\\\\n",
       "\t a & b & c & a & b & c\\\\\n",
       "\\end{tabular}\n"
      ],
      "text/markdown": [
       "\n",
       "A matrix: 6 × 6 of type chr\n",
       "\n",
       "| a | b | c | a | b | c |\n",
       "| a | b | c | a | b | c |\n",
       "| a | b | c | a | b | c |\n",
       "| a | b | c | a | b | c |\n",
       "| a | b | c | a | b | c |\n",
       "| a | b | c | a | b | c |\n",
       "\n"
      ],
      "text/plain": [
       "     [,1] [,2] [,3] [,4] [,5] [,6]\n",
       "[1,] a    b    c    a    b    c   \n",
       "[2,] a    b    c    a    b    c   \n",
       "[3,] a    b    c    a    b    c   \n",
       "[4,] a    b    c    a    b    c   \n",
       "[5,] a    b    c    a    b    c   \n",
       "[6,] a    b    c    a    b    c   "
      ]
     },
     "metadata": {},
     "output_type": "display_data"
    }
   ],
   "source": [
    "# If we want our matrix to fill across rows rather than down columns, we can set byrow = TRUE. For example:\n",
    "abc_row <- matrix(data = c(\"a\", \"b\", \"c\"), nrow = 6, ncol = 6, byrow = TRUE)\n",
    "abc_row"
   ]
  },
  {
   "cell_type": "code",
   "execution_count": 26,
   "id": "21fa7e37",
   "metadata": {},
   "outputs": [
    {
     "data": {
      "text/html": [
       "<style>\n",
       ".list-inline {list-style: none; margin:0; padding: 0}\n",
       ".list-inline>li {display: inline-block}\n",
       ".list-inline>li:not(:last-child)::after {content: \"\\00b7\"; padding: 0 .5ex}\n",
       "</style>\n",
       "<ol class=list-inline><li>2</li><li>3</li></ol>\n"
      ],
      "text/latex": [
       "\\begin{enumerate*}\n",
       "\\item 2\n",
       "\\item 3\n",
       "\\end{enumerate*}\n"
      ],
      "text/markdown": [
       "1. 2\n",
       "2. 3\n",
       "\n",
       "\n"
      ],
      "text/plain": [
       "[1] 2 3"
      ]
     },
     "metadata": {},
     "output_type": "display_data"
    }
   ],
   "source": [
    "# We can check the dimensions of a matrix using dim(), which returns the number of rows followed by the number of columns.\n",
    "dim(abc_row)"
   ]
  },
  {
   "cell_type": "markdown",
   "id": "d56d2ce0",
   "metadata": {},
   "source": [
    "Here are two matrices (mat1 and mat2) for us to practice some of these methods. Some things we can try are:\n",
    "\n",
    "* print a matrix\n",
    "* check the dimensions of the matrix\n",
    "* subset to certain rows or columns\n",
    "* replace parts of a matrix\n",
    "* logical operations\n",
    "* mathematical operations\n",
    "\n",
    "Feel free to try out making new matrices as well. Try to get comfortable working with matrices!"
   ]
  },
  {
   "cell_type": "code",
   "execution_count": 36,
   "id": "2bb2be26",
   "metadata": {},
   "outputs": [],
   "source": [
    "mat1 <- matrix(sample(1:100, 16, replace = TRUE), nrow = 4, ncol = 4) \n",
    "mat2 <- diag(4)"
   ]
  },
  {
   "cell_type": "code",
   "execution_count": 37,
   "id": "0e0b84bb",
   "metadata": {},
   "outputs": [
    {
     "data": {
      "text/html": [
       "<style>\n",
       ".list-inline {list-style: none; margin:0; padding: 0}\n",
       ".list-inline>li {display: inline-block}\n",
       ".list-inline>li:not(:last-child)::after {content: \"\\00b7\"; padding: 0 .5ex}\n",
       "</style>\n",
       "<ol class=list-inline><li>4</li><li>4</li></ol>\n"
      ],
      "text/latex": [
       "\\begin{enumerate*}\n",
       "\\item 4\n",
       "\\item 4\n",
       "\\end{enumerate*}\n"
      ],
      "text/markdown": [
       "1. 4\n",
       "2. 4\n",
       "\n",
       "\n"
      ],
      "text/plain": [
       "[1] 4 4"
      ]
     },
     "metadata": {},
     "output_type": "display_data"
    }
   ],
   "source": [
    "dim(mat1)"
   ]
  },
  {
   "cell_type": "code",
   "execution_count": 40,
   "id": "e20df294",
   "metadata": {},
   "outputs": [
    {
     "data": {
      "text/html": [
       "<table class=\"dataframe\">\n",
       "<caption>A matrix: 4 × 4 of type dbl</caption>\n",
       "<tbody>\n",
       "\t<tr><td>1</td><td>0</td><td>0</td><td>0</td></tr>\n",
       "\t<tr><td>0</td><td>1</td><td>0</td><td>0</td></tr>\n",
       "\t<tr><td>0</td><td>0</td><td>1</td><td>0</td></tr>\n",
       "\t<tr><td>0</td><td>0</td><td>0</td><td>1</td></tr>\n",
       "</tbody>\n",
       "</table>\n"
      ],
      "text/latex": [
       "A matrix: 4 × 4 of type dbl\n",
       "\\begin{tabular}{llll}\n",
       "\t 1 & 0 & 0 & 0\\\\\n",
       "\t 0 & 1 & 0 & 0\\\\\n",
       "\t 0 & 0 & 1 & 0\\\\\n",
       "\t 0 & 0 & 0 & 1\\\\\n",
       "\\end{tabular}\n"
      ],
      "text/markdown": [
       "\n",
       "A matrix: 4 × 4 of type dbl\n",
       "\n",
       "| 1 | 0 | 0 | 0 |\n",
       "| 0 | 1 | 0 | 0 |\n",
       "| 0 | 0 | 1 | 0 |\n",
       "| 0 | 0 | 0 | 1 |\n",
       "\n"
      ],
      "text/plain": [
       "     [,1] [,2] [,3] [,4]\n",
       "[1,] 1    0    0    0   \n",
       "[2,] 0    1    0    0   \n",
       "[3,] 0    0    1    0   \n",
       "[4,] 0    0    0    1   "
      ]
     },
     "metadata": {},
     "output_type": "display_data"
    }
   ],
   "source": [
    "mat2"
   ]
  },
  {
   "cell_type": "markdown",
   "id": "8f831af4",
   "metadata": {},
   "source": [
    "# Subsetting within a matrix\n",
    "Matrices are indexed using brackets with a comma [x,y], where x refers to the rows selected and y refers to the columns selected. For example, test[4,6] will call the value that is in the 4th row and the 6th column of the test matrix.\n",
    "\n",
    "We can select multiple rows or columns using the following:"
   ]
  },
  {
   "cell_type": "code",
   "execution_count": 52,
   "id": "e66ba65f",
   "metadata": {},
   "outputs": [
    {
     "data": {
      "text/html": [
       "<table class=\"dataframe\">\n",
       "<caption>A matrix: 3 × 3 of type int</caption>\n",
       "<tbody>\n",
       "\t<tr><td>17</td><td>50</td><td>21</td></tr>\n",
       "\t<tr><td>40</td><td> 6</td><td>87</td></tr>\n",
       "\t<tr><td>39</td><td>43</td><td>11</td></tr>\n",
       "</tbody>\n",
       "</table>\n"
      ],
      "text/latex": [
       "A matrix: 3 × 3 of type int\n",
       "\\begin{tabular}{lll}\n",
       "\t 17 & 50 & 21\\\\\n",
       "\t 40 &  6 & 87\\\\\n",
       "\t 39 & 43 & 11\\\\\n",
       "\\end{tabular}\n"
      ],
      "text/markdown": [
       "\n",
       "A matrix: 3 × 3 of type int\n",
       "\n",
       "| 17 | 50 | 21 |\n",
       "| 40 |  6 | 87 |\n",
       "| 39 | 43 | 11 |\n",
       "\n"
      ],
      "text/plain": [
       "     [,1] [,2] [,3]\n",
       "[1,] 17   50   21  \n",
       "[2,] 40    6   87  \n",
       "[3,] 39   43   11  "
      ]
     },
     "metadata": {},
     "output_type": "display_data"
    }
   ],
   "source": [
    "# select the 4th through 6th rows and the 1st through 3rd columns\n",
    "mat1[2:4,1:3]"
   ]
  },
  {
   "cell_type": "code",
   "execution_count": 54,
   "id": "af453b47",
   "metadata": {},
   "outputs": [
    {
     "data": {
      "text/html": [
       "<table class=\"dataframe\">\n",
       "<caption>A matrix: 3 × 4 of type int</caption>\n",
       "<tbody>\n",
       "\t<tr><td>17</td><td>50</td><td>21</td><td>73</td></tr>\n",
       "\t<tr><td>40</td><td> 6</td><td>87</td><td>47</td></tr>\n",
       "\t<tr><td>39</td><td>43</td><td>11</td><td>68</td></tr>\n",
       "</tbody>\n",
       "</table>\n"
      ],
      "text/latex": [
       "A matrix: 3 × 4 of type int\n",
       "\\begin{tabular}{llll}\n",
       "\t 17 & 50 & 21 & 73\\\\\n",
       "\t 40 &  6 & 87 & 47\\\\\n",
       "\t 39 & 43 & 11 & 68\\\\\n",
       "\\end{tabular}\n"
      ],
      "text/markdown": [
       "\n",
       "A matrix: 3 × 4 of type int\n",
       "\n",
       "| 17 | 50 | 21 | 73 |\n",
       "| 40 |  6 | 87 | 47 |\n",
       "| 39 | 43 | 11 | 68 |\n",
       "\n"
      ],
      "text/plain": [
       "     [,1] [,2] [,3] [,4]\n",
       "[1,] 17   50   21   73  \n",
       "[2,] 40    6   87   47  \n",
       "[3,] 39   43   11   68  "
      ]
     },
     "metadata": {},
     "output_type": "display_data"
    }
   ],
   "source": [
    "# select the 4th through 6th rows and ALL of the columns of the matrix\n",
    "mat1[2:4,]"
   ]
  },
  {
   "cell_type": "code",
   "execution_count": 56,
   "id": "05dea40c",
   "metadata": {},
   "outputs": [
    {
     "data": {
      "text/html": [
       "<table class=\"dataframe\">\n",
       "<caption>A matrix: 2 × 3 of type int</caption>\n",
       "<tbody>\n",
       "\t<tr><td>17</td><td>50</td><td>21</td></tr>\n",
       "\t<tr><td>39</td><td>43</td><td>11</td></tr>\n",
       "</tbody>\n",
       "</table>\n"
      ],
      "text/latex": [
       "A matrix: 2 × 3 of type int\n",
       "\\begin{tabular}{lll}\n",
       "\t 17 & 50 & 21\\\\\n",
       "\t 39 & 43 & 11\\\\\n",
       "\\end{tabular}\n"
      ],
      "text/markdown": [
       "\n",
       "A matrix: 2 × 3 of type int\n",
       "\n",
       "| 17 | 50 | 21 |\n",
       "| 39 | 43 | 11 |\n",
       "\n"
      ],
      "text/plain": [
       "     [,1] [,2] [,3]\n",
       "[1,] 17   50   21  \n",
       "[2,] 39   43   11  "
      ]
     },
     "metadata": {},
     "output_type": "display_data"
    }
   ],
   "source": [
    "# select the 4th AND 6th rows (skipping the 5th) and the 1st through 3rd columns\n",
    "mat1[c(2,4),1:3]"
   ]
  },
  {
   "cell_type": "code",
   "execution_count": 57,
   "id": "535a2ef8",
   "metadata": {},
   "outputs": [
    {
     "data": {
      "text/html": [
       "<table class=\"dataframe\">\n",
       "<caption>A matrix: 4 × 2 of type int</caption>\n",
       "<tbody>\n",
       "\t<tr><td>33</td><td>82</td></tr>\n",
       "\t<tr><td>50</td><td>73</td></tr>\n",
       "\t<tr><td> 6</td><td>47</td></tr>\n",
       "\t<tr><td>43</td><td>68</td></tr>\n",
       "</tbody>\n",
       "</table>\n"
      ],
      "text/latex": [
       "A matrix: 4 × 2 of type int\n",
       "\\begin{tabular}{ll}\n",
       "\t 33 & 82\\\\\n",
       "\t 50 & 73\\\\\n",
       "\t  6 & 47\\\\\n",
       "\t 43 & 68\\\\\n",
       "\\end{tabular}\n"
      ],
      "text/markdown": [
       "\n",
       "A matrix: 4 × 2 of type int\n",
       "\n",
       "| 33 | 82 |\n",
       "| 50 | 73 |\n",
       "|  6 | 47 |\n",
       "| 43 | 68 |\n",
       "\n"
      ],
      "text/plain": [
       "     [,1] [,2]\n",
       "[1,] 33   82  \n",
       "[2,] 50   73  \n",
       "[3,]  6   47  \n",
       "[4,] 43   68  "
      ]
     },
     "metadata": {},
     "output_type": "display_data"
    }
   ],
   "source": [
    "# select all rows of the 2nd AND 5th columns\n",
    "mat1[,c(2,4)]"
   ]
  },
  {
   "cell_type": "markdown",
   "id": "1ecf3d13",
   "metadata": {},
   "source": [
    "# Linear algebra operations\n",
    "Let’s say we had a 3-by-3 numeric matrix mat. \n",
    "The following code demonstrates performing different linear algebra operations on mat:"
   ]
  },
  {
   "cell_type": "code",
   "execution_count": 48,
   "id": "9456157c",
   "metadata": {},
   "outputs": [
    {
     "data": {
      "text/html": [
       "<table class=\"dataframe\">\n",
       "<caption>A matrix: 4 × 4 of type int</caption>\n",
       "<tbody>\n",
       "\t<tr><td>94</td><td>17</td><td>40</td><td>39</td></tr>\n",
       "\t<tr><td>33</td><td>50</td><td> 6</td><td>43</td></tr>\n",
       "\t<tr><td>66</td><td>21</td><td>87</td><td>11</td></tr>\n",
       "\t<tr><td>82</td><td>73</td><td>47</td><td>68</td></tr>\n",
       "</tbody>\n",
       "</table>\n"
      ],
      "text/latex": [
       "A matrix: 4 × 4 of type int\n",
       "\\begin{tabular}{llll}\n",
       "\t 94 & 17 & 40 & 39\\\\\n",
       "\t 33 & 50 &  6 & 43\\\\\n",
       "\t 66 & 21 & 87 & 11\\\\\n",
       "\t 82 & 73 & 47 & 68\\\\\n",
       "\\end{tabular}\n"
      ],
      "text/markdown": [
       "\n",
       "A matrix: 4 × 4 of type int\n",
       "\n",
       "| 94 | 17 | 40 | 39 |\n",
       "| 33 | 50 |  6 | 43 |\n",
       "| 66 | 21 | 87 | 11 |\n",
       "| 82 | 73 | 47 | 68 |\n",
       "\n"
      ],
      "text/plain": [
       "     [,1] [,2] [,3] [,4]\n",
       "[1,] 94   17   40   39  \n",
       "[2,] 33   50    6   43  \n",
       "[3,] 66   21   87   11  \n",
       "[4,] 82   73   47   68  "
      ]
     },
     "metadata": {},
     "output_type": "display_data"
    },
    {
     "data": {
      "text/html": [
       "<table class=\"dataframe\">\n",
       "<caption>A matrix: 4 × 4 of type dbl</caption>\n",
       "<tbody>\n",
       "\t<tr><td> 0.03861558</td><td> 0.01816827</td><td>-0.02775156</td><td>-0.0468888</td></tr>\n",
       "\t<tr><td> 0.15470240</td><td> 0.22466518</td><td>-0.12876061</td><td>-0.3387413</td></tr>\n",
       "\t<tr><td> 0.03987460</td><td> 0.06413589</td><td>-0.02131418</td><td>-0.1022040</td></tr>\n",
       "\t<tr><td>-0.12642400</td><td>-0.16286265</td><td> 0.10078637</td><td> 0.2723350</td></tr>\n",
       "</tbody>\n",
       "</table>\n"
      ],
      "text/latex": [
       "A matrix: 4 × 4 of type dbl\n",
       "\\begin{tabular}{llll}\n",
       "\t  0.03861558 &  0.01816827 & -0.02775156 & -0.0468888\\\\\n",
       "\t  0.15470240 &  0.22466518 & -0.12876061 & -0.3387413\\\\\n",
       "\t  0.03987460 &  0.06413589 & -0.02131418 & -0.1022040\\\\\n",
       "\t -0.12642400 & -0.16286265 &  0.10078637 &  0.2723350\\\\\n",
       "\\end{tabular}\n"
      ],
      "text/markdown": [
       "\n",
       "A matrix: 4 × 4 of type dbl\n",
       "\n",
       "|  0.03861558 |  0.01816827 | -0.02775156 | -0.0468888 |\n",
       "|  0.15470240 |  0.22466518 | -0.12876061 | -0.3387413 |\n",
       "|  0.03987460 |  0.06413589 | -0.02131418 | -0.1022040 |\n",
       "| -0.12642400 | -0.16286265 |  0.10078637 |  0.2723350 |\n",
       "\n"
      ],
      "text/plain": [
       "     [,1]        [,2]        [,3]        [,4]      \n",
       "[1,]  0.03861558  0.01816827 -0.02775156 -0.0468888\n",
       "[2,]  0.15470240  0.22466518 -0.12876061 -0.3387413\n",
       "[3,]  0.03987460  0.06413589 -0.02131418 -0.1022040\n",
       "[4,] -0.12642400 -0.16286265  0.10078637  0.2723350"
      ]
     },
     "metadata": {},
     "output_type": "display_data"
    },
    {
     "data": {
      "text/html": [
       "<table class=\"dataframe\">\n",
       "<caption>A matrix: 4 × 4 of type dbl</caption>\n",
       "<tbody>\n",
       "\t<tr><td>21005</td><td>10620</td><td>13554</td><td>11387</td></tr>\n",
       "\t<tr><td>10620</td><td> 8559</td><td> 6238</td><td> 8008</td></tr>\n",
       "\t<tr><td>13554</td><td> 6238</td><td>11414</td><td> 5971</td></tr>\n",
       "\t<tr><td>11387</td><td> 8008</td><td> 5971</td><td> 8115</td></tr>\n",
       "</tbody>\n",
       "</table>\n"
      ],
      "text/latex": [
       "A matrix: 4 × 4 of type dbl\n",
       "\\begin{tabular}{llll}\n",
       "\t 21005 & 10620 & 13554 & 11387\\\\\n",
       "\t 10620 &  8559 &  6238 &  8008\\\\\n",
       "\t 13554 &  6238 & 11414 &  5971\\\\\n",
       "\t 11387 &  8008 &  5971 &  8115\\\\\n",
       "\\end{tabular}\n"
      ],
      "text/markdown": [
       "\n",
       "A matrix: 4 × 4 of type dbl\n",
       "\n",
       "| 21005 | 10620 | 13554 | 11387 |\n",
       "| 10620 |  8559 |  6238 |  8008 |\n",
       "| 13554 |  6238 | 11414 |  5971 |\n",
       "| 11387 |  8008 |  5971 |  8115 |\n",
       "\n"
      ],
      "text/plain": [
       "     [,1]  [,2]  [,3]  [,4] \n",
       "[1,] 21005 10620 13554 11387\n",
       "[2,] 10620  8559  6238  8008\n",
       "[3,] 13554  6238 11414  5971\n",
       "[4,] 11387  8008  5971  8115"
      ]
     },
     "metadata": {},
     "output_type": "display_data"
    }
   ],
   "source": [
    "## Transpose\n",
    "t(mat1)\n",
    " \n",
    "## Inverse\n",
    "solve(mat1)\n",
    " \n",
    "## Matrix multiplication\n",
    "mat1 %*% t(mat1)\n",
    " \n",
    "## Eigenvalues and Eigenvectors\n",
    "eig <- eigen(mat1)\n",
    "   # eig$val are the eigenvalues\n",
    "   # eig$vec are the eigenvectors"
   ]
  },
  {
   "cell_type": "code",
   "execution_count": 43,
   "id": "44c79d54",
   "metadata": {},
   "outputs": [
    {
     "data": {
      "text/html": [
       "<table class=\"dataframe\">\n",
       "<caption>A matrix: 4 × 3 of type dbl</caption>\n",
       "<tbody>\n",
       "\t<tr><td>0</td><td>0</td><td>0</td></tr>\n",
       "\t<tr><td>1</td><td>0</td><td>0</td></tr>\n",
       "\t<tr><td>0</td><td>1</td><td>0</td></tr>\n",
       "\t<tr><td>0</td><td>0</td><td>1</td></tr>\n",
       "</tbody>\n",
       "</table>\n"
      ],
      "text/latex": [
       "A matrix: 4 × 3 of type dbl\n",
       "\\begin{tabular}{lll}\n",
       "\t 0 & 0 & 0\\\\\n",
       "\t 1 & 0 & 0\\\\\n",
       "\t 0 & 1 & 0\\\\\n",
       "\t 0 & 0 & 1\\\\\n",
       "\\end{tabular}\n"
      ],
      "text/markdown": [
       "\n",
       "A matrix: 4 × 3 of type dbl\n",
       "\n",
       "| 0 | 0 | 0 |\n",
       "| 1 | 0 | 0 |\n",
       "| 0 | 1 | 0 |\n",
       "| 0 | 0 | 1 |\n",
       "\n"
      ],
      "text/plain": [
       "     [,1] [,2] [,3]\n",
       "[1,] 0    0    0   \n",
       "[2,] 1    0    0   \n",
       "[3,] 0    1    0   \n",
       "[4,] 0    0    1   "
      ]
     },
     "metadata": {},
     "output_type": "display_data"
    }
   ],
   "source": [
    "# All the rows but only column 2,3, and 4  \n",
    "mat2[, 2:4]"
   ]
  },
  {
   "cell_type": "code",
   "execution_count": 45,
   "id": "90ad2706",
   "metadata": {
    "scrolled": false
   },
   "outputs": [
    {
     "data": {
      "text/html": [
       "<table class=\"dataframe\">\n",
       "<caption>A matrix: 4 × 4 of type dbl</caption>\n",
       "<tbody>\n",
       "\t<tr><td>1</td><td>0</td><td>0</td><td>0</td></tr>\n",
       "\t<tr><td>0</td><td>1</td><td>0</td><td>0</td></tr>\n",
       "\t<tr><td>0</td><td>0</td><td>1</td><td>0</td></tr>\n",
       "\t<tr><td>0</td><td>0</td><td>0</td><td>1</td></tr>\n",
       "</tbody>\n",
       "</table>\n"
      ],
      "text/latex": [
       "A matrix: 4 × 4 of type dbl\n",
       "\\begin{tabular}{llll}\n",
       "\t 1 & 0 & 0 & 0\\\\\n",
       "\t 0 & 1 & 0 & 0\\\\\n",
       "\t 0 & 0 & 1 & 0\\\\\n",
       "\t 0 & 0 & 0 & 1\\\\\n",
       "\\end{tabular}\n"
      ],
      "text/markdown": [
       "\n",
       "A matrix: 4 × 4 of type dbl\n",
       "\n",
       "| 1 | 0 | 0 | 0 |\n",
       "| 0 | 1 | 0 | 0 |\n",
       "| 0 | 0 | 1 | 0 |\n",
       "| 0 | 0 | 0 | 1 |\n",
       "\n"
      ],
      "text/plain": [
       "     [,1] [,2] [,3] [,4]\n",
       "[1,] 1    0    0    0   \n",
       "[2,] 0    1    0    0   \n",
       "[3,] 0    0    1    0   \n",
       "[4,] 0    0    0    1   "
      ]
     },
     "metadata": {},
     "output_type": "display_data"
    }
   ],
   "source": [
    "t(mat2)"
   ]
  },
  {
   "cell_type": "code",
   "execution_count": 3,
   "id": "3097e1ee",
   "metadata": {},
   "outputs": [
    {
     "data": {
      "text/html": [
       "<table class=\"dataframe\">\n",
       "<caption>A matrix: 3 × 3 of type dbl</caption>\n",
       "<tbody>\n",
       "\t<tr><td>1</td><td>0</td><td>0</td></tr>\n",
       "\t<tr><td>0</td><td>1</td><td>0</td></tr>\n",
       "\t<tr><td>0</td><td>0</td><td>1</td></tr>\n",
       "</tbody>\n",
       "</table>\n"
      ],
      "text/latex": [
       "A matrix: 3 × 3 of type dbl\n",
       "\\begin{tabular}{lll}\n",
       "\t 1 & 0 & 0\\\\\n",
       "\t 0 & 1 & 0\\\\\n",
       "\t 0 & 0 & 1\\\\\n",
       "\\end{tabular}\n"
      ],
      "text/markdown": [
       "\n",
       "A matrix: 3 × 3 of type dbl\n",
       "\n",
       "| 1 | 0 | 0 |\n",
       "| 0 | 1 | 0 |\n",
       "| 0 | 0 | 1 |\n",
       "\n"
      ],
      "text/plain": [
       "     [,1] [,2] [,3]\n",
       "[1,] 1    0    0   \n",
       "[2,] 0    1    0   \n",
       "[3,] 0    0    1   "
      ]
     },
     "metadata": {},
     "output_type": "display_data"
    },
    {
     "data": {
      "text/html": [
       "<table class=\"dataframe\">\n",
       "<caption>A matrix: 3 × 3 of type dbl</caption>\n",
       "<tbody>\n",
       "\t<tr><td>4</td><td>0</td><td>0</td></tr>\n",
       "\t<tr><td>0</td><td>3</td><td>0</td></tr>\n",
       "\t<tr><td>0</td><td>0</td><td>2</td></tr>\n",
       "</tbody>\n",
       "</table>\n"
      ],
      "text/latex": [
       "A matrix: 3 × 3 of type dbl\n",
       "\\begin{tabular}{lll}\n",
       "\t 4 & 0 & 0\\\\\n",
       "\t 0 & 3 & 0\\\\\n",
       "\t 0 & 0 & 2\\\\\n",
       "\\end{tabular}\n"
      ],
      "text/markdown": [
       "\n",
       "A matrix: 3 × 3 of type dbl\n",
       "\n",
       "| 4 | 0 | 0 |\n",
       "| 0 | 3 | 0 |\n",
       "| 0 | 0 | 2 |\n",
       "\n"
      ],
      "text/plain": [
       "     [,1] [,2] [,3]\n",
       "[1,] 4    0    0   \n",
       "[2,] 0    3    0   \n",
       "[3,] 0    0    2   "
      ]
     },
     "metadata": {},
     "output_type": "display_data"
    }
   ],
   "source": [
    "# We can create an identity matrix using the diag(x) function where x is the number of elements along the diagonal. \n",
    "# x could also be a vector, and the resulting matrix would contain the values of the vector along the diagonal.\n",
    "# Identity matrix of size 3\n",
    "diag(3)\n",
    " \n",
    "# Diagonal matrix\n",
    "diag(c(4,3,2))"
   ]
  },
  {
   "cell_type": "markdown",
   "id": "aa8f2991",
   "metadata": {},
   "source": [
    "Here are two matrices (mat1 and mat2) for us to practice some of these methods. Some things we can try are:\n",
    "\n",
    "* print a matrix\n",
    "* check the dimensions of the matrix\n",
    "* subset to certain rows or columns\n",
    "* replace parts of a matrix\n",
    "* logical operations\n",
    "* mathematical operations\n",
    "\n",
    "Feel free to try out making new matrices as well. Try to get comfortable working with matrices!"
   ]
  },
  {
   "cell_type": "code",
   "execution_count": 4,
   "id": "c393f1e2",
   "metadata": {},
   "outputs": [],
   "source": [
    "# Create matrices\n",
    "mat1 <- matrix(sample(1:100, 16, replace = TRUE), nrow = 4, ncol = 4) \n",
    "mat2 <- diag(4)"
   ]
  },
  {
   "cell_type": "code",
   "execution_count": 5,
   "id": "3dd1dbb2",
   "metadata": {},
   "outputs": [
    {
     "data": {
      "text/html": [
       "<style>\n",
       ".list-inline {list-style: none; margin:0; padding: 0}\n",
       ".list-inline>li {display: inline-block}\n",
       ".list-inline>li:not(:last-child)::after {content: \"\\00b7\"; padding: 0 .5ex}\n",
       "</style>\n",
       "<ol class=list-inline><li>4</li><li>4</li></ol>\n"
      ],
      "text/latex": [
       "\\begin{enumerate*}\n",
       "\\item 4\n",
       "\\item 4\n",
       "\\end{enumerate*}\n"
      ],
      "text/markdown": [
       "1. 4\n",
       "2. 4\n",
       "\n",
       "\n"
      ],
      "text/plain": [
       "[1] 4 4"
      ]
     },
     "metadata": {},
     "output_type": "display_data"
    }
   ],
   "source": [
    "\n",
    "dim(mat1)\n"
   ]
  },
  {
   "cell_type": "code",
   "execution_count": 6,
   "id": "8d873f10",
   "metadata": {},
   "outputs": [
    {
     "data": {
      "text/html": [
       "<table class=\"dataframe\">\n",
       "<caption>A matrix: 4 × 4 of type dbl</caption>\n",
       "<tbody>\n",
       "\t<tr><td>1</td><td>0</td><td>0</td><td>0</td></tr>\n",
       "\t<tr><td>0</td><td>1</td><td>0</td><td>0</td></tr>\n",
       "\t<tr><td>0</td><td>0</td><td>1</td><td>0</td></tr>\n",
       "\t<tr><td>0</td><td>0</td><td>0</td><td>1</td></tr>\n",
       "</tbody>\n",
       "</table>\n"
      ],
      "text/latex": [
       "A matrix: 4 × 4 of type dbl\n",
       "\\begin{tabular}{llll}\n",
       "\t 1 & 0 & 0 & 0\\\\\n",
       "\t 0 & 1 & 0 & 0\\\\\n",
       "\t 0 & 0 & 1 & 0\\\\\n",
       "\t 0 & 0 & 0 & 1\\\\\n",
       "\\end{tabular}\n"
      ],
      "text/markdown": [
       "\n",
       "A matrix: 4 × 4 of type dbl\n",
       "\n",
       "| 1 | 0 | 0 | 0 |\n",
       "| 0 | 1 | 0 | 0 |\n",
       "| 0 | 0 | 1 | 0 |\n",
       "| 0 | 0 | 0 | 1 |\n",
       "\n"
      ],
      "text/plain": [
       "     [,1] [,2] [,3] [,4]\n",
       "[1,] 1    0    0    0   \n",
       "[2,] 0    1    0    0   \n",
       "[3,] 0    0    1    0   \n",
       "[4,] 0    0    0    1   "
      ]
     },
     "metadata": {},
     "output_type": "display_data"
    }
   ],
   "source": [
    "mat2"
   ]
  },
  {
   "cell_type": "markdown",
   "id": "badfb00c",
   "metadata": {},
   "source": [
    "# Subsetting within a matrix\n",
    "Matrices are indexed using brackets with a comma [x,y], where x refers to the rows selected and y refers to the columns selected. For example, test[4,6] will call the value that is in the 4th row and the 6th column of the test matrix.\n",
    "\n",
    "We can select multiple rows or columns using the following:"
   ]
  },
  {
   "cell_type": "code",
   "execution_count": 7,
   "id": "2efbda5e",
   "metadata": {},
   "outputs": [
    {
     "data": {
      "text/html": [
       "<table class=\"dataframe\">\n",
       "<caption>A matrix: 3 × 3 of type int</caption>\n",
       "<tbody>\n",
       "\t<tr><td> 71</td><td>27</td><td>12</td></tr>\n",
       "\t<tr><td> 87</td><td>67</td><td>93</td></tr>\n",
       "\t<tr><td>100</td><td>45</td><td>93</td></tr>\n",
       "</tbody>\n",
       "</table>\n"
      ],
      "text/latex": [
       "A matrix: 3 × 3 of type int\n",
       "\\begin{tabular}{lll}\n",
       "\t  71 & 27 & 12\\\\\n",
       "\t  87 & 67 & 93\\\\\n",
       "\t 100 & 45 & 93\\\\\n",
       "\\end{tabular}\n"
      ],
      "text/markdown": [
       "\n",
       "A matrix: 3 × 3 of type int\n",
       "\n",
       "|  71 | 27 | 12 |\n",
       "|  87 | 67 | 93 |\n",
       "| 100 | 45 | 93 |\n",
       "\n"
      ],
      "text/plain": [
       "     [,1] [,2] [,3]\n",
       "[1,]  71  27   12  \n",
       "[2,]  87  67   93  \n",
       "[3,] 100  45   93  "
      ]
     },
     "metadata": {},
     "output_type": "display_data"
    },
    {
     "data": {
      "text/html": [
       "<table class=\"dataframe\">\n",
       "<caption>A matrix: 3 × 4 of type int</caption>\n",
       "<tbody>\n",
       "\t<tr><td> 71</td><td>27</td><td>12</td><td>87</td></tr>\n",
       "\t<tr><td> 87</td><td>67</td><td>93</td><td>90</td></tr>\n",
       "\t<tr><td>100</td><td>45</td><td>93</td><td>14</td></tr>\n",
       "</tbody>\n",
       "</table>\n"
      ],
      "text/latex": [
       "A matrix: 3 × 4 of type int\n",
       "\\begin{tabular}{llll}\n",
       "\t  71 & 27 & 12 & 87\\\\\n",
       "\t  87 & 67 & 93 & 90\\\\\n",
       "\t 100 & 45 & 93 & 14\\\\\n",
       "\\end{tabular}\n"
      ],
      "text/markdown": [
       "\n",
       "A matrix: 3 × 4 of type int\n",
       "\n",
       "|  71 | 27 | 12 | 87 |\n",
       "|  87 | 67 | 93 | 90 |\n",
       "| 100 | 45 | 93 | 14 |\n",
       "\n"
      ],
      "text/plain": [
       "     [,1] [,2] [,3] [,4]\n",
       "[1,]  71  27   12   87  \n",
       "[2,]  87  67   93   90  \n",
       "[3,] 100  45   93   14  "
      ]
     },
     "metadata": {},
     "output_type": "display_data"
    },
    {
     "data": {
      "text/html": [
       "<table class=\"dataframe\">\n",
       "<caption>A matrix: 2 × 3 of type int</caption>\n",
       "<tbody>\n",
       "\t<tr><td> 71</td><td>27</td><td>12</td></tr>\n",
       "\t<tr><td>100</td><td>45</td><td>93</td></tr>\n",
       "</tbody>\n",
       "</table>\n"
      ],
      "text/latex": [
       "A matrix: 2 × 3 of type int\n",
       "\\begin{tabular}{lll}\n",
       "\t  71 & 27 & 12\\\\\n",
       "\t 100 & 45 & 93\\\\\n",
       "\\end{tabular}\n"
      ],
      "text/markdown": [
       "\n",
       "A matrix: 2 × 3 of type int\n",
       "\n",
       "|  71 | 27 | 12 |\n",
       "| 100 | 45 | 93 |\n",
       "\n"
      ],
      "text/plain": [
       "     [,1] [,2] [,3]\n",
       "[1,]  71  27   12  \n",
       "[2,] 100  45   93  "
      ]
     },
     "metadata": {},
     "output_type": "display_data"
    },
    {
     "data": {
      "text/html": [
       "<table class=\"dataframe\">\n",
       "<caption>A matrix: 4 × 2 of type int</caption>\n",
       "<tbody>\n",
       "\t<tr><td>44</td><td>18</td></tr>\n",
       "\t<tr><td>27</td><td>87</td></tr>\n",
       "\t<tr><td>67</td><td>90</td></tr>\n",
       "\t<tr><td>45</td><td>14</td></tr>\n",
       "</tbody>\n",
       "</table>\n"
      ],
      "text/latex": [
       "A matrix: 4 × 2 of type int\n",
       "\\begin{tabular}{ll}\n",
       "\t 44 & 18\\\\\n",
       "\t 27 & 87\\\\\n",
       "\t 67 & 90\\\\\n",
       "\t 45 & 14\\\\\n",
       "\\end{tabular}\n"
      ],
      "text/markdown": [
       "\n",
       "A matrix: 4 × 2 of type int\n",
       "\n",
       "| 44 | 18 |\n",
       "| 27 | 87 |\n",
       "| 67 | 90 |\n",
       "| 45 | 14 |\n",
       "\n"
      ],
      "text/plain": [
       "     [,1] [,2]\n",
       "[1,] 44   18  \n",
       "[2,] 27   87  \n",
       "[3,] 67   90  \n",
       "[4,] 45   14  "
      ]
     },
     "metadata": {},
     "output_type": "display_data"
    }
   ],
   "source": [
    "# select the 4th through 6th rows and the 1st through 3rd columns\n",
    "mat1[2:4,1:3]\n",
    "\n",
    "# select the 4th through 6th rows and ALL of the columns of the matrix\n",
    "mat1[2:4,]\n",
    "\n",
    "# select the 4th AND 6th rows (skipping the 5th) and the 1st through 3rd columns\n",
    "mat1[c(2,4),1:3]\n",
    "\n",
    "# select all rows of the 2nd AND 5th columns\n",
    "mat1[,c(2,4)]"
   ]
  },
  {
   "cell_type": "markdown",
   "id": "789ed259",
   "metadata": {},
   "source": [
    "# Linear algebra operations\n",
    "Let’s say we had a 3-by-3 numeric matrix mat. \n",
    "The following code demonstrates performing different linear algebra operations on mat:"
   ]
  },
  {
   "cell_type": "code",
   "execution_count": 9,
   "id": "a9a75a06",
   "metadata": {},
   "outputs": [
    {
     "data": {
      "text/html": [
       "<table class=\"dataframe\">\n",
       "<caption>A matrix: 4 × 4 of type int</caption>\n",
       "<tbody>\n",
       "\t<tr><td>81</td><td>71</td><td>87</td><td>100</td></tr>\n",
       "\t<tr><td>44</td><td>27</td><td>67</td><td> 45</td></tr>\n",
       "\t<tr><td>17</td><td>12</td><td>93</td><td> 93</td></tr>\n",
       "\t<tr><td>18</td><td>87</td><td>90</td><td> 14</td></tr>\n",
       "</tbody>\n",
       "</table>\n"
      ],
      "text/latex": [
       "A matrix: 4 × 4 of type int\n",
       "\\begin{tabular}{llll}\n",
       "\t 81 & 71 & 87 & 100\\\\\n",
       "\t 44 & 27 & 67 &  45\\\\\n",
       "\t 17 & 12 & 93 &  93\\\\\n",
       "\t 18 & 87 & 90 &  14\\\\\n",
       "\\end{tabular}\n"
      ],
      "text/markdown": [
       "\n",
       "A matrix: 4 × 4 of type int\n",
       "\n",
       "| 81 | 71 | 87 | 100 |\n",
       "| 44 | 27 | 67 |  45 |\n",
       "| 17 | 12 | 93 |  93 |\n",
       "| 18 | 87 | 90 |  14 |\n",
       "\n"
      ],
      "text/plain": [
       "     [,1] [,2] [,3] [,4]\n",
       "[1,] 81   71   87   100 \n",
       "[2,] 44   27   67    45 \n",
       "[3,] 17   12   93    93 \n",
       "[4,] 18   87   90    14 "
      ]
     },
     "metadata": {},
     "output_type": "display_data"
    },
    {
     "data": {
      "text/html": [
       "<table class=\"dataframe\">\n",
       "<caption>A matrix: 4 × 4 of type dbl</caption>\n",
       "<tbody>\n",
       "\t<tr><td> 0.001386247</td><td> 0.012514115</td><td>-0.014309562</td><td> 0.012441437</td></tr>\n",
       "\t<tr><td> 0.029049929</td><td>-0.026128630</td><td> 0.023387300</td><td>-0.025326066</td></tr>\n",
       "\t<tr><td>-0.014316801</td><td>-0.002273988</td><td> 0.003477042</td><td> 0.010186114</td></tr>\n",
       "\t<tr><td>-0.008172069</td><td> 0.009704123</td><td> 0.003940199</td><td>-0.003698524</td></tr>\n",
       "</tbody>\n",
       "</table>\n"
      ],
      "text/latex": [
       "A matrix: 4 × 4 of type dbl\n",
       "\\begin{tabular}{llll}\n",
       "\t  0.001386247 &  0.012514115 & -0.014309562 &  0.012441437\\\\\n",
       "\t  0.029049929 & -0.026128630 &  0.023387300 & -0.025326066\\\\\n",
       "\t -0.014316801 & -0.002273988 &  0.003477042 &  0.010186114\\\\\n",
       "\t -0.008172069 &  0.009704123 &  0.003940199 & -0.003698524\\\\\n",
       "\\end{tabular}\n"
      ],
      "text/markdown": [
       "\n",
       "A matrix: 4 × 4 of type dbl\n",
       "\n",
       "|  0.001386247 |  0.012514115 | -0.014309562 |  0.012441437 |\n",
       "|  0.029049929 | -0.026128630 |  0.023387300 | -0.025326066 |\n",
       "| -0.014316801 | -0.002273988 |  0.003477042 |  0.010186114 |\n",
       "| -0.008172069 |  0.009704123 |  0.003940199 | -0.003698524 |\n",
       "\n"
      ],
      "text/plain": [
       "     [,1]         [,2]         [,3]         [,4]        \n",
       "[1,]  0.001386247  0.012514115 -0.014309562  0.012441437\n",
       "[2,]  0.029049929 -0.026128630  0.023387300 -0.025326066\n",
       "[3,] -0.014316801 -0.002273988  0.003477042  0.010186114\n",
       "[4,] -0.008172069  0.009704123  0.003940199 -0.003698524"
      ]
     },
     "metadata": {},
     "output_type": "display_data"
    },
    {
     "data": {
      "text/html": [
       "<table class=\"dataframe\">\n",
       "<caption>A matrix: 4 × 4 of type dbl</caption>\n",
       "<tbody>\n",
       "\t<tr><td> 9110</td><td> 8709</td><td>13196</td><td>11913</td></tr>\n",
       "\t<tr><td> 8709</td><td>13483</td><td>16932</td><td>10649</td></tr>\n",
       "\t<tr><td>13196</td><td>16932</td><td>28807</td><td>21624</td></tr>\n",
       "\t<tr><td>11913</td><td>10649</td><td>21624</td><td>20870</td></tr>\n",
       "</tbody>\n",
       "</table>\n"
      ],
      "text/latex": [
       "A matrix: 4 × 4 of type dbl\n",
       "\\begin{tabular}{llll}\n",
       "\t  9110 &  8709 & 13196 & 11913\\\\\n",
       "\t  8709 & 13483 & 16932 & 10649\\\\\n",
       "\t 13196 & 16932 & 28807 & 21624\\\\\n",
       "\t 11913 & 10649 & 21624 & 20870\\\\\n",
       "\\end{tabular}\n"
      ],
      "text/markdown": [
       "\n",
       "A matrix: 4 × 4 of type dbl\n",
       "\n",
       "|  9110 |  8709 | 13196 | 11913 |\n",
       "|  8709 | 13483 | 16932 | 10649 |\n",
       "| 13196 | 16932 | 28807 | 21624 |\n",
       "| 11913 | 10649 | 21624 | 20870 |\n",
       "\n"
      ],
      "text/plain": [
       "     [,1]  [,2]  [,3]  [,4] \n",
       "[1,]  9110  8709 13196 11913\n",
       "[2,]  8709 13483 16932 10649\n",
       "[3,] 13196 16932 28807 21624\n",
       "[4,] 11913 10649 21624 20870"
      ]
     },
     "metadata": {},
     "output_type": "display_data"
    },
    {
     "data": {
      "text/html": [
       "<table class=\"dataframe\">\n",
       "<caption>A matrix: 4 × 3 of type dbl</caption>\n",
       "<tbody>\n",
       "\t<tr><td>0</td><td>0</td><td>0</td></tr>\n",
       "\t<tr><td>1</td><td>0</td><td>0</td></tr>\n",
       "\t<tr><td>0</td><td>1</td><td>0</td></tr>\n",
       "\t<tr><td>0</td><td>0</td><td>1</td></tr>\n",
       "</tbody>\n",
       "</table>\n"
      ],
      "text/latex": [
       "A matrix: 4 × 3 of type dbl\n",
       "\\begin{tabular}{lll}\n",
       "\t 0 & 0 & 0\\\\\n",
       "\t 1 & 0 & 0\\\\\n",
       "\t 0 & 1 & 0\\\\\n",
       "\t 0 & 0 & 1\\\\\n",
       "\\end{tabular}\n"
      ],
      "text/markdown": [
       "\n",
       "A matrix: 4 × 3 of type dbl\n",
       "\n",
       "| 0 | 0 | 0 |\n",
       "| 1 | 0 | 0 |\n",
       "| 0 | 1 | 0 |\n",
       "| 0 | 0 | 1 |\n",
       "\n"
      ],
      "text/plain": [
       "     [,1] [,2] [,3]\n",
       "[1,] 0    0    0   \n",
       "[2,] 1    0    0   \n",
       "[3,] 0    1    0   \n",
       "[4,] 0    0    1   "
      ]
     },
     "metadata": {},
     "output_type": "display_data"
    },
    {
     "data": {
      "text/html": [
       "<table class=\"dataframe\">\n",
       "<caption>A matrix: 4 × 4 of type dbl</caption>\n",
       "<tbody>\n",
       "\t<tr><td>1</td><td>0</td><td>0</td><td>0</td></tr>\n",
       "\t<tr><td>0</td><td>1</td><td>0</td><td>0</td></tr>\n",
       "\t<tr><td>0</td><td>0</td><td>1</td><td>0</td></tr>\n",
       "\t<tr><td>0</td><td>0</td><td>0</td><td>1</td></tr>\n",
       "</tbody>\n",
       "</table>\n"
      ],
      "text/latex": [
       "A matrix: 4 × 4 of type dbl\n",
       "\\begin{tabular}{llll}\n",
       "\t 1 & 0 & 0 & 0\\\\\n",
       "\t 0 & 1 & 0 & 0\\\\\n",
       "\t 0 & 0 & 1 & 0\\\\\n",
       "\t 0 & 0 & 0 & 1\\\\\n",
       "\\end{tabular}\n"
      ],
      "text/markdown": [
       "\n",
       "A matrix: 4 × 4 of type dbl\n",
       "\n",
       "| 1 | 0 | 0 | 0 |\n",
       "| 0 | 1 | 0 | 0 |\n",
       "| 0 | 0 | 1 | 0 |\n",
       "| 0 | 0 | 0 | 1 |\n",
       "\n"
      ],
      "text/plain": [
       "     [,1] [,2] [,3] [,4]\n",
       "[1,] 1    0    0    0   \n",
       "[2,] 0    1    0    0   \n",
       "[3,] 0    0    1    0   \n",
       "[4,] 0    0    0    1   "
      ]
     },
     "metadata": {},
     "output_type": "display_data"
    }
   ],
   "source": [
    "## Transpose\n",
    "t(mat1)\n",
    " \n",
    "## Inverse\n",
    "solve(mat1)\n",
    " \n",
    "## Matrix multiplication\n",
    "mat1 %*% t(mat1)\n",
    " \n",
    "## Eigenvalues and Eigenvectors\n",
    "eig <- eigen(mat1)\n",
    "   # eig$val are the eigenvalues\n",
    "   # eig$vec are the eigenvectors\n",
    "\n",
    "# All the rows but only column 2,3, and 4  \n",
    "mat2[, 2:4]\n",
    "\n",
    "t(mat2)"
   ]
  },
  {
   "cell_type": "code",
   "execution_count": null,
   "id": "6bd49de6",
   "metadata": {},
   "outputs": [],
   "source": []
  },
  {
   "cell_type": "code",
   "execution_count": null,
   "id": "2f7cdd09",
   "metadata": {},
   "outputs": [],
   "source": []
  }
 ],
 "metadata": {
  "kernelspec": {
   "display_name": "R",
   "language": "R",
   "name": "ir"
  },
  "language_info": {
   "codemirror_mode": "r",
   "file_extension": ".r",
   "mimetype": "text/x-r-source",
   "name": "R",
   "pygments_lexer": "r",
   "version": "4.3.1"
  }
 },
 "nbformat": 4,
 "nbformat_minor": 5
}
