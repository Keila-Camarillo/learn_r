{
 "cells": [
  {
   "cell_type": "markdown",
   "id": "7e3ef878",
   "metadata": {},
   "source": [
    "## Averages "
   ]
  },
  {
   "cell_type": "code",
   "execution_count": 2,
   "id": "d80c842d",
   "metadata": {},
   "outputs": [],
   "source": [
    "# Create Matrix\n",
    "data_vector <- c(2, 6, 5, 6, 7, 6, 1, 3, 6, 5,\n",
    "                 6, 5, 4, 8, 4, 7, 4, 4, 3, 3,\n",
    "                 4, 4, 3, 1, 3, 7, 5, 8, 7, 2)\n",
    "\n",
    "# Create a matrix with 3 rows and 10 columns\n",
    "# Change the nrow and ncol arguments to match your desired dimensions\n",
    "sales <- matrix(data_vector, nrow = 3, ncol = 10, byrow = TRUE)"
   ]
  },
  {
   "cell_type": "code",
   "execution_count": 3,
   "id": "adcd8ac0",
   "metadata": {},
   "outputs": [
    {
     "data": {
      "text/html": [
       "4.63333333333333"
      ],
      "text/latex": [
       "4.63333333333333"
      ],
      "text/markdown": [
       "4.63333333333333"
      ],
      "text/plain": [
       "[1] 4.633333"
      ]
     },
     "metadata": {},
     "output_type": "display_data"
    }
   ],
   "source": [
    "# Calculate mean\n",
    "mean(sales)"
   ]
  },
  {
   "cell_type": "code",
   "execution_count": 4,
   "id": "64a01f1c",
   "metadata": {},
   "outputs": [
    {
     "data": {
      "text/html": [
       "4.5"
      ],
      "text/latex": [
       "4.5"
      ],
      "text/markdown": [
       "4.5"
      ],
      "text/plain": [
       "[1] 4.5"
      ]
     },
     "metadata": {},
     "output_type": "display_data"
    }
   ],
   "source": [
    "# Calculate median\n",
    "median(sales)"
   ]
  },
  {
   "cell_type": "markdown",
   "id": "432f4ddc",
   "metadata": {},
   "source": [
    "## Range and Spread"
   ]
  },
  {
   "cell_type": "code",
   "execution_count": 5,
   "id": "6854c26c",
   "metadata": {},
   "outputs": [
    {
     "data": {
      "text/html": [
       "1"
      ],
      "text/latex": [
       "1"
      ],
      "text/markdown": [
       "1"
      ],
      "text/plain": [
       "[1] 1"
      ]
     },
     "metadata": {},
     "output_type": "display_data"
    }
   ],
   "source": [
    "# Minimum value\n",
    "min(sales)"
   ]
  },
  {
   "cell_type": "code",
   "execution_count": 6,
   "id": "aa67645f",
   "metadata": {},
   "outputs": [
    {
     "data": {
      "text/html": [
       "8"
      ],
      "text/latex": [
       "8"
      ],
      "text/markdown": [
       "8"
      ],
      "text/plain": [
       "[1] 8"
      ]
     },
     "metadata": {},
     "output_type": "display_data"
    }
   ],
   "source": [
    "# Maximum value\n",
    "max(sales)"
   ]
  },
  {
   "cell_type": "code",
   "execution_count": 7,
   "id": "beee6ce9",
   "metadata": {},
   "outputs": [
    {
     "data": {
      "text/html": [
       "<style>\n",
       ".list-inline {list-style: none; margin:0; padding: 0}\n",
       ".list-inline>li {display: inline-block}\n",
       ".list-inline>li:not(:last-child)::after {content: \"\\00b7\"; padding: 0 .5ex}\n",
       "</style>\n",
       "<ol class=list-inline><li>1</li><li>8</li></ol>\n"
      ],
      "text/latex": [
       "\\begin{enumerate*}\n",
       "\\item 1\n",
       "\\item 8\n",
       "\\end{enumerate*}\n"
      ],
      "text/markdown": [
       "1. 1\n",
       "2. 8\n",
       "\n",
       "\n"
      ],
      "text/plain": [
       "[1] 1 8"
      ]
     },
     "metadata": {},
     "output_type": "display_data"
    }
   ],
   "source": [
    "# Range of values\n",
    "range(sales)"
   ]
  },
  {
   "cell_type": "markdown",
   "id": "d7c3e173",
   "metadata": {},
   "source": [
    "## Standard Deviation and variance"
   ]
  },
  {
   "cell_type": "code",
   "execution_count": 8,
   "id": "8a086b52",
   "metadata": {},
   "outputs": [
    {
     "data": {
      "text/html": [
       "1.95612800747016"
      ],
      "text/latex": [
       "1.95612800747016"
      ],
      "text/markdown": [
       "1.95612800747016"
      ],
      "text/plain": [
       "[1] 1.956128"
      ]
     },
     "metadata": {},
     "output_type": "display_data"
    }
   ],
   "source": [
    "# Standard deviation\n",
    "sd(sales)"
   ]
  },
  {
   "cell_type": "code",
   "execution_count": 9,
   "id": "0c04722f",
   "metadata": {},
   "outputs": [
    {
     "data": {
      "text/html": [
       "<table class=\"dataframe\">\n",
       "<caption>A matrix: 10 × 10 of type dbl</caption>\n",
       "<tbody>\n",
       "\t<tr><td> 4</td><td>-1.0</td><td>-1.0</td><td> 2.0</td><td>-3.0000000</td><td> 1.0000000</td><td> 3.0000000</td><td> 1.0</td><td>-3.0000000</td><td>-2.0000000</td></tr>\n",
       "\t<tr><td>-1</td><td> 1.0</td><td> 1.0</td><td> 2.5</td><td> 2.0000000</td><td>-0.5000000</td><td>-2.0000000</td><td>-2.5</td><td>-0.5000000</td><td> 1.5000000</td></tr>\n",
       "\t<tr><td>-1</td><td> 1.0</td><td> 1.0</td><td> 2.5</td><td> 2.0000000</td><td>-0.5000000</td><td>-2.0000000</td><td>-2.5</td><td>-0.5000000</td><td> 1.5000000</td></tr>\n",
       "\t<tr><td> 2</td><td> 2.5</td><td> 2.5</td><td>13.0</td><td> 3.5000000</td><td>-0.5000000</td><td>-3.5000000</td><td>-8.5</td><td>-6.5000000</td><td> 3.0000000</td></tr>\n",
       "\t<tr><td>-3</td><td> 2.0</td><td> 2.0</td><td> 3.5</td><td> 4.3333333</td><td>-1.1666667</td><td>-4.3333333</td><td>-4.5</td><td> 0.1666667</td><td> 3.1666667</td></tr>\n",
       "\t<tr><td> 1</td><td>-0.5</td><td>-0.5</td><td>-0.5</td><td>-1.1666667</td><td> 0.3333333</td><td> 1.1666667</td><td> 1.0</td><td>-0.3333333</td><td>-0.8333333</td></tr>\n",
       "\t<tr><td> 3</td><td>-2.0</td><td>-2.0</td><td>-3.5</td><td>-4.3333333</td><td> 1.1666667</td><td> 4.3333333</td><td> 4.5</td><td>-0.1666667</td><td>-3.1666667</td></tr>\n",
       "\t<tr><td> 1</td><td>-2.5</td><td>-2.5</td><td>-8.5</td><td>-4.5000000</td><td> 1.0000000</td><td> 4.5000000</td><td> 7.0</td><td> 3.0000000</td><td>-3.5000000</td></tr>\n",
       "\t<tr><td>-3</td><td>-0.5</td><td>-0.5</td><td>-6.5</td><td> 0.1666667</td><td>-0.3333333</td><td>-0.1666667</td><td> 3.0</td><td> 4.3333333</td><td>-0.1666667</td></tr>\n",
       "\t<tr><td>-2</td><td> 1.5</td><td> 1.5</td><td> 3.0</td><td> 3.1666667</td><td>-0.8333333</td><td>-3.1666667</td><td>-3.5</td><td>-0.1666667</td><td> 2.3333333</td></tr>\n",
       "</tbody>\n",
       "</table>\n"
      ],
      "text/latex": [
       "A matrix: 10 × 10 of type dbl\n",
       "\\begin{tabular}{llllllllll}\n",
       "\t  4 & -1.0 & -1.0 &  2.0 & -3.0000000 &  1.0000000 &  3.0000000 &  1.0 & -3.0000000 & -2.0000000\\\\\n",
       "\t -1 &  1.0 &  1.0 &  2.5 &  2.0000000 & -0.5000000 & -2.0000000 & -2.5 & -0.5000000 &  1.5000000\\\\\n",
       "\t -1 &  1.0 &  1.0 &  2.5 &  2.0000000 & -0.5000000 & -2.0000000 & -2.5 & -0.5000000 &  1.5000000\\\\\n",
       "\t  2 &  2.5 &  2.5 & 13.0 &  3.5000000 & -0.5000000 & -3.5000000 & -8.5 & -6.5000000 &  3.0000000\\\\\n",
       "\t -3 &  2.0 &  2.0 &  3.5 &  4.3333333 & -1.1666667 & -4.3333333 & -4.5 &  0.1666667 &  3.1666667\\\\\n",
       "\t  1 & -0.5 & -0.5 & -0.5 & -1.1666667 &  0.3333333 &  1.1666667 &  1.0 & -0.3333333 & -0.8333333\\\\\n",
       "\t  3 & -2.0 & -2.0 & -3.5 & -4.3333333 &  1.1666667 &  4.3333333 &  4.5 & -0.1666667 & -3.1666667\\\\\n",
       "\t  1 & -2.5 & -2.5 & -8.5 & -4.5000000 &  1.0000000 &  4.5000000 &  7.0 &  3.0000000 & -3.5000000\\\\\n",
       "\t -3 & -0.5 & -0.5 & -6.5 &  0.1666667 & -0.3333333 & -0.1666667 &  3.0 &  4.3333333 & -0.1666667\\\\\n",
       "\t -2 &  1.5 &  1.5 &  3.0 &  3.1666667 & -0.8333333 & -3.1666667 & -3.5 & -0.1666667 &  2.3333333\\\\\n",
       "\\end{tabular}\n"
      ],
      "text/markdown": [
       "\n",
       "A matrix: 10 × 10 of type dbl\n",
       "\n",
       "|  4 | -1.0 | -1.0 |  2.0 | -3.0000000 |  1.0000000 |  3.0000000 |  1.0 | -3.0000000 | -2.0000000 |\n",
       "| -1 |  1.0 |  1.0 |  2.5 |  2.0000000 | -0.5000000 | -2.0000000 | -2.5 | -0.5000000 |  1.5000000 |\n",
       "| -1 |  1.0 |  1.0 |  2.5 |  2.0000000 | -0.5000000 | -2.0000000 | -2.5 | -0.5000000 |  1.5000000 |\n",
       "|  2 |  2.5 |  2.5 | 13.0 |  3.5000000 | -0.5000000 | -3.5000000 | -8.5 | -6.5000000 |  3.0000000 |\n",
       "| -3 |  2.0 |  2.0 |  3.5 |  4.3333333 | -1.1666667 | -4.3333333 | -4.5 |  0.1666667 |  3.1666667 |\n",
       "|  1 | -0.5 | -0.5 | -0.5 | -1.1666667 |  0.3333333 |  1.1666667 |  1.0 | -0.3333333 | -0.8333333 |\n",
       "|  3 | -2.0 | -2.0 | -3.5 | -4.3333333 |  1.1666667 |  4.3333333 |  4.5 | -0.1666667 | -3.1666667 |\n",
       "|  1 | -2.5 | -2.5 | -8.5 | -4.5000000 |  1.0000000 |  4.5000000 |  7.0 |  3.0000000 | -3.5000000 |\n",
       "| -3 | -0.5 | -0.5 | -6.5 |  0.1666667 | -0.3333333 | -0.1666667 |  3.0 |  4.3333333 | -0.1666667 |\n",
       "| -2 |  1.5 |  1.5 |  3.0 |  3.1666667 | -0.8333333 | -3.1666667 | -3.5 | -0.1666667 |  2.3333333 |\n",
       "\n"
      ],
      "text/plain": [
       "      [,1] [,2] [,3] [,4] [,5]       [,6]       [,7]       [,8] [,9]      \n",
       " [1,]  4   -1.0 -1.0  2.0 -3.0000000  1.0000000  3.0000000  1.0 -3.0000000\n",
       " [2,] -1    1.0  1.0  2.5  2.0000000 -0.5000000 -2.0000000 -2.5 -0.5000000\n",
       " [3,] -1    1.0  1.0  2.5  2.0000000 -0.5000000 -2.0000000 -2.5 -0.5000000\n",
       " [4,]  2    2.5  2.5 13.0  3.5000000 -0.5000000 -3.5000000 -8.5 -6.5000000\n",
       " [5,] -3    2.0  2.0  3.5  4.3333333 -1.1666667 -4.3333333 -4.5  0.1666667\n",
       " [6,]  1   -0.5 -0.5 -0.5 -1.1666667  0.3333333  1.1666667  1.0 -0.3333333\n",
       " [7,]  3   -2.0 -2.0 -3.5 -4.3333333  1.1666667  4.3333333  4.5 -0.1666667\n",
       " [8,]  1   -2.5 -2.5 -8.5 -4.5000000  1.0000000  4.5000000  7.0  3.0000000\n",
       " [9,] -3   -0.5 -0.5 -6.5  0.1666667 -0.3333333 -0.1666667  3.0  4.3333333\n",
       "[10,] -2    1.5  1.5  3.0  3.1666667 -0.8333333 -3.1666667 -3.5 -0.1666667\n",
       "      [,10]     \n",
       " [1,] -2.0000000\n",
       " [2,]  1.5000000\n",
       " [3,]  1.5000000\n",
       " [4,]  3.0000000\n",
       " [5,]  3.1666667\n",
       " [6,] -0.8333333\n",
       " [7,] -3.1666667\n",
       " [8,] -3.5000000\n",
       " [9,] -0.1666667\n",
       "[10,]  2.3333333"
      ]
     },
     "metadata": {},
     "output_type": "display_data"
    }
   ],
   "source": [
    "# Variance\n",
    "var(sales)"
   ]
  },
  {
   "cell_type": "markdown",
   "id": "20723c50",
   "metadata": {},
   "source": [
    "## Tables"
   ]
  },
  {
   "cell_type": "code",
   "execution_count": 13,
   "id": "17141363",
   "metadata": {},
   "outputs": [
    {
     "data": {
      "text/plain": [
       "                                                                        \n",
       "      V1 Min.   :2       1st Qu.:3       Median :4       Mean   :4      \n",
       "      V2 Min.   :4.0     1st Qu.:4.5     Median :5.0     Mean   :5.0    \n",
       "      V3 Min.   :3.0     1st Qu.:3.5     Median :4.0     Mean   :4.0    \n",
       "      V4 Min.   :1.0     1st Qu.:3.5     Median :6.0     Mean   :5.0    \n",
       "      V5 Min.   :3.000   1st Qu.:3.500   Median :4.000   Mean   :4.667  \n",
       "      V6 Min.   :6.000   1st Qu.:6.500   Median :7.000   Mean   :6.667  \n",
       "      V7 Min.   :1.000   1st Qu.:2.500   Median :4.000   Mean   :3.333  \n",
       "      V8 Min.   :3.0     1st Qu.:3.5     Median :4.0     Mean   :5.0    \n",
       "      V9 Min.   :3.000   1st Qu.:4.500   Median :6.000   Mean   :5.333  \n",
       "     V10 Min.   :2.000   1st Qu.:2.500   Median :3.000   Mean   :3.333  \n",
       "                                        \n",
       "      V1 3rd Qu.:5       Max.   :6      \n",
       "      V2 3rd Qu.:5.5     Max.   :6.0    \n",
       "      V3 3rd Qu.:4.5     Max.   :5.0    \n",
       "      V4 3rd Qu.:7.0     Max.   :8.0    \n",
       "      V5 3rd Qu.:5.500   Max.   :7.000  \n",
       "      V6 3rd Qu.:7.000   Max.   :7.000  \n",
       "      V7 3rd Qu.:4.500   Max.   :5.000  \n",
       "      V8 3rd Qu.:6.0     Max.   :8.0    \n",
       "      V9 3rd Qu.:6.500   Max.   :7.000  \n",
       "     V10 3rd Qu.:4.000   Max.   :5.000  "
      ]
     },
     "metadata": {},
     "output_type": "display_data"
    }
   ],
   "source": [
    "# Print summary table of the sales dataframe\n",
    "t(summary(sales))"
   ]
  },
  {
   "cell_type": "code",
   "execution_count": 11,
   "id": "b75e0b9b",
   "metadata": {},
   "outputs": [
    {
     "data": {
      "text/plain": [
       "sales\n",
       "1 2 3 4 5 6 7 8 \n",
       "2 2 5 6 4 5 4 2 "
      ]
     },
     "metadata": {},
     "output_type": "display_data"
    }
   ],
   "source": [
    "# Print frequency table\n",
    "table(sales)"
   ]
  },
  {
   "cell_type": "code",
   "execution_count": 31,
   "id": "2225fa65",
   "metadata": {},
   "outputs": [
    {
     "name": "stderr",
     "output_type": "stream",
     "text": [
      "Warning message in matrix(data_vector, nrow = 10, ncol = 3, byrow = TRUE):\n",
      "\"data length [18] is not a sub-multiple or multiple of the number of rows [10]\"\n"
     ]
    },
    {
     "name": "stdout",
     "output_type": "stream",
     "text": [
      "      [,1] [,2] [,3]\n",
      " [1,]    0    2    0\n",
      " [2,]    3    4    4\n",
      " [3,]    3    2    2\n",
      " [4,]    1    0    2\n",
      " [5,]    2    2    0\n",
      " [6,]    2    2    0\n",
      " [7,]    0    2    0\n",
      " [8,]    3    4    4\n",
      " [9,]    3    2    2\n",
      "[10,]    1    0    2\n"
     ]
    }
   ],
   "source": [
    "# The provided data\n",
    "data_vector <- c(0, 2, 0, 3, 4, 4, 3, 2, 2,\n",
    "                 1, 0, 2, 2, 2, 0, 2, 2, 0)\n",
    "\n",
    "# Create a matrix with 2 rows and 9 columns\n",
    "# Change the nrow and ncol arguments to match your desired dimensions\n",
    "weekend <- matrix(data_vector, nrow =10, ncol = 3, byrow = TRUE)\n",
    "\n",
    "# Print the matrix\n",
    "print(weekend)\n"
   ]
  },
  {
   "cell_type": "code",
   "execution_count": 32,
   "id": "8e8b802b",
   "metadata": {},
   "outputs": [
    {
     "data": {
      "text/plain": [
       "       sales\n",
       "weekend 1 2 3 4 5 6 7 8\n",
       "      0 0 1 1 2 2 1 1 0\n",
       "      1 0 0 0 0 0 2 0 0\n",
       "      2 1 1 2 2 1 1 2 2\n",
       "      3 0 0 1 2 0 1 0 0\n",
       "      4 1 0 1 0 1 0 1 0"
      ]
     },
     "metadata": {},
     "output_type": "display_data"
    }
   ],
   "source": [
    "# Weekend & sales cross-table\n",
    "table(weekend, sales)"
   ]
  },
  {
   "cell_type": "code",
   "execution_count": 26,
   "id": "84fd3ff7",
   "metadata": {},
   "outputs": [
    {
     "data": {
      "text/html": [
       "<table class=\"dataframe\">\n",
       "<caption>A matrix: 3 × 10 of type dbl</caption>\n",
       "<tbody>\n",
       "\t<tr><td>2</td><td>6</td><td>5</td><td>6</td><td>7</td><td>6</td><td>1</td><td>3</td><td>6</td><td>5</td></tr>\n",
       "\t<tr><td>6</td><td>5</td><td>4</td><td>8</td><td>4</td><td>7</td><td>4</td><td>4</td><td>3</td><td>3</td></tr>\n",
       "\t<tr><td>4</td><td>4</td><td>3</td><td>1</td><td>3</td><td>7</td><td>5</td><td>8</td><td>7</td><td>2</td></tr>\n",
       "</tbody>\n",
       "</table>\n"
      ],
      "text/latex": [
       "A matrix: 3 × 10 of type dbl\n",
       "\\begin{tabular}{llllllllll}\n",
       "\t 2 & 6 & 5 & 6 & 7 & 6 & 1 & 3 & 6 & 5\\\\\n",
       "\t 6 & 5 & 4 & 8 & 4 & 7 & 4 & 4 & 3 & 3\\\\\n",
       "\t 4 & 4 & 3 & 1 & 3 & 7 & 5 & 8 & 7 & 2\\\\\n",
       "\\end{tabular}\n"
      ],
      "text/markdown": [
       "\n",
       "A matrix: 3 × 10 of type dbl\n",
       "\n",
       "| 2 | 6 | 5 | 6 | 7 | 6 | 1 | 3 | 6 | 5 |\n",
       "| 6 | 5 | 4 | 8 | 4 | 7 | 4 | 4 | 3 | 3 |\n",
       "| 4 | 4 | 3 | 1 | 3 | 7 | 5 | 8 | 7 | 2 |\n",
       "\n"
      ],
      "text/plain": [
       "     [,1] [,2] [,3] [,4] [,5] [,6] [,7] [,8] [,9] [,10]\n",
       "[1,] 2    6    5    6    7    6    1    3    6    5    \n",
       "[2,] 6    5    4    8    4    7    4    4    3    3    \n",
       "[3,] 4    4    3    1    3    7    5    8    7    2    "
      ]
     },
     "metadata": {},
     "output_type": "display_data"
    }
   ],
   "source": [
    "sales"
   ]
  },
  {
   "cell_type": "code",
   "execution_count": null,
   "id": "2a146158",
   "metadata": {},
   "outputs": [],
   "source": []
  }
 ],
 "metadata": {
  "kernelspec": {
   "display_name": "R",
   "language": "R",
   "name": "ir"
  },
  "language_info": {
   "codemirror_mode": "r",
   "file_extension": ".r",
   "mimetype": "text/x-r-source",
   "name": "R",
   "pygments_lexer": "r",
   "version": "4.3.1"
  }
 },
 "nbformat": 4,
 "nbformat_minor": 5
}
