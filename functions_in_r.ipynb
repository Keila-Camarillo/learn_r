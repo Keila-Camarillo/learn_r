{
 "cells": [
  {
   "cell_type": "code",
   "execution_count": 15,
   "id": "91c4207f",
   "metadata": {},
   "outputs": [
    {
     "name": "stderr",
     "output_type": "stream",
     "text": [
      "\n",
      "Attaching package: 'dplyr'\n",
      "\n",
      "\n",
      "The following objects are masked from 'package:stats':\n",
      "\n",
      "    filter, lag\n",
      "\n",
      "\n",
      "The following objects are masked from 'package:base':\n",
      "\n",
      "    intersect, setdiff, setequal, union\n",
      "\n",
      "\n"
     ]
    }
   ],
   "source": [
    "# imports\n",
    "library(dplyr)"
   ]
  },
  {
   "cell_type": "markdown",
   "id": "644b0db1",
   "metadata": {},
   "source": [
    "## Functions in R\n",
    "custom functions in the global environment using the function() command"
   ]
  },
  {
   "cell_type": "code",
   "execution_count": 1,
   "id": "20bf24cf",
   "metadata": {},
   "outputs": [],
   "source": [
    "# function that would convert test_temp from degrees Celsius to Fahrenheit\n",
    "celsius_to_fahrenheit <- function(dat){\n",
    "  temp_far <- dat*(9/5) + 32\n",
    " \n",
    "  return(temp_far)\n",
    "}"
   ]
  },
  {
   "cell_type": "code",
   "execution_count": 3,
   "id": "147429ff",
   "metadata": {},
   "outputs": [
    {
     "data": {
      "text/html": [
       "61.7"
      ],
      "text/latex": [
       "61.7"
      ],
      "text/markdown": [
       "61.7"
      ],
      "text/plain": [
       "[1] 61.7"
      ]
     },
     "metadata": {},
     "output_type": "display_data"
    }
   ],
   "source": [
    "test_temp <- 16.5\n",
    "# call function\n",
    "dat_far <- celsius_to_fahrenheit(test_temp)\n",
    "dat_far"
   ]
  },
  {
   "cell_type": "markdown",
   "id": "5fcbe48b",
   "metadata": {},
   "source": [
    "## apply()\n",
    "The apply() function is a kind of shortcut to custom functions. As given in its name, it applies a function to either each row or column of a dataframe or matrix.\n",
    "    \n",
    "    apply(X, MARGIN, FUN)\n",
    "    \n",
    "The MARGIN specification determines whether the function FUN is applied across the rows (1) or down the columns (2) of the object X."
   ]
  },
  {
   "cell_type": "code",
   "execution_count": 4,
   "id": "26c904c6",
   "metadata": {},
   "outputs": [
    {
     "data": {
      "text/html": [
       "<table class=\"dataframe\">\n",
       "<caption>A matrix: 2 × 3 of type dbl</caption>\n",
       "<tbody>\n",
       "\t<tr><td>1</td><td>1</td><td>1</td></tr>\n",
       "\t<tr><td>2</td><td>2</td><td>2</td></tr>\n",
       "</tbody>\n",
       "</table>\n"
      ],
      "text/latex": [
       "A matrix: 2 × 3 of type dbl\n",
       "\\begin{tabular}{lll}\n",
       "\t 1 & 1 & 1\\\\\n",
       "\t 2 & 2 & 2\\\\\n",
       "\\end{tabular}\n"
      ],
      "text/markdown": [
       "\n",
       "A matrix: 2 × 3 of type dbl\n",
       "\n",
       "| 1 | 1 | 1 |\n",
       "| 2 | 2 | 2 |\n",
       "\n"
      ],
      "text/plain": [
       "     [,1] [,2] [,3]\n",
       "[1,] 1    1    1   \n",
       "[2,] 2    2    2   "
      ]
     },
     "metadata": {},
     "output_type": "display_data"
    }
   ],
   "source": [
    "test_mat <- matrix(data = c(1, 2), nrow = 2, ncol = 3)\n",
    "test_mat"
   ]
  },
  {
   "cell_type": "code",
   "execution_count": 7,
   "id": "3c324c94",
   "metadata": {},
   "outputs": [
    {
     "data": {
      "text/html": [
       "<style>\n",
       ".list-inline {list-style: none; margin:0; padding: 0}\n",
       ".list-inline>li {display: inline-block}\n",
       ".list-inline>li:not(:last-child)::after {content: \"\\00b7\"; padding: 0 .5ex}\n",
       "</style>\n",
       "<ol class=list-inline><li>3</li><li>6</li></ol>\n"
      ],
      "text/latex": [
       "\\begin{enumerate*}\n",
       "\\item 3\n",
       "\\item 6\n",
       "\\end{enumerate*}\n"
      ],
      "text/markdown": [
       "1. 3\n",
       "2. 6\n",
       "\n",
       "\n"
      ],
      "text/plain": [
       "[1] 3 6"
      ]
     },
     "metadata": {},
     "output_type": "display_data"
    }
   ],
   "source": [
    "# apply the sum() function over each row (margin value 1)\n",
    "apply(X = test_mat, MARGIN = 1, FUN = sum)"
   ]
  },
  {
   "cell_type": "code",
   "execution_count": 10,
   "id": "371c3184",
   "metadata": {},
   "outputs": [
    {
     "data": {
      "text/html": [
       "<style>\n",
       ".list-inline {list-style: none; margin:0; padding: 0}\n",
       ".list-inline>li {display: inline-block}\n",
       ".list-inline>li:not(:last-child)::after {content: \"\\00b7\"; padding: 0 .5ex}\n",
       "</style>\n",
       "<ol class=list-inline><li>3</li><li>3</li><li>3</li></ol>\n"
      ],
      "text/latex": [
       "\\begin{enumerate*}\n",
       "\\item 3\n",
       "\\item 3\n",
       "\\item 3\n",
       "\\end{enumerate*}\n"
      ],
      "text/markdown": [
       "1. 3\n",
       "2. 3\n",
       "3. 3\n",
       "\n",
       "\n"
      ],
      "text/plain": [
       "[1] 3 3 3"
      ]
     },
     "metadata": {},
     "output_type": "display_data"
    }
   ],
   "source": [
    "# apply the sum() function down each column (margin value 2)\n",
    "apply(X = test_mat, MARGIN = 2, FUN = sum)"
   ]
  },
  {
   "cell_type": "code",
   "execution_count": 18,
   "id": "7b647209",
   "metadata": {},
   "outputs": [],
   "source": [
    "# Create the tibble\n",
    "dat <- tibble(\n",
    "  test1 = c(87, 92, 73, 85, 95, 86, 89, 80, 75, 91),\n",
    "  test2 = c(85, 87, 82, 90, 92, 90, 82, 84, 86, 88),\n",
    "  quiz1 = c(10, 9, 10, 8, 10, 7, 9, 8, 9, 8),\n",
    "  quiz2 = c(8, 9, 10, 8, 8, 8, 9, 10, 9, 9)\n",
    ")"
   ]
  },
  {
   "cell_type": "code",
   "execution_count": 21,
   "id": "c6768013",
   "metadata": {},
   "outputs": [
    {
     "data": {
      "text/html": [
       "<style>\n",
       ".dl-inline {width: auto; margin:0; padding: 0}\n",
       ".dl-inline>dt, .dl-inline>dd {float: none; width: auto; display: inline-block}\n",
       ".dl-inline>dt::after {content: \":\\0020\"; padding-right: .5ex}\n",
       ".dl-inline>dt:not(:first-of-type) {padding-left: .5ex}\n",
       "</style><dl class=dl-inline><dt>test1</dt><dd>95</dd><dt>test2</dt><dd>92</dd><dt>quiz1</dt><dd>10</dd><dt>quiz2</dt><dd>10</dd></dl>\n"
      ],
      "text/latex": [
       "\\begin{description*}\n",
       "\\item[test1] 95\n",
       "\\item[test2] 92\n",
       "\\item[quiz1] 10\n",
       "\\item[quiz2] 10\n",
       "\\end{description*}\n"
      ],
      "text/markdown": [
       "test1\n",
       ":   95test2\n",
       ":   92quiz1\n",
       ":   10quiz2\n",
       ":   10\n",
       "\n"
      ],
      "text/plain": [
       "test1 test2 quiz1 quiz2 \n",
       "   95    92    10    10 "
      ]
     },
     "metadata": {},
     "output_type": "display_data"
    }
   ],
   "source": [
    "# use apply() to get the maximum of each column, 1=rows, 2=columns\n",
    "apply(dat, 2, max)"
   ]
  },
  {
   "cell_type": "code",
   "execution_count": null,
   "id": "fabeb61a",
   "metadata": {},
   "outputs": [],
   "source": []
  }
 ],
 "metadata": {
  "kernelspec": {
   "display_name": "R",
   "language": "R",
   "name": "ir"
  },
  "language_info": {
   "codemirror_mode": "r",
   "file_extension": ".r",
   "mimetype": "text/x-r-source",
   "name": "R",
   "pygments_lexer": "r",
   "version": "4.3.1"
  }
 },
 "nbformat": 4,
 "nbformat_minor": 5
}
