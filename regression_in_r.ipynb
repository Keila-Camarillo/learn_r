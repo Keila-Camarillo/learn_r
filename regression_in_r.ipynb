{
 "cells": [
  {
   "cell_type": "markdown",
   "id": "fa781934",
   "metadata": {},
   "source": [
    "## Linear regression\n",
    "Linear regression models are created using the lm() function. The required parameters of this function are formula and data.\n",
    "A useful way to view the output of the linear model is to save the model to an object and then use summary(model).\n",
    "\n",
    "Let’s say we want to run a regression on a dataset df that has an outcome variable y and predictors x1, x2, and x3. We could make the linear mode"
   ]
  },
  {
   "cell_type": "code",
   "execution_count": 3,
   "id": "9ebfe35d",
   "metadata": {},
   "outputs": [],
   "source": [
    "# Creating the faux dataframe\n",
    "df <- data.frame(y = c(1, 2, 3, 4, 5),\n",
    "  x1 = c(0.1, 0.2, 0.3, 0.4, 0.5),\n",
    "  x2 = c(10, 20, 30, 40, 50),\n",
    "  x3 = c(100, 200, 300, 400, 500))"
   ]
  },
  {
   "cell_type": "code",
   "execution_count": 4,
   "id": "318a3b90",
   "metadata": {},
   "outputs": [
    {
     "name": "stderr",
     "output_type": "stream",
     "text": [
      "Warning message in summary.lm(lm1):\n",
      "\"essentially perfect fit: summary may be unreliable\"\n"
     ]
    },
    {
     "data": {
      "text/plain": [
       "\n",
       "Call:\n",
       "lm(formula = y ~ x1 + x2 + x3, data = df)\n",
       "\n",
       "Residuals:\n",
       "         1          2          3          4          5 \n",
       "-5.292e-16  5.398e-16  2.689e-16 -4.055e-17 -2.390e-16 \n",
       "\n",
       "Coefficients: (2 not defined because of singularities)\n",
       "              Estimate Std. Error    t value Pr(>|t|)    \n",
       "(Intercept) -7.944e-16  5.076e-16 -1.565e+00    0.216    \n",
       "x1           1.000e+01  1.530e-15  6.535e+15   <2e-16 ***\n",
       "x2                  NA         NA         NA       NA    \n",
       "x3                  NA         NA         NA       NA    \n",
       "---\n",
       "Signif. codes:  0 '***' 0.001 '**' 0.01 '*' 0.05 '.' 0.1 ' ' 1\n",
       "\n",
       "Residual standard error: 4.839e-16 on 3 degrees of freedom\n",
       "Multiple R-squared:      1,\tAdjusted R-squared:      1 \n",
       "F-statistic: 4.27e+31 on 1 and 3 DF,  p-value: < 2.2e-16\n"
      ]
     },
     "metadata": {},
     "output_type": "display_data"
    }
   ],
   "source": [
    "# Create the model\n",
    "lm1 <- lm(y ~ x1 + x2 + x3, data = df)\n",
    " \n",
    "# Print summary\n",
    "summary(lm1)"
   ]
  },
  {
   "cell_type": "code",
   "execution_count": 5,
   "id": "dce80cb3",
   "metadata": {},
   "outputs": [
    {
     "name": "stderr",
     "output_type": "stream",
     "text": [
      "Warning message in summary.lm(lm1):\n",
      "\"essentially perfect fit: summary may be unreliable\"\n"
     ]
    },
    {
     "data": {
      "text/html": [
       "<table class=\"dataframe\">\n",
       "<caption>A matrix: 2 × 4 of type dbl</caption>\n",
       "<thead>\n",
       "\t<tr><th></th><th scope=col>Estimate</th><th scope=col>Std. Error</th><th scope=col>t value</th><th scope=col>Pr(&gt;|t|)</th></tr>\n",
       "</thead>\n",
       "<tbody>\n",
       "\t<tr><th scope=row>(Intercept)</th><td>-7.944109e-16</td><td>5.075553e-16</td><td>-1.565171e+00</td><td>2.155100e-01</td></tr>\n",
       "\t<tr><th scope=row>x1</th><td> 1.000000e+01</td><td>1.530337e-15</td><td> 6.534509e+15</td><td>7.903725e-48</td></tr>\n",
       "</tbody>\n",
       "</table>\n"
      ],
      "text/latex": [
       "A matrix: 2 × 4 of type dbl\n",
       "\\begin{tabular}{r|llll}\n",
       "  & Estimate & Std. Error & t value & Pr(>\\textbar{}t\\textbar{})\\\\\n",
       "\\hline\n",
       "\t(Intercept) & -7.944109e-16 & 5.075553e-16 & -1.565171e+00 & 2.155100e-01\\\\\n",
       "\tx1 &  1.000000e+01 & 1.530337e-15 &  6.534509e+15 & 7.903725e-48\\\\\n",
       "\\end{tabular}\n"
      ],
      "text/markdown": [
       "\n",
       "A matrix: 2 × 4 of type dbl\n",
       "\n",
       "| <!--/--> | Estimate | Std. Error | t value | Pr(&gt;|t|) |\n",
       "|---|---|---|---|---|\n",
       "| (Intercept) | -7.944109e-16 | 5.075553e-16 | -1.565171e+00 | 2.155100e-01 |\n",
       "| x1 |  1.000000e+01 | 1.530337e-15 |  6.534509e+15 | 7.903725e-48 |\n",
       "\n"
      ],
      "text/plain": [
       "            Estimate      Std. Error   t value       Pr(>|t|)    \n",
       "(Intercept) -7.944109e-16 5.075553e-16 -1.565171e+00 2.155100e-01\n",
       "x1           1.000000e+01 1.530337e-15  6.534509e+15 7.903725e-48"
      ]
     },
     "metadata": {},
     "output_type": "display_data"
    }
   ],
   "source": [
    "# Estimate column returns the regression coefficients for each variable. \n",
    "# We can call summary(lm1)$coefficients to extract just the estimates as a vector.\n",
    "summary(lm1)$coefficients"
   ]
  },
  {
   "cell_type": "markdown",
   "id": "541284a8",
   "metadata": {},
   "source": [
    "Pr(>|t|) column returns the associated p-value for each variable. Any amount of * next to a p-value means there is a p-value of 0.05 or less.\n"
   ]
  },
  {
   "cell_type": "markdown",
   "id": "a25694b7",
   "metadata": {},
   "source": [
    "## Logistic regression\n",
    "The function for a logistic regression model is similar to linear regression except we use glm(), and we have to specify family. family indicates the type of regression we want to perform. Generally logistic regression will use family = binomial()."
   ]
  },
  {
   "cell_type": "code",
   "execution_count": 15,
   "id": "0a33a01b",
   "metadata": {},
   "outputs": [],
   "source": [
    "# Creating the faux dataset\n",
    "df <- data.frame(\n",
    "  y = c(1, 0, 1, 0, 1),   # Binary response variable (0 or 1)\n",
    "  x1 = c(0.1, 0.2, 0.3, 0.4, 0.5),\n",
    "  x2 = c(10, 20, 30, 40, 50),\n",
    "  x3 = c(100, 200, 300, 400, 500)\n",
    ")"
   ]
  },
  {
   "cell_type": "code",
   "execution_count": 17,
   "id": "8ad27a25",
   "metadata": {},
   "outputs": [
    {
     "data": {
      "text/plain": [
       "\n",
       "Call:\n",
       "glm(formula = y ~ x1 + x2 + x3, family = binomial, data = df)\n",
       "\n",
       "Coefficients: (2 not defined because of singularities)\n",
       "             Estimate Std. Error z value Pr(>|z|)\n",
       "(Intercept) 4.055e-01  2.141e+00   0.189     0.85\n",
       "x1          1.433e-15  6.455e+00   0.000     1.00\n",
       "x2                 NA         NA      NA       NA\n",
       "x3                 NA         NA      NA       NA\n",
       "\n",
       "(Dispersion parameter for binomial family taken to be 1)\n",
       "\n",
       "    Null deviance: 6.7301  on 4  degrees of freedom\n",
       "Residual deviance: 6.7301  on 3  degrees of freedom\n",
       "AIC: 10.73\n",
       "\n",
       "Number of Fisher Scoring iterations: 4\n"
      ]
     },
     "metadata": {},
     "output_type": "display_data"
    }
   ],
   "source": [
    "# Create the model\n",
    "glm1 <- glm(y ~ x1 + x2 + x3, data = df, family = binomial)\n",
    " \n",
    "# Print the summary\n",
    "summary(glm1)"
   ]
  },
  {
   "cell_type": "markdown",
   "id": "1cd18dc9",
   "metadata": {},
   "source": [
    "## Predictions\n",
    "To make predictions of the outcome variable using a regression model, we need a dataset whose column names match the names of the coefficients in the model. Once the column names match, we can use the predict() function to generate predictions. The model will produce 1 predicted outcome for each observation in this new dataset."
   ]
  },
  {
   "cell_type": "code",
   "execution_count": 18,
   "id": "9ac19bf9",
   "metadata": {},
   "outputs": [
    {
     "name": "stderr",
     "output_type": "stream",
     "text": [
      "Warning message in predict.lm(lm1, pred_data):\n",
      "\"prediction from rank-deficient fit; attr(*, \"non-estim\") has doubtful cases\"\n"
     ]
    },
    {
     "data": {
      "text/html": [
       "<style>\n",
       ".dl-inline {width: auto; margin:0; padding: 0}\n",
       ".dl-inline>dt, .dl-inline>dd {float: none; width: auto; display: inline-block}\n",
       ".dl-inline>dt::after {content: \":\\0020\"; padding-right: .5ex}\n",
       ".dl-inline>dt:not(:first-of-type) {padding-left: .5ex}\n",
       "</style><dl class=dl-inline><dt>1</dt><dd>-7.94410929039127e-16</dd><dt>2</dt><dd>10</dd><dt>3</dt><dd>-10</dd></dl>\n"
      ],
      "text/latex": [
       "\\begin{description*}\n",
       "\\item[1] -7.94410929039127e-16\n",
       "\\item[2] 10\n",
       "\\item[3] -10\n",
       "\\end{description*}\n"
      ],
      "text/markdown": [
       "1\n",
       ":   -7.94410929039127e-162\n",
       ":   103\n",
       ":   -10\n",
       "\n"
      ],
      "text/plain": [
       "            1             2             3 \n",
       "-7.944109e-16  1.000000e+01 -1.000000e+01 \n",
       "attr(,\"non-estim\")\n",
       "1 2 3 \n",
       "1 2 3 "
      ]
     },
     "metadata": {},
     "output_type": "display_data"
    }
   ],
   "source": [
    "pred_data <- data.frame(\n",
    "  x1 = c(0, 1, -1), \n",
    "  x2 = c(1, 6, 5),\n",
    "  x3 = c(10, -4, 9)\n",
    ")\n",
    " \n",
    "predict(lm1, pred_data)"
   ]
  },
  {
   "cell_type": "code",
   "execution_count": null,
   "id": "46c710aa",
   "metadata": {},
   "outputs": [],
   "source": []
  }
 ],
 "metadata": {
  "kernelspec": {
   "display_name": "R",
   "language": "R",
   "name": "ir"
  },
  "language_info": {
   "codemirror_mode": "r",
   "file_extension": ".r",
   "mimetype": "text/x-r-source",
   "name": "R",
   "pygments_lexer": "r",
   "version": "4.3.1"
  }
 },
 "nbformat": 4,
 "nbformat_minor": 5
}
